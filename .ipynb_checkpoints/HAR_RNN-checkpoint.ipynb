{
 "cells": [
  {
   "cell_type": "markdown",
   "metadata": {
    "colab_type": "text",
    "id": "view-in-github"
   },
   "source": [
    "<a href=\"https://colab.research.google.com/github/AnirbanMukherjeeXD/human-activity-recognition/blob/master/HAR_RNN.ipynb\" target=\"_parent\"><img src=\"https://colab.research.google.com/assets/colab-badge.svg\" alt=\"Open In Colab\"/></a>"
   ]
  },
  {
   "cell_type": "markdown",
   "metadata": {
    "colab_type": "text",
    "id": "D4-mpkKsIn0X"
   },
   "source": [
    "## Kaggle API dataset"
   ]
  },
  {
   "cell_type": "code",
   "execution_count": 0,
   "metadata": {
    "colab": {},
    "colab_type": "code",
    "id": "eYTJjaIJIjLb"
   },
   "outputs": [],
   "source": [
    "!mkdir -p ~/.kaggle\n",
    "!cp kaggle.json ~/.kaggle/\n",
    "\n",
    "# This permissions change avoids a warning on Kaggle tool startup.\n",
    "!chmod 600 ~/.kaggle/kaggle.json"
   ]
  },
  {
   "cell_type": "code",
   "execution_count": 0,
   "metadata": {
    "colab": {
     "base_uri": "https://localhost:8080/",
     "height": 67
    },
    "colab_type": "code",
    "id": "tP8KjoGonqX9",
    "outputId": "de82ea6a-f8e8-4321-f2bf-0fd3ee3ad3cd"
   },
   "outputs": [
    {
     "name": "stdout",
     "output_type": "stream",
     "text": [
      "Downloading human-activity-recognition.zip to /content\n",
      "\r",
      "  0% 0.00/119M [00:00<?, ?B/s]\r",
      "  4% 5.00M/119M [00:00<00:02, 47.3MB/s]\r",
      " 30% 36.0M/119M [00:00<00:01, 63.6MB/s]\r",
      " 41% 49.0M/119M [00:00<00:01, 62.5MB/s]\r",
      " 65% 78.0M/119M [00:00<00:00, 81.9MB/s]\r",
      " 87% 104M/119M [00:00<00:00, 104MB/s]  \n",
      "\r",
      "100% 119M/119M [00:00<00:00, 175MB/s]\n"
     ]
    }
   ],
   "source": [
    "!kaggle datasets download -d erenaktas/human-activity-recognition --unzip"
   ]
  },
  {
   "cell_type": "markdown",
   "metadata": {
    "colab_type": "text",
    "id": "GSTXeARzIYVe"
   },
   "source": [
    "## Importing libraries"
   ]
  },
  {
   "cell_type": "code",
   "execution_count": 0,
   "metadata": {
    "colab": {},
    "colab_type": "code",
    "id": "R07UoIccniHd"
   },
   "outputs": [],
   "source": [
    "%tensorflow_version 2.x"
   ]
  },
  {
   "cell_type": "code",
   "execution_count": 0,
   "metadata": {
    "colab": {
     "base_uri": "https://localhost:8080/",
     "height": 70
    },
    "colab_type": "code",
    "id": "C6nhq_FUnv32",
    "outputId": "a4059df5-7747-4642-b46b-dfdd5fb490cc"
   },
   "outputs": [
    {
     "name": "stderr",
     "output_type": "stream",
     "text": [
      "/usr/local/lib/python3.6/dist-packages/statsmodels/tools/_testing.py:19: FutureWarning: pandas.util.testing is deprecated. Use the functions in the public API at pandas.testing instead.\n",
      "  import pandas.util.testing as tm\n"
     ]
    }
   ],
   "source": [
    "import numpy as np \n",
    "import pandas as pd \n",
    "import os\n",
    "import seaborn as sns\n",
    "import matplotlib.pyplot as plt\n",
    "from numpy import mean\n",
    "from numpy import std\n",
    "from numpy import dstack\n",
    "from sklearn.metrics import confusion_matrix"
   ]
  },
  {
   "cell_type": "code",
   "execution_count": 0,
   "metadata": {
    "colab": {},
    "colab_type": "code",
    "id": "ufTUV1vPg5Kf"
   },
   "outputs": [],
   "source": [
    "import tensorflow as tf\n",
    "from tensorflow.keras.models import Sequential\n",
    "from tensorflow.keras.layers import Dense, Flatten, Dropout,SimpleRNN, GRU, LSTM\n",
    "from tensorflow import feature_column\n",
    "from tensorflow.keras.utils import to_categorical\n",
    "from tensorflow.keras.models import load_model"
   ]
  },
  {
   "cell_type": "markdown",
   "metadata": {
    "colab_type": "text",
    "id": "z8bm8SK5XeN6"
   },
   "source": [
    "## Dataset Loading"
   ]
  },
  {
   "cell_type": "code",
   "execution_count": 0,
   "metadata": {
    "colab": {},
    "colab_type": "code",
    "id": "DmVk-2Pr99Q-"
   },
   "outputs": [],
   "source": [
    "# load a single file as a numpy array\n",
    "def load_file(filepath):\n",
    "\tdataframe = pd.read_csv(filepath, header=None, delim_whitespace=True)\n",
    "\tprint(\"Loading: \",filepath)\n",
    "\treturn dataframe.values"
   ]
  },
  {
   "cell_type": "code",
   "execution_count": 0,
   "metadata": {
    "colab": {},
    "colab_type": "code",
    "id": "mtTrapUq-AXl"
   },
   "outputs": [],
   "source": [
    "# load a list of files into a 3D array of [samples, timesteps, features]\n",
    "def load_group(filenames, prefix=''):\n",
    "\tloaded = list()\n",
    "\tfor name in filenames:\n",
    "\t\tdata = load_file(prefix + name)\n",
    "\t\tloaded.append(data)\n",
    "\t# stack group so that features are the 3rd dimension\n",
    "\tloaded = dstack(loaded)\n",
    "\treturn loaded"
   ]
  },
  {
   "cell_type": "code",
   "execution_count": 0,
   "metadata": {
    "colab": {},
    "colab_type": "code",
    "id": "fAST9AtN-GvD"
   },
   "outputs": [],
   "source": [
    "# load a dataset group, such as train or test\n",
    "def load_dataset_group(group, prefix=''):\n",
    "\tfilepath = prefix + group + '/Inertial Signals/'\n",
    "\t# load all 9 files as a single array\n",
    "\tfilenames = list()\n",
    "\t# total acceleration\n",
    "\tfilenames += ['total_acc_x_'+group+'.txt', 'total_acc_y_'+group+'.txt', 'total_acc_z_'+group+'.txt']\n",
    "\t# body acceleration\n",
    "\tfilenames += ['body_acc_x_'+group+'.txt', 'body_acc_y_'+group+'.txt', 'body_acc_z_'+group+'.txt']\n",
    "\t# body gyroscope\n",
    "\tfilenames += ['body_gyro_x_'+group+'.txt', 'body_gyro_y_'+group+'.txt', 'body_gyro_z_'+group+'.txt']\n",
    "\t# load input data\n",
    "\tX = load_group(filenames, filepath)\n",
    "\t# load class output\n",
    "\ty = load_file(prefix + group + '/y_'+group+'.txt')\n",
    "\treturn X, y"
   ]
  },
  {
   "cell_type": "code",
   "execution_count": 0,
   "metadata": {
    "colab": {},
    "colab_type": "code",
    "id": "uaGAdutd-N2e"
   },
   "outputs": [],
   "source": [
    "# load the dataset, returns train and test X and y elements\n",
    "def load_dataset(prefix=''):\n",
    "\t# load all train\n",
    "\ttrainX, trainy = load_dataset_group('train', prefix + 'UCI_HAR_Dataset/')\n",
    "\tprint(trainX.shape, trainy.shape)\n",
    "\t# load all test\n",
    "\ttestX, testy = load_dataset_group('test', prefix + 'UCI_HAR_Dataset/')\n",
    "\tprint(testX.shape, testy.shape)\n",
    "\t# zero-offset class values\n",
    "\ttrainy = trainy - 1\n",
    "\ttesty = testy - 1\n",
    "\t# one hot encode y\n",
    "\ttrainy = to_categorical(trainy)\n",
    "\ttesty = to_categorical(testy)\n",
    "\tprint(trainX.shape, trainy.shape, testX.shape, testy.shape)\n",
    "\treturn trainX, trainy, testX, testy"
   ]
  },
  {
   "cell_type": "code",
   "execution_count": 0,
   "metadata": {
    "colab": {
     "base_uri": "https://localhost:8080/",
     "height": 403
    },
    "colab_type": "code",
    "id": "5PKaceXVXyIP",
    "outputId": "2140e8a1-7024-4dc8-bece-08e3827f8955"
   },
   "outputs": [
    {
     "name": "stdout",
     "output_type": "stream",
     "text": [
      "Loading:  UCI_HAR_Dataset/train/Inertial Signals/total_acc_x_train.txt\n",
      "Loading:  UCI_HAR_Dataset/train/Inertial Signals/total_acc_y_train.txt\n",
      "Loading:  UCI_HAR_Dataset/train/Inertial Signals/total_acc_z_train.txt\n",
      "Loading:  UCI_HAR_Dataset/train/Inertial Signals/body_acc_x_train.txt\n",
      "Loading:  UCI_HAR_Dataset/train/Inertial Signals/body_acc_y_train.txt\n",
      "Loading:  UCI_HAR_Dataset/train/Inertial Signals/body_acc_z_train.txt\n",
      "Loading:  UCI_HAR_Dataset/train/Inertial Signals/body_gyro_x_train.txt\n",
      "Loading:  UCI_HAR_Dataset/train/Inertial Signals/body_gyro_y_train.txt\n",
      "Loading:  UCI_HAR_Dataset/train/Inertial Signals/body_gyro_z_train.txt\n",
      "Loading:  UCI_HAR_Dataset/train/y_train.txt\n",
      "(7352, 128, 9) (7352, 1)\n",
      "Loading:  UCI_HAR_Dataset/test/Inertial Signals/total_acc_x_test.txt\n",
      "Loading:  UCI_HAR_Dataset/test/Inertial Signals/total_acc_y_test.txt\n",
      "Loading:  UCI_HAR_Dataset/test/Inertial Signals/total_acc_z_test.txt\n",
      "Loading:  UCI_HAR_Dataset/test/Inertial Signals/body_acc_x_test.txt\n",
      "Loading:  UCI_HAR_Dataset/test/Inertial Signals/body_acc_y_test.txt\n",
      "Loading:  UCI_HAR_Dataset/test/Inertial Signals/body_acc_z_test.txt\n",
      "Loading:  UCI_HAR_Dataset/test/Inertial Signals/body_gyro_x_test.txt\n",
      "Loading:  UCI_HAR_Dataset/test/Inertial Signals/body_gyro_y_test.txt\n",
      "Loading:  UCI_HAR_Dataset/test/Inertial Signals/body_gyro_z_test.txt\n",
      "Loading:  UCI_HAR_Dataset/test/y_test.txt\n",
      "(2947, 128, 9) (2947, 1)\n",
      "(7352, 128, 9) (7352, 6) (2947, 128, 9) (2947, 6)\n"
     ]
    }
   ],
   "source": [
    "X_train, Y_train, X_test, Y_test = load_dataset()"
   ]
  },
  {
   "cell_type": "code",
   "execution_count": 0,
   "metadata": {
    "colab": {
     "base_uri": "https://localhost:8080/",
     "height": 34
    },
    "colab_type": "code",
    "id": "W5h7yQAku7dC",
    "outputId": "8e9331bb-5534-4b08-bc17-c891c13bd280"
   },
   "outputs": [
    {
     "data": {
      "text/plain": [
       "(7352, 128, 9)"
      ]
     },
     "execution_count": 23,
     "metadata": {
      "tags": []
     },
     "output_type": "execute_result"
    }
   ],
   "source": [
    "X_train.shape"
   ]
  },
  {
   "cell_type": "code",
   "execution_count": 0,
   "metadata": {
    "colab": {
     "base_uri": "https://localhost:8080/",
     "height": 34
    },
    "colab_type": "code",
    "id": "wE4xXdudwcuC",
    "outputId": "31eca72c-28e5-44cb-9b1c-6588f55dcd59"
   },
   "outputs": [
    {
     "data": {
      "text/plain": [
       "(7352, 6)"
      ]
     },
     "execution_count": 26,
     "metadata": {
      "tags": []
     },
     "output_type": "execute_result"
    }
   ],
   "source": [
    "Y_train.shape"
   ]
  },
  {
   "cell_type": "code",
   "execution_count": 0,
   "metadata": {
    "colab": {
     "base_uri": "https://localhost:8080/",
     "height": 34
    },
    "colab_type": "code",
    "id": "Dz-f365Kwn2e",
    "outputId": "d8cd0564-c7cd-4222-db33-53a5bb3dd4ee"
   },
   "outputs": [
    {
     "data": {
      "text/plain": [
       "(128,)"
      ]
     },
     "execution_count": 40,
     "metadata": {
      "tags": []
     },
     "output_type": "execute_result"
    }
   ],
   "source": [
    "X_train[0,:,0].shape"
   ]
  },
  {
   "cell_type": "code",
   "execution_count": 0,
   "metadata": {
    "colab": {
     "base_uri": "https://localhost:8080/",
     "height": 282
    },
    "colab_type": "code",
    "id": "NJq0ve5qwYu5",
    "outputId": "5c8b1014-cffe-467d-c63e-3a20c42aa07c"
   },
   "outputs": [
    {
     "data": {
      "text/plain": [
       "[<matplotlib.lines.Line2D at 0x7fe56b20b748>]"
      ]
     },
     "execution_count": 45,
     "metadata": {
      "tags": []
     },
     "output_type": "execute_result"
    },
    {
     "data": {
      "image/png": "[encoded data removed]",
      "text/plain": [
       "<Figure size 432x288 with 1 Axes>"
      ]
     },
     "metadata": {
      "tags": []
     },
     "output_type": "display_data"
    }
   ],
   "source": [
    "plt.plot(X_train[0,:,0])"
   ]
  },
  {
   "cell_type": "markdown",
   "metadata": {
    "colab_type": "text",
    "id": "8J4eqtGwlkjJ"
   },
   "source": [
    "## Model 1: GRU"
   ]
  },
  {
   "cell_type": "code",
   "execution_count": 0,
   "metadata": {
    "colab": {
     "base_uri": "https://localhost:8080/",
     "height": 34
    },
    "colab_type": "code",
    "id": "evnUk3VZ9Woj",
    "outputId": "52ec05a3-3349-413f-d738-36a0170d8211"
   },
   "outputs": [
    {
     "name": "stdout",
     "output_type": "stream",
     "text": [
      "WARNING:tensorflow:Error in loading the saved optimizer state. As a result, your model is starting with a freshly initialized optimizer.\n"
     ]
    }
   ],
   "source": [
    "model=load_model('gru.h5')"
   ]
  },
  {
   "cell_type": "code",
   "execution_count": 0,
   "metadata": {
    "colab": {},
    "colab_type": "code",
    "id": "Z5U9N3kqlkjP"
   },
   "outputs": [],
   "source": [
    "verbose, epochs, batch_size = 2, 10, 32"
   ]
  },
  {
   "cell_type": "code",
   "execution_count": 0,
   "metadata": {
    "colab": {},
    "colab_type": "code",
    "id": "MUxOL5EUlkjS"
   },
   "outputs": [],
   "source": [
    "n_timesteps, n_features, n_outputs = X_train.shape[1], X_train.shape[2], Y_train.shape[1]"
   ]
  },
  {
   "cell_type": "code",
   "execution_count": 0,
   "metadata": {
    "colab": {
     "base_uri": "https://localhost:8080/",
     "height": 34
    },
    "colab_type": "code",
    "id": "4LnGlY4qlkjV",
    "outputId": "8a6f7bbb-f818-4219-ba33-37af8cff4a97"
   },
   "outputs": [
    {
     "name": "stdout",
     "output_type": "stream",
     "text": [
      "128 9 6\n"
     ]
    }
   ],
   "source": [
    "print(n_timesteps, n_features, n_outputs)"
   ]
  },
  {
   "cell_type": "code",
   "execution_count": 0,
   "metadata": {
    "colab": {},
    "colab_type": "code",
    "id": "eWqg8PrRlkjY"
   },
   "outputs": [],
   "source": [
    "model = Sequential()\n",
    "model.add(GRU(100,return_sequences=True,input_shape=(n_timesteps,n_features)))\n",
    "model.add(GRU(64))\n",
    "model.add(Dropout(0.15))\n",
    "model.add(Dense(64, activation='tanh'))\n",
    "model.add(Dense(n_outputs, activation='softmax'))"
   ]
  },
  {
   "cell_type": "code",
   "execution_count": 0,
   "metadata": {
    "colab": {},
    "colab_type": "code",
    "id": "soYasrMglkja"
   },
   "outputs": [],
   "source": [
    "model.compile(loss='categorical_crossentropy', optimizer='adam', metrics=['accuracy'])"
   ]
  },
  {
   "cell_type": "code",
   "execution_count": 0,
   "metadata": {
    "colab": {
     "base_uri": "https://localhost:8080/",
     "height": 319
    },
    "colab_type": "code",
    "id": "jtlji4-4lkjd",
    "outputId": "42398698-f945-45ea-ded5-f4cadfc103b5"
   },
   "outputs": [
    {
     "name": "stdout",
     "output_type": "stream",
     "text": [
      "Model: \"sequential\"\n",
      "_________________________________________________________________\n",
      "Layer (type)                 Output Shape              Param #   \n",
      "=================================================================\n",
      "gru (GRU)                    (None, 128, 100)          33300     \n",
      "_________________________________________________________________\n",
      "gru_1 (GRU)                  (None, 64)                31872     \n",
      "_________________________________________________________________\n",
      "dropout (Dropout)            (None, 64)                0         \n",
      "_________________________________________________________________\n",
      "dense (Dense)                (None, 64)                4160      \n",
      "_________________________________________________________________\n",
      "dense_1 (Dense)              (None, 6)                 390       \n",
      "=================================================================\n",
      "Total params: 69,722\n",
      "Trainable params: 69,722\n",
      "Non-trainable params: 0\n",
      "_________________________________________________________________\n"
     ]
    }
   ],
   "source": [
    "model.summary()"
   ]
  },
  {
   "cell_type": "code",
   "execution_count": 0,
   "metadata": {
    "colab": {},
    "colab_type": "code",
    "id": "edEhk5_slkjh"
   },
   "outputs": [],
   "source": [
    "simple_rnn_params=model.count_params()"
   ]
  },
  {
   "cell_type": "code",
   "execution_count": 0,
   "metadata": {
    "colab": {
     "base_uri": "https://localhost:8080/",
     "height": 1000
    },
    "colab_type": "code",
    "id": "gGeIBV_9lkjj",
    "outputId": "5706b517-2bd4-4c15-b78f-9bb0e68e125d"
   },
   "outputs": [
    {
     "name": "stdout",
     "output_type": "stream",
     "text": [
      "Epoch 1/100\n",
      "230/230 - 3s - loss: 0.9841 - accuracy: 0.5816\n",
      "Epoch 2/100\n",
      "230/230 - 2s - loss: 0.2566 - accuracy: 0.9075\n",
      "Epoch 3/100\n",
      "230/230 - 3s - loss: 0.1519 - accuracy: 0.9392\n",
      "Epoch 4/100\n",
      "230/230 - 3s - loss: 0.1379 - accuracy: 0.9442\n",
      "Epoch 5/100\n",
      "230/230 - 2s - loss: 0.1427 - accuracy: 0.9423\n",
      "Epoch 6/100\n",
      "230/230 - 3s - loss: 0.1420 - accuracy: 0.9418\n",
      "Epoch 7/100\n",
      "230/230 - 2s - loss: 0.1343 - accuracy: 0.9440\n",
      "Epoch 8/100\n",
      "230/230 - 3s - loss: 0.1208 - accuracy: 0.9506\n",
      "Epoch 9/100\n",
      "230/230 - 2s - loss: 0.1186 - accuracy: 0.9497\n",
      "Epoch 10/100\n",
      "230/230 - 3s - loss: 0.1161 - accuracy: 0.9514\n",
      "Epoch 11/100\n",
      "230/230 - 2s - loss: 0.1158 - accuracy: 0.9484\n",
      "Epoch 12/100\n",
      "230/230 - 2s - loss: 0.1127 - accuracy: 0.9524\n",
      "Epoch 13/100\n",
      "230/230 - 3s - loss: 0.1101 - accuracy: 0.9532\n",
      "Epoch 14/100\n",
      "230/230 - 2s - loss: 0.1752 - accuracy: 0.9381\n",
      "Epoch 15/100\n",
      "230/230 - 2s - loss: 0.1181 - accuracy: 0.9518\n",
      "Epoch 16/100\n",
      "230/230 - 2s - loss: 0.1167 - accuracy: 0.9518\n",
      "Epoch 17/100\n",
      "230/230 - 3s - loss: 0.1174 - accuracy: 0.9520\n",
      "Epoch 18/100\n",
      "230/230 - 2s - loss: 0.1091 - accuracy: 0.9521\n",
      "Epoch 19/100\n",
      "230/230 - 3s - loss: 0.1072 - accuracy: 0.9546\n",
      "Epoch 20/100\n",
      "230/230 - 3s - loss: 0.1049 - accuracy: 0.9559\n",
      "Epoch 21/100\n",
      "230/230 - 2s - loss: 0.1038 - accuracy: 0.9542\n",
      "Epoch 22/100\n",
      "230/230 - 3s - loss: 0.1039 - accuracy: 0.9555\n",
      "Epoch 23/100\n",
      "230/230 - 2s - loss: 0.1131 - accuracy: 0.9540\n",
      "Epoch 24/100\n",
      "230/230 - 2s - loss: 0.0998 - accuracy: 0.9576\n",
      "Epoch 25/100\n",
      "230/230 - 2s - loss: 0.1323 - accuracy: 0.9486\n",
      "Epoch 26/100\n",
      "230/230 - 2s - loss: 0.1037 - accuracy: 0.9555\n",
      "Epoch 27/100\n",
      "230/230 - 2s - loss: 0.1004 - accuracy: 0.9561\n",
      "Epoch 28/100\n",
      "230/230 - 3s - loss: 0.0959 - accuracy: 0.9565\n",
      "Epoch 29/100\n",
      "230/230 - 2s - loss: 0.0993 - accuracy: 0.9584\n",
      "Epoch 30/100\n",
      "230/230 - 2s - loss: 0.0955 - accuracy: 0.9589\n",
      "Epoch 31/100\n",
      "230/230 - 2s - loss: 0.0941 - accuracy: 0.9562\n",
      "Epoch 32/100\n",
      "230/230 - 2s - loss: 0.0909 - accuracy: 0.9606\n",
      "Epoch 33/100\n",
      "230/230 - 2s - loss: 0.1008 - accuracy: 0.9565\n",
      "Epoch 34/100\n",
      "230/230 - 3s - loss: 0.0908 - accuracy: 0.9608\n",
      "Epoch 35/100\n",
      "230/230 - 2s - loss: 0.0881 - accuracy: 0.9592\n",
      "Epoch 36/100\n",
      "230/230 - 3s - loss: 0.0878 - accuracy: 0.9627\n",
      "Epoch 37/100\n",
      "230/230 - 2s - loss: 0.0843 - accuracy: 0.9629\n",
      "Epoch 38/100\n",
      "230/230 - 2s - loss: 0.1121 - accuracy: 0.9548\n",
      "Epoch 39/100\n",
      "230/230 - 2s - loss: 0.0904 - accuracy: 0.9606\n",
      "Epoch 40/100\n",
      "230/230 - 2s - loss: 0.0788 - accuracy: 0.9655\n",
      "Epoch 41/100\n",
      "230/230 - 3s - loss: 0.0760 - accuracy: 0.9653\n",
      "Epoch 42/100\n",
      "230/230 - 2s - loss: 0.0800 - accuracy: 0.9634\n",
      "Epoch 43/100\n",
      "230/230 - 2s - loss: 0.0786 - accuracy: 0.9640\n",
      "Epoch 44/100\n",
      "230/230 - 2s - loss: 0.0800 - accuracy: 0.9641\n",
      "Epoch 45/100\n",
      "230/230 - 2s - loss: 0.0683 - accuracy: 0.9686\n",
      "Epoch 46/100\n",
      "230/230 - 2s - loss: 0.0775 - accuracy: 0.9667\n",
      "Epoch 47/100\n",
      "230/230 - 2s - loss: 0.0722 - accuracy: 0.9682\n",
      "Epoch 48/100\n",
      "230/230 - 2s - loss: 0.0644 - accuracy: 0.9716\n",
      "Epoch 49/100\n",
      "230/230 - 2s - loss: 0.0679 - accuracy: 0.9708\n",
      "Epoch 50/100\n",
      "230/230 - 2s - loss: 0.0634 - accuracy: 0.9716\n",
      "Epoch 51/100\n",
      "230/230 - 2s - loss: 0.0770 - accuracy: 0.9708\n",
      "Epoch 52/100\n",
      "230/230 - 2s - loss: 0.0906 - accuracy: 0.9641\n",
      "Epoch 53/100\n",
      "230/230 - 2s - loss: 0.0611 - accuracy: 0.9742\n",
      "Epoch 54/100\n",
      "230/230 - 2s - loss: 0.0585 - accuracy: 0.9724\n",
      "Epoch 55/100\n",
      "230/230 - 2s - loss: 0.0551 - accuracy: 0.9755\n",
      "Epoch 56/100\n",
      "230/230 - 2s - loss: 0.0554 - accuracy: 0.9765\n",
      "Epoch 57/100\n",
      "230/230 - 2s - loss: 0.0471 - accuracy: 0.9800\n",
      "Epoch 58/100\n",
      "230/230 - 2s - loss: 0.0534 - accuracy: 0.9757\n",
      "Epoch 59/100\n",
      "230/230 - 2s - loss: 0.0491 - accuracy: 0.9796\n",
      "Epoch 60/100\n",
      "230/230 - 2s - loss: 0.0446 - accuracy: 0.9795\n",
      "Epoch 61/100\n",
      "230/230 - 2s - loss: 0.0519 - accuracy: 0.9774\n",
      "Epoch 62/100\n",
      "230/230 - 2s - loss: 0.0441 - accuracy: 0.9799\n",
      "Epoch 63/100\n",
      "230/230 - 2s - loss: 0.0373 - accuracy: 0.9837\n",
      "Epoch 64/100\n",
      "230/230 - 2s - loss: 0.0423 - accuracy: 0.9819\n",
      "Epoch 65/100\n",
      "230/230 - 2s - loss: 0.0520 - accuracy: 0.9784\n",
      "Epoch 66/100\n",
      "230/230 - 2s - loss: 0.0370 - accuracy: 0.9835\n",
      "Epoch 67/100\n",
      "230/230 - 2s - loss: 0.0411 - accuracy: 0.9819\n",
      "Epoch 68/100\n",
      "230/230 - 3s - loss: 0.0365 - accuracy: 0.9837\n",
      "Epoch 69/100\n",
      "230/230 - 2s - loss: 0.0359 - accuracy: 0.9860\n",
      "Epoch 70/100\n",
      "230/230 - 2s - loss: 0.0313 - accuracy: 0.9872\n",
      "Epoch 71/100\n",
      "230/230 - 2s - loss: 0.0406 - accuracy: 0.9831\n",
      "Epoch 72/100\n",
      "230/230 - 2s - loss: 0.0426 - accuracy: 0.9810\n",
      "Epoch 73/100\n",
      "230/230 - 3s - loss: 0.0303 - accuracy: 0.9869\n",
      "Epoch 74/100\n",
      "230/230 - 2s - loss: 0.0381 - accuracy: 0.9838\n",
      "Epoch 75/100\n",
      "230/230 - 2s - loss: 0.0247 - accuracy: 0.9912\n",
      "Epoch 76/100\n",
      "230/230 - 2s - loss: 0.0514 - accuracy: 0.9842\n",
      "Epoch 77/100\n",
      "230/230 - 2s - loss: 0.0312 - accuracy: 0.9884\n",
      "Epoch 78/100\n",
      "230/230 - 2s - loss: 0.0341 - accuracy: 0.9871\n",
      "Epoch 79/100\n",
      "230/230 - 2s - loss: 0.0250 - accuracy: 0.9895\n",
      "Epoch 80/100\n",
      "230/230 - 2s - loss: 0.0220 - accuracy: 0.9906\n",
      "Epoch 81/100\n",
      "230/230 - 2s - loss: 0.0229 - accuracy: 0.9912\n",
      "Epoch 82/100\n",
      "230/230 - 2s - loss: 0.0350 - accuracy: 0.9874\n",
      "Epoch 83/100\n",
      "230/230 - 2s - loss: 0.0260 - accuracy: 0.9897\n",
      "Epoch 84/100\n",
      "230/230 - 3s - loss: 0.0386 - accuracy: 0.9857\n",
      "Epoch 85/100\n",
      "230/230 - 2s - loss: 0.0232 - accuracy: 0.9913\n",
      "Epoch 86/100\n",
      "230/230 - 2s - loss: 0.0191 - accuracy: 0.9922\n",
      "Epoch 87/100\n",
      "230/230 - 2s - loss: 0.0189 - accuracy: 0.9920\n",
      "Epoch 88/100\n",
      "230/230 - 3s - loss: 0.0203 - accuracy: 0.9922\n",
      "Epoch 89/100\n",
      "230/230 - 3s - loss: 0.0190 - accuracy: 0.9937\n",
      "Epoch 90/100\n",
      "230/230 - 3s - loss: 0.0144 - accuracy: 0.9943\n",
      "Epoch 91/100\n",
      "230/230 - 3s - loss: 0.0182 - accuracy: 0.9942\n",
      "Epoch 92/100\n",
      "230/230 - 3s - loss: 0.0231 - accuracy: 0.9914\n",
      "Epoch 93/100\n",
      "230/230 - 2s - loss: 0.0145 - accuracy: 0.9950\n",
      "Epoch 94/100\n",
      "230/230 - 2s - loss: 0.0067 - accuracy: 0.9982\n",
      "Epoch 95/100\n",
      "230/230 - 2s - loss: 0.0149 - accuracy: 0.9950\n",
      "Epoch 96/100\n",
      "230/230 - 3s - loss: 0.0202 - accuracy: 0.9933\n",
      "Epoch 97/100\n",
      "230/230 - 2s - loss: 0.0132 - accuracy: 0.9961\n",
      "Epoch 98/100\n",
      "230/230 - 2s - loss: 0.0179 - accuracy: 0.9931\n",
      "Epoch 99/100\n",
      "230/230 - 2s - loss: 0.0147 - accuracy: 0.9947\n",
      "Epoch 100/100\n",
      "230/230 - 3s - loss: 0.0194 - accuracy: 0.9927\n"
     ]
    }
   ],
   "source": [
    "history=model.fit(X_train, Y_train, epochs=100, batch_size=batch_size, verbose=verbose)"
   ]
  },
  {
   "cell_type": "code",
   "execution_count": 0,
   "metadata": {
    "colab": {
     "base_uri": "https://localhost:8080/",
     "height": 282
    },
    "colab_type": "code",
    "id": "bMZL3_m5lkjm",
    "outputId": "8e8488b8-f575-4d73-ad27-0ed2920bb3df"
   },
   "outputs": [
    {
     "data": {
      "text/plain": [
       "[<matplotlib.lines.Line2D at 0x7f53415e8518>]"
      ]
     },
     "execution_count": 20,
     "metadata": {
      "tags": []
     },
     "output_type": "execute_result"
    },
    {
     "data": {
      "image/png": "[encoded data removed]",
      "text/plain": [
       "<Figure size 432x288 with 1 Axes>"
      ]
     },
     "metadata": {
      "tags": []
     },
     "output_type": "display_data"
    }
   ],
   "source": [
    "plt.plot(history.history['loss'])"
   ]
  },
  {
   "cell_type": "code",
   "execution_count": 0,
   "metadata": {
    "colab": {
     "base_uri": "https://localhost:8080/",
     "height": 50
    },
    "colab_type": "code",
    "id": "2whFus3d9e2S",
    "outputId": "de7d4e6e-078f-478c-a51e-3fbda2deec12"
   },
   "outputs": [
    {
     "name": "stdout",
     "output_type": "stream",
     "text": [
      "Training set:  99.7823715209961 %\n",
      "Test set:  94.09568905830383 %\n"
     ]
    }
   ],
   "source": [
    "gru_acc_train=model.evaluate(X_train, Y_train, batch_size=batch_size, verbose=0)[1]\n",
    "gru_acc_test=model.evaluate(X_test, Y_test, batch_size=batch_size, verbose=0)[1]\n",
    "print(\"Training set: \",gru_acc_train*100,\"%\")\n",
    "print(\"Test set: \",gru_acc_test*100,\"%\")"
   ]
  },
  {
   "cell_type": "code",
   "execution_count": 0,
   "metadata": {
    "colab": {
     "base_uri": "https://localhost:8080/",
     "height": 282
    },
    "colab_type": "code",
    "id": "Hq5MxJtKlkjs",
    "outputId": "b4c6a99e-9611-4762-ee19-363fcd03eff2"
   },
   "outputs": [
    {
     "data": {
      "text/plain": [
       "<matplotlib.axes._subplots.AxesSubplot at 0x7f5340659278>"
      ]
     },
     "execution_count": 23,
     "metadata": {
      "tags": []
     },
     "output_type": "execute_result"
    },
    {
     "data": {
      "image/png": "[encoded data removed]",
      "text/plain": [
       "<Figure size 432x288 with 2 Axes>"
      ]
     },
     "metadata": {
      "tags": []
     },
     "output_type": "display_data"
    }
   ],
   "source": [
    "Y_pred=model.predict(X_test)\n",
    "cm=confusion_matrix(np.argmax(Y_test,axis=1),np.argmax(Y_pred,axis=1))\n",
    "sns.heatmap(cm/cm.sum(axis=0),cmap='coolwarm',annot=cm,fmt='g',linewidths=1, linecolor='black')"
   ]
  },
  {
   "cell_type": "code",
   "execution_count": 0,
   "metadata": {
    "colab": {},
    "colab_type": "code",
    "id": "LzLOHF8Flkjv"
   },
   "outputs": [],
   "source": [
    "model.save('gru.h5')"
   ]
  },
  {
   "cell_type": "markdown",
   "metadata": {
    "colab_type": "text",
    "id": "I4GZ4ds1aTNn"
   },
   "source": [
    "## Model 2: LSTM"
   ]
  },
  {
   "cell_type": "code",
   "execution_count": 0,
   "metadata": {
    "colab": {},
    "colab_type": "code",
    "id": "5nq8b1GGaTNt"
   },
   "outputs": [],
   "source": [
    "verbose, epochs, batch_size = 2, 10, 32"
   ]
  },
  {
   "cell_type": "code",
   "execution_count": 0,
   "metadata": {
    "colab": {},
    "colab_type": "code",
    "id": "fBkfRz4QaTN_"
   },
   "outputs": [],
   "source": [
    "n_timesteps, n_features, n_outputs = X_train.shape[1], X_train.shape[2], Y_train.shape[1]"
   ]
  },
  {
   "cell_type": "code",
   "execution_count": 0,
   "metadata": {
    "colab": {
     "base_uri": "https://localhost:8080/",
     "height": 34
    },
    "colab_type": "code",
    "id": "fMT16EqNaTOM",
    "outputId": "c544e224-43f2-48b0-a537-de2743884416"
   },
   "outputs": [
    {
     "name": "stdout",
     "output_type": "stream",
     "text": [
      "128 9 6\n"
     ]
    }
   ],
   "source": [
    "print(n_timesteps, n_features, n_outputs)"
   ]
  },
  {
   "cell_type": "code",
   "execution_count": 0,
   "metadata": {
    "colab": {},
    "colab_type": "code",
    "id": "lv6aXCGnaTOb"
   },
   "outputs": [],
   "source": [
    "model = Sequential()\n",
    "model.add(LSTM(100,return_sequences=True,input_shape=(n_timesteps,n_features)))\n",
    "model.add(LSTM(64))\n",
    "model.add(Dropout(0.15))\n",
    "model.add(Dense(64, activation='tanh'))\n",
    "model.add(Dense(n_outputs, activation='softmax'))"
   ]
  },
  {
   "cell_type": "code",
   "execution_count": 0,
   "metadata": {
    "colab": {},
    "colab_type": "code",
    "id": "_jB0tFzwf8cx"
   },
   "outputs": [],
   "source": [
    "model.compile(loss='categorical_crossentropy', optimizer='adam', metrics=['accuracy'])"
   ]
  },
  {
   "cell_type": "code",
   "execution_count": 0,
   "metadata": {
    "colab": {
     "base_uri": "https://localhost:8080/",
     "height": 319
    },
    "colab_type": "code",
    "id": "pl78DHQfaTOo",
    "outputId": "413795dc-176b-4198-ae46-6a030f4cc6c3"
   },
   "outputs": [
    {
     "name": "stdout",
     "output_type": "stream",
     "text": [
      "Model: \"sequential_3\"\n",
      "_________________________________________________________________\n",
      "Layer (type)                 Output Shape              Param #   \n",
      "=================================================================\n",
      "lstm (LSTM)                  (None, 128, 100)          44000     \n",
      "_________________________________________________________________\n",
      "lstm_1 (LSTM)                (None, 64)                42240     \n",
      "_________________________________________________________________\n",
      "dropout_3 (Dropout)          (None, 64)                0         \n",
      "_________________________________________________________________\n",
      "dense_6 (Dense)              (None, 64)                4160      \n",
      "_________________________________________________________________\n",
      "dense_7 (Dense)              (None, 6)                 390       \n",
      "=================================================================\n",
      "Total params: 90,790\n",
      "Trainable params: 90,790\n",
      "Non-trainable params: 0\n",
      "_________________________________________________________________\n"
     ]
    }
   ],
   "source": [
    "model.summary()"
   ]
  },
  {
   "cell_type": "code",
   "execution_count": 0,
   "metadata": {
    "colab": {},
    "colab_type": "code",
    "id": "UkEKti8EaTO1"
   },
   "outputs": [],
   "source": [
    "lstm_params=model.count_params()"
   ]
  },
  {
   "cell_type": "code",
   "execution_count": 0,
   "metadata": {
    "colab": {
     "base_uri": "https://localhost:8080/",
     "height": 1000
    },
    "colab_type": "code",
    "id": "CXEsv75BaTPL",
    "outputId": "2aa9f5c4-aba4-450e-fe65-5579f3b4a6d9"
   },
   "outputs": [
    {
     "name": "stdout",
     "output_type": "stream",
     "text": [
      "Epoch 1/100\n",
      "230/230 - 3s - loss: 0.9328 - accuracy: 0.5947\n",
      "Epoch 2/100\n",
      "230/230 - 3s - loss: 0.6753 - accuracy: 0.7087\n",
      "Epoch 3/100\n",
      "230/230 - 3s - loss: 0.5381 - accuracy: 0.7704\n",
      "Epoch 4/100\n",
      "230/230 - 3s - loss: 0.3660 - accuracy: 0.8757\n",
      "Epoch 5/100\n",
      "230/230 - 3s - loss: 0.2658 - accuracy: 0.9082\n",
      "Epoch 6/100\n",
      "230/230 - 3s - loss: 0.1866 - accuracy: 0.9332\n",
      "Epoch 7/100\n",
      "230/230 - 3s - loss: 0.1761 - accuracy: 0.9343\n",
      "Epoch 8/100\n",
      "230/230 - 3s - loss: 0.1427 - accuracy: 0.9464\n",
      "Epoch 9/100\n",
      "230/230 - 3s - loss: 0.1954 - accuracy: 0.9293\n",
      "Epoch 10/100\n",
      "230/230 - 3s - loss: 0.2580 - accuracy: 0.9150\n",
      "Epoch 11/100\n",
      "230/230 - 3s - loss: 0.1546 - accuracy: 0.9464\n",
      "Epoch 12/100\n",
      "230/230 - 3s - loss: 0.1305 - accuracy: 0.9493\n",
      "Epoch 13/100\n",
      "230/230 - 3s - loss: 0.1266 - accuracy: 0.9468\n",
      "Epoch 14/100\n",
      "230/230 - 3s - loss: 0.1275 - accuracy: 0.9461\n",
      "Epoch 15/100\n",
      "230/230 - 3s - loss: 0.1189 - accuracy: 0.9498\n",
      "Epoch 16/100\n",
      "230/230 - 3s - loss: 0.1156 - accuracy: 0.9520\n",
      "Epoch 17/100\n",
      "230/230 - 3s - loss: 0.1230 - accuracy: 0.9499\n",
      "Epoch 18/100\n",
      "230/230 - 3s - loss: 0.1274 - accuracy: 0.9501\n",
      "Epoch 19/100\n",
      "230/230 - 3s - loss: 0.1092 - accuracy: 0.9546\n",
      "Epoch 20/100\n",
      "230/230 - 3s - loss: 0.1093 - accuracy: 0.9516\n",
      "Epoch 21/100\n",
      "230/230 - 3s - loss: 0.1058 - accuracy: 0.9540\n",
      "Epoch 22/100\n",
      "230/230 - 3s - loss: 0.1450 - accuracy: 0.9436\n",
      "Epoch 23/100\n",
      "230/230 - 3s - loss: 0.1189 - accuracy: 0.9531\n",
      "Epoch 24/100\n",
      "230/230 - 3s - loss: 0.1162 - accuracy: 0.9509\n",
      "Epoch 25/100\n",
      "230/230 - 3s - loss: 0.1257 - accuracy: 0.9543\n",
      "Epoch 26/100\n",
      "230/230 - 3s - loss: 0.1398 - accuracy: 0.9479\n",
      "Epoch 27/100\n",
      "230/230 - 3s - loss: 0.1142 - accuracy: 0.9539\n",
      "Epoch 28/100\n",
      "230/230 - 3s - loss: 0.1229 - accuracy: 0.9502\n",
      "Epoch 29/100\n",
      "230/230 - 3s - loss: 0.1149 - accuracy: 0.9524\n",
      "Epoch 30/100\n",
      "230/230 - 3s - loss: 0.1345 - accuracy: 0.9491\n",
      "Epoch 31/100\n",
      "230/230 - 3s - loss: 0.1126 - accuracy: 0.9539\n",
      "Epoch 32/100\n",
      "230/230 - 3s - loss: 0.1052 - accuracy: 0.9542\n",
      "Epoch 33/100\n",
      "230/230 - 3s - loss: 0.1303 - accuracy: 0.9460\n",
      "Epoch 34/100\n",
      "230/230 - 3s - loss: 0.1067 - accuracy: 0.9535\n",
      "Epoch 35/100\n",
      "230/230 - 3s - loss: 0.1019 - accuracy: 0.9563\n",
      "Epoch 36/100\n",
      "230/230 - 3s - loss: 0.1059 - accuracy: 0.9538\n",
      "Epoch 37/100\n",
      "230/230 - 3s - loss: 0.1152 - accuracy: 0.9551\n",
      "Epoch 38/100\n",
      "230/230 - 3s - loss: 0.1683 - accuracy: 0.9354\n",
      "Epoch 39/100\n",
      "230/230 - 3s - loss: 0.1202 - accuracy: 0.9499\n",
      "Epoch 40/100\n",
      "230/230 - 3s - loss: 0.1127 - accuracy: 0.9502\n",
      "Epoch 41/100\n",
      "230/230 - 3s - loss: 0.1062 - accuracy: 0.9532\n",
      "Epoch 42/100\n",
      "230/230 - 3s - loss: 0.1095 - accuracy: 0.9518\n",
      "Epoch 43/100\n",
      "230/230 - 3s - loss: 0.1127 - accuracy: 0.9523\n",
      "Epoch 44/100\n",
      "230/230 - 3s - loss: 0.1134 - accuracy: 0.9502\n",
      "Epoch 45/100\n",
      "230/230 - 3s - loss: 0.1074 - accuracy: 0.9538\n",
      "Epoch 46/100\n",
      "230/230 - 3s - loss: 0.1076 - accuracy: 0.9554\n",
      "Epoch 47/100\n",
      "230/230 - 3s - loss: 0.1016 - accuracy: 0.9581\n",
      "Epoch 48/100\n",
      "230/230 - 3s - loss: 0.0959 - accuracy: 0.9593\n",
      "Epoch 49/100\n",
      "230/230 - 3s - loss: 0.1028 - accuracy: 0.9574\n",
      "Epoch 50/100\n",
      "230/230 - 3s - loss: 0.1126 - accuracy: 0.9527\n",
      "Epoch 51/100\n",
      "230/230 - 3s - loss: 0.1778 - accuracy: 0.9381\n",
      "Epoch 52/100\n",
      "230/230 - 3s - loss: 0.1082 - accuracy: 0.9536\n",
      "Epoch 53/100\n",
      "230/230 - 3s - loss: 0.1279 - accuracy: 0.9475\n",
      "Epoch 54/100\n",
      "230/230 - 3s - loss: 0.1119 - accuracy: 0.9501\n",
      "Epoch 55/100\n",
      "230/230 - 3s - loss: 0.1247 - accuracy: 0.9476\n",
      "Epoch 56/100\n",
      "230/230 - 3s - loss: 0.1120 - accuracy: 0.9504\n",
      "Epoch 57/100\n",
      "230/230 - 3s - loss: 0.1064 - accuracy: 0.9504\n",
      "Epoch 58/100\n",
      "230/230 - 3s - loss: 0.1033 - accuracy: 0.9551\n",
      "Epoch 59/100\n",
      "230/230 - 3s - loss: 0.1141 - accuracy: 0.9504\n",
      "Epoch 60/100\n",
      "230/230 - 3s - loss: 0.1136 - accuracy: 0.9504\n",
      "Epoch 61/100\n",
      "230/230 - 3s - loss: 0.1187 - accuracy: 0.9465\n",
      "Epoch 62/100\n",
      "230/230 - 3s - loss: 0.1542 - accuracy: 0.9334\n",
      "Epoch 63/100\n",
      "230/230 - 3s - loss: 0.1473 - accuracy: 0.9358\n",
      "Epoch 64/100\n",
      "230/230 - 3s - loss: 0.1112 - accuracy: 0.9528\n",
      "Epoch 65/100\n",
      "230/230 - 3s - loss: 0.1140 - accuracy: 0.9525\n",
      "Epoch 66/100\n",
      "230/230 - 3s - loss: 0.1136 - accuracy: 0.9542\n",
      "Epoch 67/100\n",
      "230/230 - 3s - loss: 0.1050 - accuracy: 0.9567\n",
      "Epoch 68/100\n",
      "230/230 - 3s - loss: 0.1054 - accuracy: 0.9558\n",
      "Epoch 69/100\n",
      "230/230 - 3s - loss: 0.1055 - accuracy: 0.9553\n",
      "Epoch 70/100\n",
      "230/230 - 3s - loss: 0.1141 - accuracy: 0.9531\n",
      "Epoch 71/100\n",
      "230/230 - 3s - loss: 0.1119 - accuracy: 0.9544\n",
      "Epoch 72/100\n",
      "230/230 - 3s - loss: 0.1070 - accuracy: 0.9543\n",
      "Epoch 73/100\n",
      "230/230 - 3s - loss: 0.1209 - accuracy: 0.9465\n",
      "Epoch 74/100\n",
      "230/230 - 3s - loss: 0.1137 - accuracy: 0.9494\n",
      "Epoch 75/100\n",
      "230/230 - 3s - loss: 0.1117 - accuracy: 0.9494\n",
      "Epoch 76/100\n",
      "230/230 - 3s - loss: 0.1087 - accuracy: 0.9527\n",
      "Epoch 77/100\n",
      "230/230 - 3s - loss: 0.1098 - accuracy: 0.9524\n",
      "Epoch 78/100\n",
      "230/230 - 3s - loss: 0.1075 - accuracy: 0.9532\n",
      "Epoch 79/100\n",
      "230/230 - 3s - loss: 0.1081 - accuracy: 0.9509\n",
      "Epoch 80/100\n",
      "230/230 - 3s - loss: 0.1025 - accuracy: 0.9521\n",
      "Epoch 81/100\n",
      "230/230 - 3s - loss: 0.1311 - accuracy: 0.9497\n",
      "Epoch 82/100\n",
      "230/230 - 3s - loss: 0.1119 - accuracy: 0.9540\n",
      "Epoch 83/100\n",
      "230/230 - 3s - loss: 0.1439 - accuracy: 0.9448\n",
      "Epoch 84/100\n",
      "230/230 - 3s - loss: 0.1192 - accuracy: 0.9456\n",
      "Epoch 85/100\n",
      "230/230 - 3s - loss: 0.1146 - accuracy: 0.9495\n",
      "Epoch 86/100\n",
      "230/230 - 3s - loss: 0.1050 - accuracy: 0.9536\n",
      "Epoch 87/100\n",
      "230/230 - 3s - loss: 0.1045 - accuracy: 0.9524\n",
      "Epoch 88/100\n",
      "230/230 - 3s - loss: 0.1053 - accuracy: 0.9561\n",
      "Epoch 89/100\n",
      "230/230 - 3s - loss: 0.1112 - accuracy: 0.9542\n",
      "Epoch 90/100\n",
      "230/230 - 3s - loss: 0.1172 - accuracy: 0.9520\n",
      "Epoch 91/100\n",
      "230/230 - 3s - loss: 0.1080 - accuracy: 0.9535\n",
      "Epoch 92/100\n",
      "230/230 - 3s - loss: 0.1081 - accuracy: 0.9543\n",
      "Epoch 93/100\n",
      "230/230 - 3s - loss: 0.1048 - accuracy: 0.9561\n",
      "Epoch 94/100\n",
      "230/230 - 3s - loss: 0.1182 - accuracy: 0.9517\n",
      "Epoch 95/100\n",
      "230/230 - 3s - loss: 0.0995 - accuracy: 0.9578\n",
      "Epoch 96/100\n",
      "230/230 - 3s - loss: 0.1009 - accuracy: 0.9563\n",
      "Epoch 97/100\n",
      "230/230 - 3s - loss: 0.1024 - accuracy: 0.9548\n",
      "Epoch 98/100\n",
      "230/230 - 3s - loss: 0.1070 - accuracy: 0.9558\n",
      "Epoch 99/100\n",
      "230/230 - 3s - loss: 0.0966 - accuracy: 0.9597\n",
      "Epoch 100/100\n",
      "230/230 - 3s - loss: 0.1104 - accuracy: 0.9490\n"
     ]
    }
   ],
   "source": [
    "history=model.fit(X_train, Y_train, epochs=100, batch_size=batch_size, verbose=verbose)"
   ]
  },
  {
   "cell_type": "code",
   "execution_count": 0,
   "metadata": {
    "colab": {
     "base_uri": "https://localhost:8080/",
     "height": 282
    },
    "colab_type": "code",
    "id": "UaA_YjJIaTPR",
    "outputId": "be52fe7d-e450-4151-eab3-9ccf77779418"
   },
   "outputs": [
    {
     "data": {
      "text/plain": [
       "[<matplotlib.lines.Line2D at 0x7f53268cfe80>]"
      ]
     },
     "execution_count": 42,
     "metadata": {
      "tags": []
     },
     "output_type": "execute_result"
    },
    {
     "data": {
      "image/png": "[encoded data removed]",
      "text/plain": [
       "<Figure size 432x288 with 1 Axes>"
      ]
     },
     "metadata": {
      "tags": []
     },
     "output_type": "display_data"
    }
   ],
   "source": [
    "plt.plot(history.history['loss'])"
   ]
  },
  {
   "cell_type": "code",
   "execution_count": 0,
   "metadata": {
    "colab": {
     "base_uri": "https://localhost:8080/",
     "height": 50
    },
    "colab_type": "code",
    "id": "GhN13YxNaTPX",
    "outputId": "3d5274a0-4d1e-45b4-a42d-4979e0bae14b"
   },
   "outputs": [
    {
     "name": "stdout",
     "output_type": "stream",
     "text": [
      "Training set:  94.88574266433716 %\n",
      "Test set:  90.7024085521698 %\n"
     ]
    }
   ],
   "source": [
    "lstm_acc_train=model.evaluate(X_train, Y_train, batch_size=batch_size, verbose=0)[1]\n",
    "lstm_acc_test=model.evaluate(X_test, Y_test, batch_size=batch_size, verbose=0)[1]\n",
    "\n",
    "print(\"Training set: \",lstm_acc_train*100,\"%\")\n",
    "print(\"Test set: \",lstm_acc_test*100,\"%\")"
   ]
  },
  {
   "cell_type": "code",
   "execution_count": 0,
   "metadata": {
    "colab": {
     "base_uri": "https://localhost:8080/",
     "height": 282
    },
    "colab_type": "code",
    "id": "pELznTyiQJhN",
    "outputId": "e9371134-c63d-49a6-ef6f-92c08bd4ded5"
   },
   "outputs": [
    {
     "data": {
      "text/plain": [
       "<matplotlib.axes._subplots.AxesSubplot at 0x7f535a2638d0>"
      ]
     },
     "execution_count": 49,
     "metadata": {
      "tags": []
     },
     "output_type": "execute_result"
    },
    {
     "data": {
      "image/png": "[encoded data removed]",
      "text/plain": [
       "<Figure size 432x288 with 2 Axes>"
      ]
     },
     "metadata": {
      "tags": []
     },
     "output_type": "display_data"
    }
   ],
   "source": [
    "Y_pred=model.predict(X_test)\n",
    "cm=confusion_matrix(np.argmax(Y_test,axis=1),np.argmax(Y_pred,axis=1))\n",
    "sns.heatmap(cm/cm.sum(axis=0),cmap='coolwarm',annot=cm,fmt='g',linewidths=1, linecolor='black')"
   ]
  },
  {
   "cell_type": "code",
   "execution_count": 0,
   "metadata": {
    "colab": {},
    "colab_type": "code",
    "id": "Q1w0jcTveEUe"
   },
   "outputs": [],
   "source": [
    "model.save('lstm.h5')"
   ]
  },
  {
   "cell_type": "markdown",
   "metadata": {
    "colab_type": "text",
    "id": "C0xVrNTF8aBE"
   },
   "source": [
    "## Pruning GRU"
   ]
  },
  {
   "cell_type": "code",
   "execution_count": 0,
   "metadata": {
    "colab": {
     "base_uri": "https://localhost:8080/",
     "height": 273
    },
    "colab_type": "code",
    "id": "lXnvnwkZ9vYn",
    "outputId": "7a8ccdcc-56df-4ba2-c8d6-31b670c93d39"
   },
   "outputs": [
    {
     "name": "stdout",
     "output_type": "stream",
     "text": [
      "Collecting tensorflow_model_optimization\n",
      "\u001b[?25l  Downloading https://files.pythonhosted.org/packages/8f/c4/4c3d011e432bd9c19f0323f7da7d3f783402615e4c3b5a98416c7da9cb05/tensorflow_model_optimization-0.2.1-py2.py3-none-any.whl (93kB)\n",
      "\r",
      "\u001b[K     |███▌                            | 10kB 14.3MB/s eta 0:00:01\r",
      "\u001b[K     |███████                         | 20kB 8.0MB/s eta 0:00:01\r",
      "\u001b[K     |██████████▌                     | 30kB 8.9MB/s eta 0:00:01\r",
      "\u001b[K     |██████████████                  | 40kB 6.6MB/s eta 0:00:01\r",
      "\u001b[K     |█████████████████▌              | 51kB 7.8MB/s eta 0:00:01\r",
      "\u001b[K     |█████████████████████           | 61kB 9.1MB/s eta 0:00:01\r",
      "\u001b[K     |████████████████████████▌       | 71kB 8.7MB/s eta 0:00:01\r",
      "\u001b[K     |████████████████████████████    | 81kB 8.9MB/s eta 0:00:01\r",
      "\u001b[K     |███████████████████████████████▌| 92kB 9.8MB/s eta 0:00:01\r",
      "\u001b[K     |████████████████████████████████| 102kB 7.2MB/s \n",
      "\u001b[?25hRequirement already satisfied: numpy~=1.14 in /usr/local/lib/python3.6/dist-packages (from tensorflow_model_optimization) (1.18.2)\n",
      "Collecting enum34~=1.1\n",
      "  Downloading https://files.pythonhosted.org/packages/63/f6/ccb1c83687756aeabbf3ca0f213508fcfb03883ff200d201b3a4c60cedcc/enum34-1.1.10-py3-none-any.whl\n",
      "Requirement already satisfied: six~=1.10 in /usr/local/lib/python3.6/dist-packages (from tensorflow_model_optimization) (1.12.0)\n",
      "Installing collected packages: enum34, tensorflow-model-optimization\n",
      "Successfully installed enum34-1.1.10 tensorflow-model-optimization-0.2.1\n"
     ]
    },
    {
     "data": {
      "application/vnd.colab-display-data+json": {
       "pip_warning": {
        "packages": [
         "enum"
        ]
       }
      }
     },
     "metadata": {
      "tags": []
     },
     "output_type": "display_data"
    }
   ],
   "source": [
    "!pip install tensorflow_model_optimization"
   ]
  },
  {
   "cell_type": "code",
   "execution_count": 0,
   "metadata": {
    "colab": {},
    "colab_type": "code",
    "id": "AEKcj1rF8cR5"
   },
   "outputs": [],
   "source": [
    "from tensorflow_model_optimization.sparsity import keras as sparsity"
   ]
  },
  {
   "cell_type": "code",
   "execution_count": 0,
   "metadata": {
    "colab": {
     "base_uri": "https://localhost:8080/",
     "height": 34
    },
    "colab_type": "code",
    "id": "3kNjzMP__i2r",
    "outputId": "528c5efa-877c-490e-b437-03319218d82b"
   },
   "outputs": [
    {
     "name": "stdout",
     "output_type": "stream",
     "text": [
      "End step: 23000\n"
     ]
    }
   ],
   "source": [
    "epochs = 100\n",
    "num_train_samples = X_train.shape[0]\n",
    "end_step = np.ceil(1.0 * num_train_samples / batch_size).astype(np.int32) * epochs\n",
    "print('End step: ' + str(end_step))"
   ]
  },
  {
   "cell_type": "code",
   "execution_count": 0,
   "metadata": {
    "colab": {
     "base_uri": "https://localhost:8080/",
     "height": 390
    },
    "colab_type": "code",
    "id": "_EnBGFqL9tXu",
    "outputId": "de3e9943-f79d-4825-9151-ee900d3e4b18"
   },
   "outputs": [
    {
     "name": "stdout",
     "output_type": "stream",
     "text": [
      "WARNING:tensorflow:From /usr/local/lib/python3.6/dist-packages/tensorflow_model_optimization/python/core/sparsity/keras/pruning_wrapper.py:183: Layer.add_variable (from tensorflow.python.keras.engine.base_layer) is deprecated and will be removed in a future version.\n",
      "Instructions for updating:\n",
      "Please use `layer.add_weight` method instead.\n",
      "Model: \"sequential_1\"\n",
      "_________________________________________________________________\n",
      "Layer (type)                 Output Shape              Param #   \n",
      "=================================================================\n",
      "prune_low_magnitude_gru_6 (P (None, 128, 100)          66003     \n",
      "_________________________________________________________________\n",
      "prune_low_magnitude_gru_7 (P (None, 64)                63363     \n",
      "_________________________________________________________________\n",
      "dropout_3 (Dropout)          (None, 64)                0         \n",
      "_________________________________________________________________\n",
      "prune_low_magnitude_dense_4  (None, 64)                8258      \n",
      "_________________________________________________________________\n",
      "prune_low_magnitude_dense_5  (None, 6)                 776       \n",
      "=================================================================\n",
      "Total params: 138,400\n",
      "Trainable params: 69,722\n",
      "Non-trainable params: 68,678\n",
      "_________________________________________________________________\n"
     ]
    }
   ],
   "source": [
    "pruning_params = {\n",
    "      'pruning_schedule': sparsity.PolynomialDecay(initial_sparsity=0.50,\n",
    "                                                   final_sparsity=0.90,\n",
    "                                                   begin_step=2000,\n",
    "                                                   end_step=end_step,\n",
    "                                                   frequency=100)\n",
    "}\n",
    "\n",
    "pruned_model = tf.keras.Sequential([\n",
    "    sparsity.prune_low_magnitude(GRU(100,return_sequences=True,input_shape=(n_timesteps,n_features)),**pruning_params),\n",
    "    sparsity.prune_low_magnitude(GRU(64), **pruning_params),\n",
    "    Dropout(0.15),\n",
    "    sparsity.prune_low_magnitude(Dense(64, activation='tanh'),**pruning_params),\n",
    "    sparsity.prune_low_magnitude(Dense(n_outputs, activation='softmax'),**pruning_params)\n",
    "])\n",
    "\n",
    "pruned_model.summary()"
   ]
  },
  {
   "cell_type": "code",
   "execution_count": 0,
   "metadata": {
    "colab": {},
    "colab_type": "code",
    "id": "haLzO9ZGAKx9"
   },
   "outputs": [],
   "source": [
    "pruned_model.compile(\n",
    "    loss='categorical_crossentropy',\n",
    "    optimizer='adam',\n",
    "    metrics=['accuracy'])\n"
   ]
  },
  {
   "cell_type": "code",
   "execution_count": 0,
   "metadata": {
    "colab": {},
    "colab_type": "code",
    "id": "19RtVhYnAs4p"
   },
   "outputs": [],
   "source": [
    "import tensorboard\n",
    "import tempfile"
   ]
  },
  {
   "cell_type": "code",
   "execution_count": 0,
   "metadata": {
    "colab": {
     "base_uri": "https://localhost:8080/",
     "height": 34
    },
    "colab_type": "code",
    "id": "u5ezx78RAyBb",
    "outputId": "99e64241-bbec-41e8-fdf2-b1398f9df113"
   },
   "outputs": [
    {
     "name": "stdout",
     "output_type": "stream",
     "text": [
      "Writing training logs to /tmp/tmphdx_btln\n"
     ]
    }
   ],
   "source": [
    "logdir = tempfile.mkdtemp()\n",
    "print('Writing training logs to ' + logdir)"
   ]
  },
  {
   "cell_type": "code",
   "execution_count": 0,
   "metadata": {
    "colab": {},
    "colab_type": "code",
    "id": "1ZK2VvhdAI_c"
   },
   "outputs": [],
   "source": [
    "\n",
    "# Add a pruning step callback to peg the pruning step to the optimizer's\n",
    "# step. Also add a callback to add pruning summaries to tensorboard\n",
    "callbacks = [\n",
    "    sparsity.UpdatePruningStep(),\n",
    "    sparsity.PruningSummaries(log_dir=logdir, profile_batch=0)\n",
    "]\n"
   ]
  },
  {
   "cell_type": "code",
   "execution_count": 0,
   "metadata": {
    "colab": {
     "base_uri": "https://localhost:8080/",
     "height": 1000
    },
    "colab_type": "code",
    "id": "E5_apXkMAPPj",
    "outputId": "89d7da0b-cd06-4cb6-bc56-ccd65e0727e5"
   },
   "outputs": [
    {
     "name": "stdout",
     "output_type": "stream",
     "text": [
      "Epoch 1/100\n",
      "229/230 [============================>.] - ETA: 0s - loss: 1.0429 - accuracy: 0.5559INFO:tensorflow:Summary name prune_low_magnitude_gru_6/mask:0/sparsity is illegal; using prune_low_magnitude_gru_6/mask_0/sparsity instead.\n",
      "INFO:tensorflow:Summary name prune_low_magnitude_gru_7/mask:0/sparsity is illegal; using prune_low_magnitude_gru_7/mask_0/sparsity instead.\n",
      "INFO:tensorflow:Summary name prune_low_magnitude_dense_4/mask:0/sparsity is illegal; using prune_low_magnitude_dense_4/mask_0/sparsity instead.\n",
      "INFO:tensorflow:Summary name prune_low_magnitude_dense_5/mask:0/sparsity is illegal; using prune_low_magnitude_dense_5/mask_0/sparsity instead.\n",
      "INFO:tensorflow:Summary name prune_low_magnitude_gru_6/threshold:0/threshold is illegal; using prune_low_magnitude_gru_6/threshold_0/threshold instead.\n",
      "INFO:tensorflow:Summary name prune_low_magnitude_gru_7/threshold:0/threshold is illegal; using prune_low_magnitude_gru_7/threshold_0/threshold instead.\n",
      "INFO:tensorflow:Summary name prune_low_magnitude_dense_4/threshold:0/threshold is illegal; using prune_low_magnitude_dense_4/threshold_0/threshold instead.\n",
      "INFO:tensorflow:Summary name prune_low_magnitude_dense_5/threshold:0/threshold is illegal; using prune_low_magnitude_dense_5/threshold_0/threshold instead.\n",
      "230/230 [==============================] - 3s 15ms/step - loss: 1.0407 - accuracy: 0.5564\n",
      "Epoch 2/100\n",
      "227/230 [============================>.] - ETA: 0s - loss: 0.2856 - accuracy: 0.8889INFO:tensorflow:Summary name prune_low_magnitude_gru_6/mask:0/sparsity is illegal; using prune_low_magnitude_gru_6/mask_0/sparsity instead.\n",
      "INFO:tensorflow:Summary name prune_low_magnitude_gru_7/mask:0/sparsity is illegal; using prune_low_magnitude_gru_7/mask_0/sparsity instead.\n",
      "INFO:tensorflow:Summary name prune_low_magnitude_dense_4/mask:0/sparsity is illegal; using prune_low_magnitude_dense_4/mask_0/sparsity instead.\n",
      "INFO:tensorflow:Summary name prune_low_magnitude_dense_5/mask:0/sparsity is illegal; using prune_low_magnitude_dense_5/mask_0/sparsity instead.\n",
      "INFO:tensorflow:Summary name prune_low_magnitude_gru_6/threshold:0/threshold is illegal; using prune_low_magnitude_gru_6/threshold_0/threshold instead.\n",
      "INFO:tensorflow:Summary name prune_low_magnitude_gru_7/threshold:0/threshold is illegal; using prune_low_magnitude_gru_7/threshold_0/threshold instead.\n",
      "INFO:tensorflow:Summary name prune_low_magnitude_dense_4/threshold:0/threshold is illegal; using prune_low_magnitude_dense_4/threshold_0/threshold instead.\n",
      "INFO:tensorflow:Summary name prune_low_magnitude_dense_5/threshold:0/threshold is illegal; using prune_low_magnitude_dense_5/threshold_0/threshold instead.\n",
      "230/230 [==============================] - 3s 15ms/step - loss: 0.2835 - accuracy: 0.8898\n",
      "Epoch 3/100\n",
      "227/230 [============================>.] - ETA: 0s - loss: 0.1703 - accuracy: 0.9353INFO:tensorflow:Summary name prune_low_magnitude_gru_6/mask:0/sparsity is illegal; using prune_low_magnitude_gru_6/mask_0/sparsity instead.\n",
      "INFO:tensorflow:Summary name prune_low_magnitude_gru_7/mask:0/sparsity is illegal; using prune_low_magnitude_gru_7/mask_0/sparsity instead.\n",
      "INFO:tensorflow:Summary name prune_low_magnitude_dense_4/mask:0/sparsity is illegal; using prune_low_magnitude_dense_4/mask_0/sparsity instead.\n",
      "INFO:tensorflow:Summary name prune_low_magnitude_dense_5/mask:0/sparsity is illegal; using prune_low_magnitude_dense_5/mask_0/sparsity instead.\n",
      "INFO:tensorflow:Summary name prune_low_magnitude_gru_6/threshold:0/threshold is illegal; using prune_low_magnitude_gru_6/threshold_0/threshold instead.\n",
      "INFO:tensorflow:Summary name prune_low_magnitude_gru_7/threshold:0/threshold is illegal; using prune_low_magnitude_gru_7/threshold_0/threshold instead.\n",
      "INFO:tensorflow:Summary name prune_low_magnitude_dense_4/threshold:0/threshold is illegal; using prune_low_magnitude_dense_4/threshold_0/threshold instead.\n",
      "INFO:tensorflow:Summary name prune_low_magnitude_dense_5/threshold:0/threshold is illegal; using prune_low_magnitude_dense_5/threshold_0/threshold instead.\n",
      "230/230 [==============================] - 3s 15ms/step - loss: 0.1694 - accuracy: 0.9357\n",
      "Epoch 4/100\n",
      "228/230 [============================>.] - ETA: 0s - loss: 0.1458 - accuracy: 0.9426INFO:tensorflow:Summary name prune_low_magnitude_gru_6/mask:0/sparsity is illegal; using prune_low_magnitude_gru_6/mask_0/sparsity instead.\n",
      "INFO:tensorflow:Summary name prune_low_magnitude_gru_7/mask:0/sparsity is illegal; using prune_low_magnitude_gru_7/mask_0/sparsity instead.\n",
      "INFO:tensorflow:Summary name prune_low_magnitude_dense_4/mask:0/sparsity is illegal; using prune_low_magnitude_dense_4/mask_0/sparsity instead.\n",
      "INFO:tensorflow:Summary name prune_low_magnitude_dense_5/mask:0/sparsity is illegal; using prune_low_magnitude_dense_5/mask_0/sparsity instead.\n",
      "INFO:tensorflow:Summary name prune_low_magnitude_gru_6/threshold:0/threshold is illegal; using prune_low_magnitude_gru_6/threshold_0/threshold instead.\n",
      "INFO:tensorflow:Summary name prune_low_magnitude_gru_7/threshold:0/threshold is illegal; using prune_low_magnitude_gru_7/threshold_0/threshold instead.\n",
      "INFO:tensorflow:Summary name prune_low_magnitude_dense_4/threshold:0/threshold is illegal; using prune_low_magnitude_dense_4/threshold_0/threshold instead.\n",
      "INFO:tensorflow:Summary name prune_low_magnitude_dense_5/threshold:0/threshold is illegal; using prune_low_magnitude_dense_5/threshold_0/threshold instead.\n",
      "230/230 [==============================] - 3s 14ms/step - loss: 0.1459 - accuracy: 0.9426\n",
      "Epoch 5/100\n",
      "228/230 [============================>.] - ETA: 0s - loss: 0.1396 - accuracy: 0.9431INFO:tensorflow:Summary name prune_low_magnitude_gru_6/mask:0/sparsity is illegal; using prune_low_magnitude_gru_6/mask_0/sparsity instead.\n",
      "INFO:tensorflow:Summary name prune_low_magnitude_gru_7/mask:0/sparsity is illegal; using prune_low_magnitude_gru_7/mask_0/sparsity instead.\n",
      "INFO:tensorflow:Summary name prune_low_magnitude_dense_4/mask:0/sparsity is illegal; using prune_low_magnitude_dense_4/mask_0/sparsity instead.\n",
      "INFO:tensorflow:Summary name prune_low_magnitude_dense_5/mask:0/sparsity is illegal; using prune_low_magnitude_dense_5/mask_0/sparsity instead.\n",
      "INFO:tensorflow:Summary name prune_low_magnitude_gru_6/threshold:0/threshold is illegal; using prune_low_magnitude_gru_6/threshold_0/threshold instead.\n",
      "INFO:tensorflow:Summary name prune_low_magnitude_gru_7/threshold:0/threshold is illegal; using prune_low_magnitude_gru_7/threshold_0/threshold instead.\n",
      "INFO:tensorflow:Summary name prune_low_magnitude_dense_4/threshold:0/threshold is illegal; using prune_low_magnitude_dense_4/threshold_0/threshold instead.\n",
      "INFO:tensorflow:Summary name prune_low_magnitude_dense_5/threshold:0/threshold is illegal; using prune_low_magnitude_dense_5/threshold_0/threshold instead.\n",
      "230/230 [==============================] - 3s 14ms/step - loss: 0.1393 - accuracy: 0.9430\n",
      "Epoch 6/100\n",
      "227/230 [============================>.] - ETA: 0s - loss: 0.1362 - accuracy: 0.9453INFO:tensorflow:Summary name prune_low_magnitude_gru_6/mask:0/sparsity is illegal; using prune_low_magnitude_gru_6/mask_0/sparsity instead.\n",
      "INFO:tensorflow:Summary name prune_low_magnitude_gru_7/mask:0/sparsity is illegal; using prune_low_magnitude_gru_7/mask_0/sparsity instead.\n",
      "INFO:tensorflow:Summary name prune_low_magnitude_dense_4/mask:0/sparsity is illegal; using prune_low_magnitude_dense_4/mask_0/sparsity instead.\n",
      "INFO:tensorflow:Summary name prune_low_magnitude_dense_5/mask:0/sparsity is illegal; using prune_low_magnitude_dense_5/mask_0/sparsity instead.\n",
      "INFO:tensorflow:Summary name prune_low_magnitude_gru_6/threshold:0/threshold is illegal; using prune_low_magnitude_gru_6/threshold_0/threshold instead.\n",
      "INFO:tensorflow:Summary name prune_low_magnitude_gru_7/threshold:0/threshold is illegal; using prune_low_magnitude_gru_7/threshold_0/threshold instead.\n",
      "INFO:tensorflow:Summary name prune_low_magnitude_dense_4/threshold:0/threshold is illegal; using prune_low_magnitude_dense_4/threshold_0/threshold instead.\n",
      "INFO:tensorflow:Summary name prune_low_magnitude_dense_5/threshold:0/threshold is illegal; using prune_low_magnitude_dense_5/threshold_0/threshold instead.\n",
      "230/230 [==============================] - 3s 15ms/step - loss: 0.1367 - accuracy: 0.9449\n",
      "Epoch 7/100\n",
      "228/230 [============================>.] - ETA: 0s - loss: 0.1233 - accuracy: 0.9508INFO:tensorflow:Summary name prune_low_magnitude_gru_6/mask:0/sparsity is illegal; using prune_low_magnitude_gru_6/mask_0/sparsity instead.\n",
      "INFO:tensorflow:Summary name prune_low_magnitude_gru_7/mask:0/sparsity is illegal; using prune_low_magnitude_gru_7/mask_0/sparsity instead.\n",
      "INFO:tensorflow:Summary name prune_low_magnitude_dense_4/mask:0/sparsity is illegal; using prune_low_magnitude_dense_4/mask_0/sparsity instead.\n",
      "INFO:tensorflow:Summary name prune_low_magnitude_dense_5/mask:0/sparsity is illegal; using prune_low_magnitude_dense_5/mask_0/sparsity instead.\n",
      "INFO:tensorflow:Summary name prune_low_magnitude_gru_6/threshold:0/threshold is illegal; using prune_low_magnitude_gru_6/threshold_0/threshold instead.\n",
      "INFO:tensorflow:Summary name prune_low_magnitude_gru_7/threshold:0/threshold is illegal; using prune_low_magnitude_gru_7/threshold_0/threshold instead.\n",
      "INFO:tensorflow:Summary name prune_low_magnitude_dense_4/threshold:0/threshold is illegal; using prune_low_magnitude_dense_4/threshold_0/threshold instead.\n",
      "INFO:tensorflow:Summary name prune_low_magnitude_dense_5/threshold:0/threshold is illegal; using prune_low_magnitude_dense_5/threshold_0/threshold instead.\n",
      "230/230 [==============================] - 3s 15ms/step - loss: 0.1239 - accuracy: 0.9508\n",
      "Epoch 8/100\n",
      "228/230 [============================>.] - ETA: 0s - loss: 0.1413 - accuracy: 0.9445INFO:tensorflow:Summary name prune_low_magnitude_gru_6/mask:0/sparsity is illegal; using prune_low_magnitude_gru_6/mask_0/sparsity instead.\n",
      "INFO:tensorflow:Summary name prune_low_magnitude_gru_7/mask:0/sparsity is illegal; using prune_low_magnitude_gru_7/mask_0/sparsity instead.\n",
      "INFO:tensorflow:Summary name prune_low_magnitude_dense_4/mask:0/sparsity is illegal; using prune_low_magnitude_dense_4/mask_0/sparsity instead.\n",
      "INFO:tensorflow:Summary name prune_low_magnitude_dense_5/mask:0/sparsity is illegal; using prune_low_magnitude_dense_5/mask_0/sparsity instead.\n",
      "INFO:tensorflow:Summary name prune_low_magnitude_gru_6/threshold:0/threshold is illegal; using prune_low_magnitude_gru_6/threshold_0/threshold instead.\n",
      "INFO:tensorflow:Summary name prune_low_magnitude_gru_7/threshold:0/threshold is illegal; using prune_low_magnitude_gru_7/threshold_0/threshold instead.\n",
      "INFO:tensorflow:Summary name prune_low_magnitude_dense_4/threshold:0/threshold is illegal; using prune_low_magnitude_dense_4/threshold_0/threshold instead.\n",
      "INFO:tensorflow:Summary name prune_low_magnitude_dense_5/threshold:0/threshold is illegal; using prune_low_magnitude_dense_5/threshold_0/threshold instead.\n",
      "230/230 [==============================] - 3s 15ms/step - loss: 0.1412 - accuracy: 0.9445\n",
      "Epoch 9/100\n",
      "228/230 [============================>.] - ETA: 0s - loss: 0.1245 - accuracy: 0.9512INFO:tensorflow:Summary name prune_low_magnitude_gru_6/mask:0/sparsity is illegal; using prune_low_magnitude_gru_6/mask_0/sparsity instead.\n",
      "INFO:tensorflow:Summary name prune_low_magnitude_gru_7/mask:0/sparsity is illegal; using prune_low_magnitude_gru_7/mask_0/sparsity instead.\n",
      "INFO:tensorflow:Summary name prune_low_magnitude_dense_4/mask:0/sparsity is illegal; using prune_low_magnitude_dense_4/mask_0/sparsity instead.\n",
      "INFO:tensorflow:Summary name prune_low_magnitude_dense_5/mask:0/sparsity is illegal; using prune_low_magnitude_dense_5/mask_0/sparsity instead.\n",
      "INFO:tensorflow:Summary name prune_low_magnitude_gru_6/threshold:0/threshold is illegal; using prune_low_magnitude_gru_6/threshold_0/threshold instead.\n",
      "INFO:tensorflow:Summary name prune_low_magnitude_gru_7/threshold:0/threshold is illegal; using prune_low_magnitude_gru_7/threshold_0/threshold instead.\n",
      "INFO:tensorflow:Summary name prune_low_magnitude_dense_4/threshold:0/threshold is illegal; using prune_low_magnitude_dense_4/threshold_0/threshold instead.\n",
      "INFO:tensorflow:Summary name prune_low_magnitude_dense_5/threshold:0/threshold is illegal; using prune_low_magnitude_dense_5/threshold_0/threshold instead.\n",
      "230/230 [==============================] - 3s 14ms/step - loss: 0.1255 - accuracy: 0.9506\n",
      "Epoch 10/100\n",
      "227/230 [============================>.] - ETA: 0s - loss: 0.1200 - accuracy: 0.9503INFO:tensorflow:Summary name prune_low_magnitude_gru_6/mask:0/sparsity is illegal; using prune_low_magnitude_gru_6/mask_0/sparsity instead.\n",
      "INFO:tensorflow:Summary name prune_low_magnitude_gru_7/mask:0/sparsity is illegal; using prune_low_magnitude_gru_7/mask_0/sparsity instead.\n",
      "INFO:tensorflow:Summary name prune_low_magnitude_dense_4/mask:0/sparsity is illegal; using prune_low_magnitude_dense_4/mask_0/sparsity instead.\n",
      "INFO:tensorflow:Summary name prune_low_magnitude_dense_5/mask:0/sparsity is illegal; using prune_low_magnitude_dense_5/mask_0/sparsity instead.\n",
      "INFO:tensorflow:Summary name prune_low_magnitude_gru_6/threshold:0/threshold is illegal; using prune_low_magnitude_gru_6/threshold_0/threshold instead.\n",
      "INFO:tensorflow:Summary name prune_low_magnitude_gru_7/threshold:0/threshold is illegal; using prune_low_magnitude_gru_7/threshold_0/threshold instead.\n",
      "INFO:tensorflow:Summary name prune_low_magnitude_dense_4/threshold:0/threshold is illegal; using prune_low_magnitude_dense_4/threshold_0/threshold instead.\n",
      "INFO:tensorflow:Summary name prune_low_magnitude_dense_5/threshold:0/threshold is illegal; using prune_low_magnitude_dense_5/threshold_0/threshold instead.\n",
      "230/230 [==============================] - 3s 15ms/step - loss: 0.1195 - accuracy: 0.9505\n",
      "Epoch 11/100\n",
      "227/230 [============================>.] - ETA: 0s - loss: 0.1144 - accuracy: 0.9540INFO:tensorflow:Summary name prune_low_magnitude_gru_6/mask:0/sparsity is illegal; using prune_low_magnitude_gru_6/mask_0/sparsity instead.\n",
      "INFO:tensorflow:Summary name prune_low_magnitude_gru_7/mask:0/sparsity is illegal; using prune_low_magnitude_gru_7/mask_0/sparsity instead.\n",
      "INFO:tensorflow:Summary name prune_low_magnitude_dense_4/mask:0/sparsity is illegal; using prune_low_magnitude_dense_4/mask_0/sparsity instead.\n",
      "INFO:tensorflow:Summary name prune_low_magnitude_dense_5/mask:0/sparsity is illegal; using prune_low_magnitude_dense_5/mask_0/sparsity instead.\n",
      "INFO:tensorflow:Summary name prune_low_magnitude_gru_6/threshold:0/threshold is illegal; using prune_low_magnitude_gru_6/threshold_0/threshold instead.\n",
      "INFO:tensorflow:Summary name prune_low_magnitude_gru_7/threshold:0/threshold is illegal; using prune_low_magnitude_gru_7/threshold_0/threshold instead.\n",
      "INFO:tensorflow:Summary name prune_low_magnitude_dense_4/threshold:0/threshold is illegal; using prune_low_magnitude_dense_4/threshold_0/threshold instead.\n",
      "INFO:tensorflow:Summary name prune_low_magnitude_dense_5/threshold:0/threshold is illegal; using prune_low_magnitude_dense_5/threshold_0/threshold instead.\n",
      "230/230 [==============================] - 3s 14ms/step - loss: 0.1141 - accuracy: 0.9542\n",
      "Epoch 12/100\n",
      "228/230 [============================>.] - ETA: 0s - loss: 0.1218 - accuracy: 0.9505INFO:tensorflow:Summary name prune_low_magnitude_gru_6/mask:0/sparsity is illegal; using prune_low_magnitude_gru_6/mask_0/sparsity instead.\n",
      "INFO:tensorflow:Summary name prune_low_magnitude_gru_7/mask:0/sparsity is illegal; using prune_low_magnitude_gru_7/mask_0/sparsity instead.\n",
      "INFO:tensorflow:Summary name prune_low_magnitude_dense_4/mask:0/sparsity is illegal; using prune_low_magnitude_dense_4/mask_0/sparsity instead.\n",
      "INFO:tensorflow:Summary name prune_low_magnitude_dense_5/mask:0/sparsity is illegal; using prune_low_magnitude_dense_5/mask_0/sparsity instead.\n",
      "INFO:tensorflow:Summary name prune_low_magnitude_gru_6/threshold:0/threshold is illegal; using prune_low_magnitude_gru_6/threshold_0/threshold instead.\n",
      "INFO:tensorflow:Summary name prune_low_magnitude_gru_7/threshold:0/threshold is illegal; using prune_low_magnitude_gru_7/threshold_0/threshold instead.\n",
      "INFO:tensorflow:Summary name prune_low_magnitude_dense_4/threshold:0/threshold is illegal; using prune_low_magnitude_dense_4/threshold_0/threshold instead.\n",
      "INFO:tensorflow:Summary name prune_low_magnitude_dense_5/threshold:0/threshold is illegal; using prune_low_magnitude_dense_5/threshold_0/threshold instead.\n",
      "230/230 [==============================] - 3s 14ms/step - loss: 0.1211 - accuracy: 0.9509\n",
      "Epoch 13/100\n",
      "227/230 [============================>.] - ETA: 0s - loss: 0.1125 - accuracy: 0.9547INFO:tensorflow:Summary name prune_low_magnitude_gru_6/mask:0/sparsity is illegal; using prune_low_magnitude_gru_6/mask_0/sparsity instead.\n",
      "INFO:tensorflow:Summary name prune_low_magnitude_gru_7/mask:0/sparsity is illegal; using prune_low_magnitude_gru_7/mask_0/sparsity instead.\n",
      "INFO:tensorflow:Summary name prune_low_magnitude_dense_4/mask:0/sparsity is illegal; using prune_low_magnitude_dense_4/mask_0/sparsity instead.\n",
      "INFO:tensorflow:Summary name prune_low_magnitude_dense_5/mask:0/sparsity is illegal; using prune_low_magnitude_dense_5/mask_0/sparsity instead.\n",
      "INFO:tensorflow:Summary name prune_low_magnitude_gru_6/threshold:0/threshold is illegal; using prune_low_magnitude_gru_6/threshold_0/threshold instead.\n",
      "INFO:tensorflow:Summary name prune_low_magnitude_gru_7/threshold:0/threshold is illegal; using prune_low_magnitude_gru_7/threshold_0/threshold instead.\n",
      "INFO:tensorflow:Summary name prune_low_magnitude_dense_4/threshold:0/threshold is illegal; using prune_low_magnitude_dense_4/threshold_0/threshold instead.\n",
      "INFO:tensorflow:Summary name prune_low_magnitude_dense_5/threshold:0/threshold is illegal; using prune_low_magnitude_dense_5/threshold_0/threshold instead.\n",
      "230/230 [==============================] - 3s 15ms/step - loss: 0.1132 - accuracy: 0.9544\n",
      "Epoch 14/100\n",
      "228/230 [============================>.] - ETA: 0s - loss: 0.1094 - accuracy: 0.9563INFO:tensorflow:Summary name prune_low_magnitude_gru_6/mask:0/sparsity is illegal; using prune_low_magnitude_gru_6/mask_0/sparsity instead.\n",
      "INFO:tensorflow:Summary name prune_low_magnitude_gru_7/mask:0/sparsity is illegal; using prune_low_magnitude_gru_7/mask_0/sparsity instead.\n",
      "INFO:tensorflow:Summary name prune_low_magnitude_dense_4/mask:0/sparsity is illegal; using prune_low_magnitude_dense_4/mask_0/sparsity instead.\n",
      "INFO:tensorflow:Summary name prune_low_magnitude_dense_5/mask:0/sparsity is illegal; using prune_low_magnitude_dense_5/mask_0/sparsity instead.\n",
      "INFO:tensorflow:Summary name prune_low_magnitude_gru_6/threshold:0/threshold is illegal; using prune_low_magnitude_gru_6/threshold_0/threshold instead.\n",
      "INFO:tensorflow:Summary name prune_low_magnitude_gru_7/threshold:0/threshold is illegal; using prune_low_magnitude_gru_7/threshold_0/threshold instead.\n",
      "INFO:tensorflow:Summary name prune_low_magnitude_dense_4/threshold:0/threshold is illegal; using prune_low_magnitude_dense_4/threshold_0/threshold instead.\n",
      "INFO:tensorflow:Summary name prune_low_magnitude_dense_5/threshold:0/threshold is illegal; using prune_low_magnitude_dense_5/threshold_0/threshold instead.\n",
      "230/230 [==============================] - 3s 14ms/step - loss: 0.1090 - accuracy: 0.9565\n",
      "Epoch 15/100\n",
      "227/230 [============================>.] - ETA: 0s - loss: 0.1084 - accuracy: 0.9555INFO:tensorflow:Summary name prune_low_magnitude_gru_6/mask:0/sparsity is illegal; using prune_low_magnitude_gru_6/mask_0/sparsity instead.\n",
      "INFO:tensorflow:Summary name prune_low_magnitude_gru_7/mask:0/sparsity is illegal; using prune_low_magnitude_gru_7/mask_0/sparsity instead.\n",
      "INFO:tensorflow:Summary name prune_low_magnitude_dense_4/mask:0/sparsity is illegal; using prune_low_magnitude_dense_4/mask_0/sparsity instead.\n",
      "INFO:tensorflow:Summary name prune_low_magnitude_dense_5/mask:0/sparsity is illegal; using prune_low_magnitude_dense_5/mask_0/sparsity instead.\n",
      "INFO:tensorflow:Summary name prune_low_magnitude_gru_6/threshold:0/threshold is illegal; using prune_low_magnitude_gru_6/threshold_0/threshold instead.\n",
      "INFO:tensorflow:Summary name prune_low_magnitude_gru_7/threshold:0/threshold is illegal; using prune_low_magnitude_gru_7/threshold_0/threshold instead.\n",
      "INFO:tensorflow:Summary name prune_low_magnitude_dense_4/threshold:0/threshold is illegal; using prune_low_magnitude_dense_4/threshold_0/threshold instead.\n",
      "INFO:tensorflow:Summary name prune_low_magnitude_dense_5/threshold:0/threshold is illegal; using prune_low_magnitude_dense_5/threshold_0/threshold instead.\n",
      "230/230 [==============================] - 3s 14ms/step - loss: 0.1092 - accuracy: 0.9551\n",
      "Epoch 16/100\n",
      "227/230 [============================>.] - ETA: 0s - loss: 0.1067 - accuracy: 0.9546INFO:tensorflow:Summary name prune_low_magnitude_gru_6/mask:0/sparsity is illegal; using prune_low_magnitude_gru_6/mask_0/sparsity instead.\n",
      "INFO:tensorflow:Summary name prune_low_magnitude_gru_7/mask:0/sparsity is illegal; using prune_low_magnitude_gru_7/mask_0/sparsity instead.\n",
      "INFO:tensorflow:Summary name prune_low_magnitude_dense_4/mask:0/sparsity is illegal; using prune_low_magnitude_dense_4/mask_0/sparsity instead.\n",
      "INFO:tensorflow:Summary name prune_low_magnitude_dense_5/mask:0/sparsity is illegal; using prune_low_magnitude_dense_5/mask_0/sparsity instead.\n",
      "INFO:tensorflow:Summary name prune_low_magnitude_gru_6/threshold:0/threshold is illegal; using prune_low_magnitude_gru_6/threshold_0/threshold instead.\n",
      "INFO:tensorflow:Summary name prune_low_magnitude_gru_7/threshold:0/threshold is illegal; using prune_low_magnitude_gru_7/threshold_0/threshold instead.\n",
      "INFO:tensorflow:Summary name prune_low_magnitude_dense_4/threshold:0/threshold is illegal; using prune_low_magnitude_dense_4/threshold_0/threshold instead.\n",
      "INFO:tensorflow:Summary name prune_low_magnitude_dense_5/threshold:0/threshold is illegal; using prune_low_magnitude_dense_5/threshold_0/threshold instead.\n",
      "230/230 [==============================] - 3s 15ms/step - loss: 0.1070 - accuracy: 0.9546\n",
      "Epoch 17/100\n",
      "228/230 [============================>.] - ETA: 0s - loss: 0.1050 - accuracy: 0.9553INFO:tensorflow:Summary name prune_low_magnitude_gru_6/mask:0/sparsity is illegal; using prune_low_magnitude_gru_6/mask_0/sparsity instead.\n",
      "INFO:tensorflow:Summary name prune_low_magnitude_gru_7/mask:0/sparsity is illegal; using prune_low_magnitude_gru_7/mask_0/sparsity instead.\n",
      "INFO:tensorflow:Summary name prune_low_magnitude_dense_4/mask:0/sparsity is illegal; using prune_low_magnitude_dense_4/mask_0/sparsity instead.\n",
      "INFO:tensorflow:Summary name prune_low_magnitude_dense_5/mask:0/sparsity is illegal; using prune_low_magnitude_dense_5/mask_0/sparsity instead.\n",
      "INFO:tensorflow:Summary name prune_low_magnitude_gru_6/threshold:0/threshold is illegal; using prune_low_magnitude_gru_6/threshold_0/threshold instead.\n",
      "INFO:tensorflow:Summary name prune_low_magnitude_gru_7/threshold:0/threshold is illegal; using prune_low_magnitude_gru_7/threshold_0/threshold instead.\n",
      "INFO:tensorflow:Summary name prune_low_magnitude_dense_4/threshold:0/threshold is illegal; using prune_low_magnitude_dense_4/threshold_0/threshold instead.\n",
      "INFO:tensorflow:Summary name prune_low_magnitude_dense_5/threshold:0/threshold is illegal; using prune_low_magnitude_dense_5/threshold_0/threshold instead.\n",
      "230/230 [==============================] - 3s 14ms/step - loss: 0.1050 - accuracy: 0.9554\n",
      "Epoch 18/100\n",
      "229/230 [============================>.] - ETA: 0s - loss: 0.1064 - accuracy: 0.9576INFO:tensorflow:Summary name prune_low_magnitude_gru_6/mask:0/sparsity is illegal; using prune_low_magnitude_gru_6/mask_0/sparsity instead.\n",
      "INFO:tensorflow:Summary name prune_low_magnitude_gru_7/mask:0/sparsity is illegal; using prune_low_magnitude_gru_7/mask_0/sparsity instead.\n",
      "INFO:tensorflow:Summary name prune_low_magnitude_dense_4/mask:0/sparsity is illegal; using prune_low_magnitude_dense_4/mask_0/sparsity instead.\n",
      "INFO:tensorflow:Summary name prune_low_magnitude_dense_5/mask:0/sparsity is illegal; using prune_low_magnitude_dense_5/mask_0/sparsity instead.\n",
      "INFO:tensorflow:Summary name prune_low_magnitude_gru_6/threshold:0/threshold is illegal; using prune_low_magnitude_gru_6/threshold_0/threshold instead.\n",
      "INFO:tensorflow:Summary name prune_low_magnitude_gru_7/threshold:0/threshold is illegal; using prune_low_magnitude_gru_7/threshold_0/threshold instead.\n",
      "INFO:tensorflow:Summary name prune_low_magnitude_dense_4/threshold:0/threshold is illegal; using prune_low_magnitude_dense_4/threshold_0/threshold instead.\n",
      "INFO:tensorflow:Summary name prune_low_magnitude_dense_5/threshold:0/threshold is illegal; using prune_low_magnitude_dense_5/threshold_0/threshold instead.\n",
      "230/230 [==============================] - 3s 15ms/step - loss: 0.1060 - accuracy: 0.9577\n",
      "Epoch 19/100\n",
      "229/230 [============================>.] - ETA: 0s - loss: 0.1063 - accuracy: 0.9572INFO:tensorflow:Summary name prune_low_magnitude_gru_6/mask:0/sparsity is illegal; using prune_low_magnitude_gru_6/mask_0/sparsity instead.\n",
      "INFO:tensorflow:Summary name prune_low_magnitude_gru_7/mask:0/sparsity is illegal; using prune_low_magnitude_gru_7/mask_0/sparsity instead.\n",
      "INFO:tensorflow:Summary name prune_low_magnitude_dense_4/mask:0/sparsity is illegal; using prune_low_magnitude_dense_4/mask_0/sparsity instead.\n",
      "INFO:tensorflow:Summary name prune_low_magnitude_dense_5/mask:0/sparsity is illegal; using prune_low_magnitude_dense_5/mask_0/sparsity instead.\n",
      "INFO:tensorflow:Summary name prune_low_magnitude_gru_6/threshold:0/threshold is illegal; using prune_low_magnitude_gru_6/threshold_0/threshold instead.\n",
      "INFO:tensorflow:Summary name prune_low_magnitude_gru_7/threshold:0/threshold is illegal; using prune_low_magnitude_gru_7/threshold_0/threshold instead.\n",
      "INFO:tensorflow:Summary name prune_low_magnitude_dense_4/threshold:0/threshold is illegal; using prune_low_magnitude_dense_4/threshold_0/threshold instead.\n",
      "INFO:tensorflow:Summary name prune_low_magnitude_dense_5/threshold:0/threshold is illegal; using prune_low_magnitude_dense_5/threshold_0/threshold instead.\n",
      "230/230 [==============================] - 4s 15ms/step - loss: 0.1065 - accuracy: 0.9572\n",
      "Epoch 20/100\n",
      "229/230 [============================>.] - ETA: 0s - loss: 0.1025 - accuracy: 0.9578INFO:tensorflow:Summary name prune_low_magnitude_gru_6/mask:0/sparsity is illegal; using prune_low_magnitude_gru_6/mask_0/sparsity instead.\n",
      "INFO:tensorflow:Summary name prune_low_magnitude_gru_7/mask:0/sparsity is illegal; using prune_low_magnitude_gru_7/mask_0/sparsity instead.\n",
      "INFO:tensorflow:Summary name prune_low_magnitude_dense_4/mask:0/sparsity is illegal; using prune_low_magnitude_dense_4/mask_0/sparsity instead.\n",
      "INFO:tensorflow:Summary name prune_low_magnitude_dense_5/mask:0/sparsity is illegal; using prune_low_magnitude_dense_5/mask_0/sparsity instead.\n",
      "INFO:tensorflow:Summary name prune_low_magnitude_gru_6/threshold:0/threshold is illegal; using prune_low_magnitude_gru_6/threshold_0/threshold instead.\n",
      "INFO:tensorflow:Summary name prune_low_magnitude_gru_7/threshold:0/threshold is illegal; using prune_low_magnitude_gru_7/threshold_0/threshold instead.\n",
      "INFO:tensorflow:Summary name prune_low_magnitude_dense_4/threshold:0/threshold is illegal; using prune_low_magnitude_dense_4/threshold_0/threshold instead.\n",
      "INFO:tensorflow:Summary name prune_low_magnitude_dense_5/threshold:0/threshold is illegal; using prune_low_magnitude_dense_5/threshold_0/threshold instead.\n",
      "230/230 [==============================] - 4s 15ms/step - loss: 0.1024 - accuracy: 0.9577\n",
      "Epoch 21/100\n",
      "230/230 [==============================] - ETA: 0s - loss: 0.0988 - accuracy: 0.9567INFO:tensorflow:Summary name prune_low_magnitude_gru_6/mask:0/sparsity is illegal; using prune_low_magnitude_gru_6/mask_0/sparsity instead.\n",
      "INFO:tensorflow:Summary name prune_low_magnitude_gru_7/mask:0/sparsity is illegal; using prune_low_magnitude_gru_7/mask_0/sparsity instead.\n",
      "INFO:tensorflow:Summary name prune_low_magnitude_dense_4/mask:0/sparsity is illegal; using prune_low_magnitude_dense_4/mask_0/sparsity instead.\n",
      "INFO:tensorflow:Summary name prune_low_magnitude_dense_5/mask:0/sparsity is illegal; using prune_low_magnitude_dense_5/mask_0/sparsity instead.\n",
      "INFO:tensorflow:Summary name prune_low_magnitude_gru_6/threshold:0/threshold is illegal; using prune_low_magnitude_gru_6/threshold_0/threshold instead.\n",
      "INFO:tensorflow:Summary name prune_low_magnitude_gru_7/threshold:0/threshold is illegal; using prune_low_magnitude_gru_7/threshold_0/threshold instead.\n",
      "INFO:tensorflow:Summary name prune_low_magnitude_dense_4/threshold:0/threshold is illegal; using prune_low_magnitude_dense_4/threshold_0/threshold instead.\n",
      "INFO:tensorflow:Summary name prune_low_magnitude_dense_5/threshold:0/threshold is illegal; using prune_low_magnitude_dense_5/threshold_0/threshold instead.\n",
      "230/230 [==============================] - 3s 15ms/step - loss: 0.0988 - accuracy: 0.9567\n",
      "Epoch 22/100\n",
      "230/230 [==============================] - ETA: 0s - loss: 0.0974 - accuracy: 0.9589INFO:tensorflow:Summary name prune_low_magnitude_gru_6/mask:0/sparsity is illegal; using prune_low_magnitude_gru_6/mask_0/sparsity instead.\n",
      "INFO:tensorflow:Summary name prune_low_magnitude_gru_7/mask:0/sparsity is illegal; using prune_low_magnitude_gru_7/mask_0/sparsity instead.\n",
      "INFO:tensorflow:Summary name prune_low_magnitude_dense_4/mask:0/sparsity is illegal; using prune_low_magnitude_dense_4/mask_0/sparsity instead.\n",
      "INFO:tensorflow:Summary name prune_low_magnitude_dense_5/mask:0/sparsity is illegal; using prune_low_magnitude_dense_5/mask_0/sparsity instead.\n",
      "INFO:tensorflow:Summary name prune_low_magnitude_gru_6/threshold:0/threshold is illegal; using prune_low_magnitude_gru_6/threshold_0/threshold instead.\n",
      "INFO:tensorflow:Summary name prune_low_magnitude_gru_7/threshold:0/threshold is illegal; using prune_low_magnitude_gru_7/threshold_0/threshold instead.\n",
      "INFO:tensorflow:Summary name prune_low_magnitude_dense_4/threshold:0/threshold is illegal; using prune_low_magnitude_dense_4/threshold_0/threshold instead.\n",
      "INFO:tensorflow:Summary name prune_low_magnitude_dense_5/threshold:0/threshold is illegal; using prune_low_magnitude_dense_5/threshold_0/threshold instead.\n",
      "230/230 [==============================] - 3s 15ms/step - loss: 0.0974 - accuracy: 0.9589\n",
      "Epoch 23/100\n",
      "229/230 [============================>.] - ETA: 0s - loss: 0.0970 - accuracy: 0.9581INFO:tensorflow:Summary name prune_low_magnitude_gru_6/mask:0/sparsity is illegal; using prune_low_magnitude_gru_6/mask_0/sparsity instead.\n",
      "INFO:tensorflow:Summary name prune_low_magnitude_gru_7/mask:0/sparsity is illegal; using prune_low_magnitude_gru_7/mask_0/sparsity instead.\n",
      "INFO:tensorflow:Summary name prune_low_magnitude_dense_4/mask:0/sparsity is illegal; using prune_low_magnitude_dense_4/mask_0/sparsity instead.\n",
      "INFO:tensorflow:Summary name prune_low_magnitude_dense_5/mask:0/sparsity is illegal; using prune_low_magnitude_dense_5/mask_0/sparsity instead.\n",
      "INFO:tensorflow:Summary name prune_low_magnitude_gru_6/threshold:0/threshold is illegal; using prune_low_magnitude_gru_6/threshold_0/threshold instead.\n",
      "INFO:tensorflow:Summary name prune_low_magnitude_gru_7/threshold:0/threshold is illegal; using prune_low_magnitude_gru_7/threshold_0/threshold instead.\n",
      "INFO:tensorflow:Summary name prune_low_magnitude_dense_4/threshold:0/threshold is illegal; using prune_low_magnitude_dense_4/threshold_0/threshold instead.\n",
      "INFO:tensorflow:Summary name prune_low_magnitude_dense_5/threshold:0/threshold is illegal; using prune_low_magnitude_dense_5/threshold_0/threshold instead.\n",
      "230/230 [==============================] - 3s 14ms/step - loss: 0.0966 - accuracy: 0.9582\n",
      "Epoch 24/100\n",
      "229/230 [============================>.] - ETA: 0s - loss: 0.1085 - accuracy: 0.9540INFO:tensorflow:Summary name prune_low_magnitude_gru_6/mask:0/sparsity is illegal; using prune_low_magnitude_gru_6/mask_0/sparsity instead.\n",
      "INFO:tensorflow:Summary name prune_low_magnitude_gru_7/mask:0/sparsity is illegal; using prune_low_magnitude_gru_7/mask_0/sparsity instead.\n",
      "INFO:tensorflow:Summary name prune_low_magnitude_dense_4/mask:0/sparsity is illegal; using prune_low_magnitude_dense_4/mask_0/sparsity instead.\n",
      "INFO:tensorflow:Summary name prune_low_magnitude_dense_5/mask:0/sparsity is illegal; using prune_low_magnitude_dense_5/mask_0/sparsity instead.\n",
      "INFO:tensorflow:Summary name prune_low_magnitude_gru_6/threshold:0/threshold is illegal; using prune_low_magnitude_gru_6/threshold_0/threshold instead.\n",
      "INFO:tensorflow:Summary name prune_low_magnitude_gru_7/threshold:0/threshold is illegal; using prune_low_magnitude_gru_7/threshold_0/threshold instead.\n",
      "INFO:tensorflow:Summary name prune_low_magnitude_dense_4/threshold:0/threshold is illegal; using prune_low_magnitude_dense_4/threshold_0/threshold instead.\n",
      "INFO:tensorflow:Summary name prune_low_magnitude_dense_5/threshold:0/threshold is illegal; using prune_low_magnitude_dense_5/threshold_0/threshold instead.\n",
      "230/230 [==============================] - 3s 15ms/step - loss: 0.1083 - accuracy: 0.9540\n",
      "Epoch 25/100\n",
      "230/230 [==============================] - ETA: 0s - loss: 0.0964 - accuracy: 0.9577INFO:tensorflow:Summary name prune_low_magnitude_gru_6/mask:0/sparsity is illegal; using prune_low_magnitude_gru_6/mask_0/sparsity instead.\n",
      "INFO:tensorflow:Summary name prune_low_magnitude_gru_7/mask:0/sparsity is illegal; using prune_low_magnitude_gru_7/mask_0/sparsity instead.\n",
      "INFO:tensorflow:Summary name prune_low_magnitude_dense_4/mask:0/sparsity is illegal; using prune_low_magnitude_dense_4/mask_0/sparsity instead.\n",
      "INFO:tensorflow:Summary name prune_low_magnitude_dense_5/mask:0/sparsity is illegal; using prune_low_magnitude_dense_5/mask_0/sparsity instead.\n",
      "INFO:tensorflow:Summary name prune_low_magnitude_gru_6/threshold:0/threshold is illegal; using prune_low_magnitude_gru_6/threshold_0/threshold instead.\n",
      "INFO:tensorflow:Summary name prune_low_magnitude_gru_7/threshold:0/threshold is illegal; using prune_low_magnitude_gru_7/threshold_0/threshold instead.\n",
      "INFO:tensorflow:Summary name prune_low_magnitude_dense_4/threshold:0/threshold is illegal; using prune_low_magnitude_dense_4/threshold_0/threshold instead.\n",
      "INFO:tensorflow:Summary name prune_low_magnitude_dense_5/threshold:0/threshold is illegal; using prune_low_magnitude_dense_5/threshold_0/threshold instead.\n",
      "230/230 [==============================] - 3s 15ms/step - loss: 0.0964 - accuracy: 0.9577\n",
      "Epoch 26/100\n",
      "229/230 [============================>.] - ETA: 0s - loss: 0.0920 - accuracy: 0.9596INFO:tensorflow:Summary name prune_low_magnitude_gru_6/mask:0/sparsity is illegal; using prune_low_magnitude_gru_6/mask_0/sparsity instead.\n",
      "INFO:tensorflow:Summary name prune_low_magnitude_gru_7/mask:0/sparsity is illegal; using prune_low_magnitude_gru_7/mask_0/sparsity instead.\n",
      "INFO:tensorflow:Summary name prune_low_magnitude_dense_4/mask:0/sparsity is illegal; using prune_low_magnitude_dense_4/mask_0/sparsity instead.\n",
      "INFO:tensorflow:Summary name prune_low_magnitude_dense_5/mask:0/sparsity is illegal; using prune_low_magnitude_dense_5/mask_0/sparsity instead.\n",
      "INFO:tensorflow:Summary name prune_low_magnitude_gru_6/threshold:0/threshold is illegal; using prune_low_magnitude_gru_6/threshold_0/threshold instead.\n",
      "INFO:tensorflow:Summary name prune_low_magnitude_gru_7/threshold:0/threshold is illegal; using prune_low_magnitude_gru_7/threshold_0/threshold instead.\n",
      "INFO:tensorflow:Summary name prune_low_magnitude_dense_4/threshold:0/threshold is illegal; using prune_low_magnitude_dense_4/threshold_0/threshold instead.\n",
      "INFO:tensorflow:Summary name prune_low_magnitude_dense_5/threshold:0/threshold is illegal; using prune_low_magnitude_dense_5/threshold_0/threshold instead.\n",
      "230/230 [==============================] - 3s 15ms/step - loss: 0.0918 - accuracy: 0.9596\n",
      "Epoch 27/100\n",
      "229/230 [============================>.] - ETA: 0s - loss: 0.0951 - accuracy: 0.9596INFO:tensorflow:Summary name prune_low_magnitude_gru_6/mask:0/sparsity is illegal; using prune_low_magnitude_gru_6/mask_0/sparsity instead.\n",
      "INFO:tensorflow:Summary name prune_low_magnitude_gru_7/mask:0/sparsity is illegal; using prune_low_magnitude_gru_7/mask_0/sparsity instead.\n",
      "INFO:tensorflow:Summary name prune_low_magnitude_dense_4/mask:0/sparsity is illegal; using prune_low_magnitude_dense_4/mask_0/sparsity instead.\n",
      "INFO:tensorflow:Summary name prune_low_magnitude_dense_5/mask:0/sparsity is illegal; using prune_low_magnitude_dense_5/mask_0/sparsity instead.\n",
      "INFO:tensorflow:Summary name prune_low_magnitude_gru_6/threshold:0/threshold is illegal; using prune_low_magnitude_gru_6/threshold_0/threshold instead.\n",
      "INFO:tensorflow:Summary name prune_low_magnitude_gru_7/threshold:0/threshold is illegal; using prune_low_magnitude_gru_7/threshold_0/threshold instead.\n",
      "INFO:tensorflow:Summary name prune_low_magnitude_dense_4/threshold:0/threshold is illegal; using prune_low_magnitude_dense_4/threshold_0/threshold instead.\n",
      "INFO:tensorflow:Summary name prune_low_magnitude_dense_5/threshold:0/threshold is illegal; using prune_low_magnitude_dense_5/threshold_0/threshold instead.\n",
      "230/230 [==============================] - 3s 14ms/step - loss: 0.0948 - accuracy: 0.9597\n",
      "Epoch 28/100\n",
      "229/230 [============================>.] - ETA: 0s - loss: 0.0897 - accuracy: 0.9621INFO:tensorflow:Summary name prune_low_magnitude_gru_6/mask:0/sparsity is illegal; using prune_low_magnitude_gru_6/mask_0/sparsity instead.\n",
      "INFO:tensorflow:Summary name prune_low_magnitude_gru_7/mask:0/sparsity is illegal; using prune_low_magnitude_gru_7/mask_0/sparsity instead.\n",
      "INFO:tensorflow:Summary name prune_low_magnitude_dense_4/mask:0/sparsity is illegal; using prune_low_magnitude_dense_4/mask_0/sparsity instead.\n",
      "INFO:tensorflow:Summary name prune_low_magnitude_dense_5/mask:0/sparsity is illegal; using prune_low_magnitude_dense_5/mask_0/sparsity instead.\n",
      "INFO:tensorflow:Summary name prune_low_magnitude_gru_6/threshold:0/threshold is illegal; using prune_low_magnitude_gru_6/threshold_0/threshold instead.\n",
      "INFO:tensorflow:Summary name prune_low_magnitude_gru_7/threshold:0/threshold is illegal; using prune_low_magnitude_gru_7/threshold_0/threshold instead.\n",
      "INFO:tensorflow:Summary name prune_low_magnitude_dense_4/threshold:0/threshold is illegal; using prune_low_magnitude_dense_4/threshold_0/threshold instead.\n",
      "INFO:tensorflow:Summary name prune_low_magnitude_dense_5/threshold:0/threshold is illegal; using prune_low_magnitude_dense_5/threshold_0/threshold instead.\n",
      "230/230 [==============================] - 3s 14ms/step - loss: 0.0900 - accuracy: 0.9619\n",
      "Epoch 29/100\n",
      "229/230 [============================>.] - ETA: 0s - loss: 0.0877 - accuracy: 0.9595INFO:tensorflow:Summary name prune_low_magnitude_gru_6/mask:0/sparsity is illegal; using prune_low_magnitude_gru_6/mask_0/sparsity instead.\n",
      "INFO:tensorflow:Summary name prune_low_magnitude_gru_7/mask:0/sparsity is illegal; using prune_low_magnitude_gru_7/mask_0/sparsity instead.\n",
      "INFO:tensorflow:Summary name prune_low_magnitude_dense_4/mask:0/sparsity is illegal; using prune_low_magnitude_dense_4/mask_0/sparsity instead.\n",
      "INFO:tensorflow:Summary name prune_low_magnitude_dense_5/mask:0/sparsity is illegal; using prune_low_magnitude_dense_5/mask_0/sparsity instead.\n",
      "INFO:tensorflow:Summary name prune_low_magnitude_gru_6/threshold:0/threshold is illegal; using prune_low_magnitude_gru_6/threshold_0/threshold instead.\n",
      "INFO:tensorflow:Summary name prune_low_magnitude_gru_7/threshold:0/threshold is illegal; using prune_low_magnitude_gru_7/threshold_0/threshold instead.\n",
      "INFO:tensorflow:Summary name prune_low_magnitude_dense_4/threshold:0/threshold is illegal; using prune_low_magnitude_dense_4/threshold_0/threshold instead.\n",
      "INFO:tensorflow:Summary name prune_low_magnitude_dense_5/threshold:0/threshold is illegal; using prune_low_magnitude_dense_5/threshold_0/threshold instead.\n",
      "230/230 [==============================] - 3s 14ms/step - loss: 0.0883 - accuracy: 0.9595\n",
      "Epoch 30/100\n",
      "227/230 [============================>.] - ETA: 0s - loss: 0.0873 - accuracy: 0.9608INFO:tensorflow:Summary name prune_low_magnitude_gru_6/mask:0/sparsity is illegal; using prune_low_magnitude_gru_6/mask_0/sparsity instead.\n",
      "INFO:tensorflow:Summary name prune_low_magnitude_gru_7/mask:0/sparsity is illegal; using prune_low_magnitude_gru_7/mask_0/sparsity instead.\n",
      "INFO:tensorflow:Summary name prune_low_magnitude_dense_4/mask:0/sparsity is illegal; using prune_low_magnitude_dense_4/mask_0/sparsity instead.\n",
      "INFO:tensorflow:Summary name prune_low_magnitude_dense_5/mask:0/sparsity is illegal; using prune_low_magnitude_dense_5/mask_0/sparsity instead.\n",
      "INFO:tensorflow:Summary name prune_low_magnitude_gru_6/threshold:0/threshold is illegal; using prune_low_magnitude_gru_6/threshold_0/threshold instead.\n",
      "INFO:tensorflow:Summary name prune_low_magnitude_gru_7/threshold:0/threshold is illegal; using prune_low_magnitude_gru_7/threshold_0/threshold instead.\n",
      "INFO:tensorflow:Summary name prune_low_magnitude_dense_4/threshold:0/threshold is illegal; using prune_low_magnitude_dense_4/threshold_0/threshold instead.\n",
      "INFO:tensorflow:Summary name prune_low_magnitude_dense_5/threshold:0/threshold is illegal; using prune_low_magnitude_dense_5/threshold_0/threshold instead.\n",
      "230/230 [==============================] - 3s 15ms/step - loss: 0.0871 - accuracy: 0.9610\n",
      "Epoch 31/100\n",
      "227/230 [============================>.] - ETA: 0s - loss: 0.0903 - accuracy: 0.9602INFO:tensorflow:Summary name prune_low_magnitude_gru_6/mask:0/sparsity is illegal; using prune_low_magnitude_gru_6/mask_0/sparsity instead.\n",
      "INFO:tensorflow:Summary name prune_low_magnitude_gru_7/mask:0/sparsity is illegal; using prune_low_magnitude_gru_7/mask_0/sparsity instead.\n",
      "INFO:tensorflow:Summary name prune_low_magnitude_dense_4/mask:0/sparsity is illegal; using prune_low_magnitude_dense_4/mask_0/sparsity instead.\n",
      "INFO:tensorflow:Summary name prune_low_magnitude_dense_5/mask:0/sparsity is illegal; using prune_low_magnitude_dense_5/mask_0/sparsity instead.\n",
      "INFO:tensorflow:Summary name prune_low_magnitude_gru_6/threshold:0/threshold is illegal; using prune_low_magnitude_gru_6/threshold_0/threshold instead.\n",
      "INFO:tensorflow:Summary name prune_low_magnitude_gru_7/threshold:0/threshold is illegal; using prune_low_magnitude_gru_7/threshold_0/threshold instead.\n",
      "INFO:tensorflow:Summary name prune_low_magnitude_dense_4/threshold:0/threshold is illegal; using prune_low_magnitude_dense_4/threshold_0/threshold instead.\n",
      "INFO:tensorflow:Summary name prune_low_magnitude_dense_5/threshold:0/threshold is illegal; using prune_low_magnitude_dense_5/threshold_0/threshold instead.\n",
      "230/230 [==============================] - 3s 14ms/step - loss: 0.0902 - accuracy: 0.9601\n",
      "Epoch 32/100\n",
      "230/230 [==============================] - ETA: 0s - loss: 0.0851 - accuracy: 0.9629INFO:tensorflow:Summary name prune_low_magnitude_gru_6/mask:0/sparsity is illegal; using prune_low_magnitude_gru_6/mask_0/sparsity instead.\n",
      "INFO:tensorflow:Summary name prune_low_magnitude_gru_7/mask:0/sparsity is illegal; using prune_low_magnitude_gru_7/mask_0/sparsity instead.\n",
      "INFO:tensorflow:Summary name prune_low_magnitude_dense_4/mask:0/sparsity is illegal; using prune_low_magnitude_dense_4/mask_0/sparsity instead.\n",
      "INFO:tensorflow:Summary name prune_low_magnitude_dense_5/mask:0/sparsity is illegal; using prune_low_magnitude_dense_5/mask_0/sparsity instead.\n",
      "INFO:tensorflow:Summary name prune_low_magnitude_gru_6/threshold:0/threshold is illegal; using prune_low_magnitude_gru_6/threshold_0/threshold instead.\n",
      "INFO:tensorflow:Summary name prune_low_magnitude_gru_7/threshold:0/threshold is illegal; using prune_low_magnitude_gru_7/threshold_0/threshold instead.\n",
      "INFO:tensorflow:Summary name prune_low_magnitude_dense_4/threshold:0/threshold is illegal; using prune_low_magnitude_dense_4/threshold_0/threshold instead.\n",
      "INFO:tensorflow:Summary name prune_low_magnitude_dense_5/threshold:0/threshold is illegal; using prune_low_magnitude_dense_5/threshold_0/threshold instead.\n",
      "230/230 [==============================] - 3s 15ms/step - loss: 0.0851 - accuracy: 0.9629\n",
      "Epoch 33/100\n",
      "229/230 [============================>.] - ETA: 0s - loss: 0.0884 - accuracy: 0.9627INFO:tensorflow:Summary name prune_low_magnitude_gru_6/mask:0/sparsity is illegal; using prune_low_magnitude_gru_6/mask_0/sparsity instead.\n",
      "INFO:tensorflow:Summary name prune_low_magnitude_gru_7/mask:0/sparsity is illegal; using prune_low_magnitude_gru_7/mask_0/sparsity instead.\n",
      "INFO:tensorflow:Summary name prune_low_magnitude_dense_4/mask:0/sparsity is illegal; using prune_low_magnitude_dense_4/mask_0/sparsity instead.\n",
      "INFO:tensorflow:Summary name prune_low_magnitude_dense_5/mask:0/sparsity is illegal; using prune_low_magnitude_dense_5/mask_0/sparsity instead.\n",
      "INFO:tensorflow:Summary name prune_low_magnitude_gru_6/threshold:0/threshold is illegal; using prune_low_magnitude_gru_6/threshold_0/threshold instead.\n",
      "INFO:tensorflow:Summary name prune_low_magnitude_gru_7/threshold:0/threshold is illegal; using prune_low_magnitude_gru_7/threshold_0/threshold instead.\n",
      "INFO:tensorflow:Summary name prune_low_magnitude_dense_4/threshold:0/threshold is illegal; using prune_low_magnitude_dense_4/threshold_0/threshold instead.\n",
      "INFO:tensorflow:Summary name prune_low_magnitude_dense_5/threshold:0/threshold is illegal; using prune_low_magnitude_dense_5/threshold_0/threshold instead.\n",
      "230/230 [==============================] - 3s 15ms/step - loss: 0.0884 - accuracy: 0.9627\n",
      "Epoch 34/100\n",
      "227/230 [============================>.] - ETA: 0s - loss: 0.0844 - accuracy: 0.9621INFO:tensorflow:Summary name prune_low_magnitude_gru_6/mask:0/sparsity is illegal; using prune_low_magnitude_gru_6/mask_0/sparsity instead.\n",
      "INFO:tensorflow:Summary name prune_low_magnitude_gru_7/mask:0/sparsity is illegal; using prune_low_magnitude_gru_7/mask_0/sparsity instead.\n",
      "INFO:tensorflow:Summary name prune_low_magnitude_dense_4/mask:0/sparsity is illegal; using prune_low_magnitude_dense_4/mask_0/sparsity instead.\n",
      "INFO:tensorflow:Summary name prune_low_magnitude_dense_5/mask:0/sparsity is illegal; using prune_low_magnitude_dense_5/mask_0/sparsity instead.\n",
      "INFO:tensorflow:Summary name prune_low_magnitude_gru_6/threshold:0/threshold is illegal; using prune_low_magnitude_gru_6/threshold_0/threshold instead.\n",
      "INFO:tensorflow:Summary name prune_low_magnitude_gru_7/threshold:0/threshold is illegal; using prune_low_magnitude_gru_7/threshold_0/threshold instead.\n",
      "INFO:tensorflow:Summary name prune_low_magnitude_dense_4/threshold:0/threshold is illegal; using prune_low_magnitude_dense_4/threshold_0/threshold instead.\n",
      "INFO:tensorflow:Summary name prune_low_magnitude_dense_5/threshold:0/threshold is illegal; using prune_low_magnitude_dense_5/threshold_0/threshold instead.\n",
      "230/230 [==============================] - 3s 15ms/step - loss: 0.0849 - accuracy: 0.9621\n",
      "Epoch 35/100\n",
      "227/230 [============================>.] - ETA: 0s - loss: 0.0853 - accuracy: 0.9608INFO:tensorflow:Summary name prune_low_magnitude_gru_6/mask:0/sparsity is illegal; using prune_low_magnitude_gru_6/mask_0/sparsity instead.\n",
      "INFO:tensorflow:Summary name prune_low_magnitude_gru_7/mask:0/sparsity is illegal; using prune_low_magnitude_gru_7/mask_0/sparsity instead.\n",
      "INFO:tensorflow:Summary name prune_low_magnitude_dense_4/mask:0/sparsity is illegal; using prune_low_magnitude_dense_4/mask_0/sparsity instead.\n",
      "INFO:tensorflow:Summary name prune_low_magnitude_dense_5/mask:0/sparsity is illegal; using prune_low_magnitude_dense_5/mask_0/sparsity instead.\n",
      "INFO:tensorflow:Summary name prune_low_magnitude_gru_6/threshold:0/threshold is illegal; using prune_low_magnitude_gru_6/threshold_0/threshold instead.\n",
      "INFO:tensorflow:Summary name prune_low_magnitude_gru_7/threshold:0/threshold is illegal; using prune_low_magnitude_gru_7/threshold_0/threshold instead.\n",
      "INFO:tensorflow:Summary name prune_low_magnitude_dense_4/threshold:0/threshold is illegal; using prune_low_magnitude_dense_4/threshold_0/threshold instead.\n",
      "INFO:tensorflow:Summary name prune_low_magnitude_dense_5/threshold:0/threshold is illegal; using prune_low_magnitude_dense_5/threshold_0/threshold instead.\n",
      "230/230 [==============================] - 3s 14ms/step - loss: 0.0851 - accuracy: 0.9610\n",
      "Epoch 36/100\n",
      "228/230 [============================>.] - ETA: 0s - loss: 0.0798 - accuracy: 0.9649INFO:tensorflow:Summary name prune_low_magnitude_gru_6/mask:0/sparsity is illegal; using prune_low_magnitude_gru_6/mask_0/sparsity instead.\n",
      "INFO:tensorflow:Summary name prune_low_magnitude_gru_7/mask:0/sparsity is illegal; using prune_low_magnitude_gru_7/mask_0/sparsity instead.\n",
      "INFO:tensorflow:Summary name prune_low_magnitude_dense_4/mask:0/sparsity is illegal; using prune_low_magnitude_dense_4/mask_0/sparsity instead.\n",
      "INFO:tensorflow:Summary name prune_low_magnitude_dense_5/mask:0/sparsity is illegal; using prune_low_magnitude_dense_5/mask_0/sparsity instead.\n",
      "INFO:tensorflow:Summary name prune_low_magnitude_gru_6/threshold:0/threshold is illegal; using prune_low_magnitude_gru_6/threshold_0/threshold instead.\n",
      "INFO:tensorflow:Summary name prune_low_magnitude_gru_7/threshold:0/threshold is illegal; using prune_low_magnitude_gru_7/threshold_0/threshold instead.\n",
      "INFO:tensorflow:Summary name prune_low_magnitude_dense_4/threshold:0/threshold is illegal; using prune_low_magnitude_dense_4/threshold_0/threshold instead.\n",
      "INFO:tensorflow:Summary name prune_low_magnitude_dense_5/threshold:0/threshold is illegal; using prune_low_magnitude_dense_5/threshold_0/threshold instead.\n",
      "230/230 [==============================] - 3s 14ms/step - loss: 0.0795 - accuracy: 0.9650\n",
      "Epoch 37/100\n",
      "228/230 [============================>.] - ETA: 0s - loss: 0.0866 - accuracy: 0.9611INFO:tensorflow:Summary name prune_low_magnitude_gru_6/mask:0/sparsity is illegal; using prune_low_magnitude_gru_6/mask_0/sparsity instead.\n",
      "INFO:tensorflow:Summary name prune_low_magnitude_gru_7/mask:0/sparsity is illegal; using prune_low_magnitude_gru_7/mask_0/sparsity instead.\n",
      "INFO:tensorflow:Summary name prune_low_magnitude_dense_4/mask:0/sparsity is illegal; using prune_low_magnitude_dense_4/mask_0/sparsity instead.\n",
      "INFO:tensorflow:Summary name prune_low_magnitude_dense_5/mask:0/sparsity is illegal; using prune_low_magnitude_dense_5/mask_0/sparsity instead.\n",
      "INFO:tensorflow:Summary name prune_low_magnitude_gru_6/threshold:0/threshold is illegal; using prune_low_magnitude_gru_6/threshold_0/threshold instead.\n",
      "INFO:tensorflow:Summary name prune_low_magnitude_gru_7/threshold:0/threshold is illegal; using prune_low_magnitude_gru_7/threshold_0/threshold instead.\n",
      "INFO:tensorflow:Summary name prune_low_magnitude_dense_4/threshold:0/threshold is illegal; using prune_low_magnitude_dense_4/threshold_0/threshold instead.\n",
      "INFO:tensorflow:Summary name prune_low_magnitude_dense_5/threshold:0/threshold is illegal; using prune_low_magnitude_dense_5/threshold_0/threshold instead.\n",
      "230/230 [==============================] - 3s 14ms/step - loss: 0.0873 - accuracy: 0.9610\n",
      "Epoch 38/100\n",
      "228/230 [============================>.] - ETA: 0s - loss: 0.0864 - accuracy: 0.9624INFO:tensorflow:Summary name prune_low_magnitude_gru_6/mask:0/sparsity is illegal; using prune_low_magnitude_gru_6/mask_0/sparsity instead.\n",
      "INFO:tensorflow:Summary name prune_low_magnitude_gru_7/mask:0/sparsity is illegal; using prune_low_magnitude_gru_7/mask_0/sparsity instead.\n",
      "INFO:tensorflow:Summary name prune_low_magnitude_dense_4/mask:0/sparsity is illegal; using prune_low_magnitude_dense_4/mask_0/sparsity instead.\n",
      "INFO:tensorflow:Summary name prune_low_magnitude_dense_5/mask:0/sparsity is illegal; using prune_low_magnitude_dense_5/mask_0/sparsity instead.\n",
      "INFO:tensorflow:Summary name prune_low_magnitude_gru_6/threshold:0/threshold is illegal; using prune_low_magnitude_gru_6/threshold_0/threshold instead.\n",
      "INFO:tensorflow:Summary name prune_low_magnitude_gru_7/threshold:0/threshold is illegal; using prune_low_magnitude_gru_7/threshold_0/threshold instead.\n",
      "INFO:tensorflow:Summary name prune_low_magnitude_dense_4/threshold:0/threshold is illegal; using prune_low_magnitude_dense_4/threshold_0/threshold instead.\n",
      "INFO:tensorflow:Summary name prune_low_magnitude_dense_5/threshold:0/threshold is illegal; using prune_low_magnitude_dense_5/threshold_0/threshold instead.\n",
      "230/230 [==============================] - 3s 14ms/step - loss: 0.0859 - accuracy: 0.9627\n",
      "Epoch 39/100\n",
      "229/230 [============================>.] - ETA: 0s - loss: 0.0768 - accuracy: 0.9649INFO:tensorflow:Summary name prune_low_magnitude_gru_6/mask:0/sparsity is illegal; using prune_low_magnitude_gru_6/mask_0/sparsity instead.\n",
      "INFO:tensorflow:Summary name prune_low_magnitude_gru_7/mask:0/sparsity is illegal; using prune_low_magnitude_gru_7/mask_0/sparsity instead.\n",
      "INFO:tensorflow:Summary name prune_low_magnitude_dense_4/mask:0/sparsity is illegal; using prune_low_magnitude_dense_4/mask_0/sparsity instead.\n",
      "INFO:tensorflow:Summary name prune_low_magnitude_dense_5/mask:0/sparsity is illegal; using prune_low_magnitude_dense_5/mask_0/sparsity instead.\n",
      "INFO:tensorflow:Summary name prune_low_magnitude_gru_6/threshold:0/threshold is illegal; using prune_low_magnitude_gru_6/threshold_0/threshold instead.\n",
      "INFO:tensorflow:Summary name prune_low_magnitude_gru_7/threshold:0/threshold is illegal; using prune_low_magnitude_gru_7/threshold_0/threshold instead.\n",
      "INFO:tensorflow:Summary name prune_low_magnitude_dense_4/threshold:0/threshold is illegal; using prune_low_magnitude_dense_4/threshold_0/threshold instead.\n",
      "INFO:tensorflow:Summary name prune_low_magnitude_dense_5/threshold:0/threshold is illegal; using prune_low_magnitude_dense_5/threshold_0/threshold instead.\n",
      "230/230 [==============================] - 3s 15ms/step - loss: 0.0766 - accuracy: 0.9650\n",
      "Epoch 40/100\n",
      "227/230 [============================>.] - ETA: 0s - loss: 0.0798 - accuracy: 0.9635INFO:tensorflow:Summary name prune_low_magnitude_gru_6/mask:0/sparsity is illegal; using prune_low_magnitude_gru_6/mask_0/sparsity instead.\n",
      "INFO:tensorflow:Summary name prune_low_magnitude_gru_7/mask:0/sparsity is illegal; using prune_low_magnitude_gru_7/mask_0/sparsity instead.\n",
      "INFO:tensorflow:Summary name prune_low_magnitude_dense_4/mask:0/sparsity is illegal; using prune_low_magnitude_dense_4/mask_0/sparsity instead.\n",
      "INFO:tensorflow:Summary name prune_low_magnitude_dense_5/mask:0/sparsity is illegal; using prune_low_magnitude_dense_5/mask_0/sparsity instead.\n",
      "INFO:tensorflow:Summary name prune_low_magnitude_gru_6/threshold:0/threshold is illegal; using prune_low_magnitude_gru_6/threshold_0/threshold instead.\n",
      "INFO:tensorflow:Summary name prune_low_magnitude_gru_7/threshold:0/threshold is illegal; using prune_low_magnitude_gru_7/threshold_0/threshold instead.\n",
      "INFO:tensorflow:Summary name prune_low_magnitude_dense_4/threshold:0/threshold is illegal; using prune_low_magnitude_dense_4/threshold_0/threshold instead.\n",
      "INFO:tensorflow:Summary name prune_low_magnitude_dense_5/threshold:0/threshold is illegal; using prune_low_magnitude_dense_5/threshold_0/threshold instead.\n",
      "230/230 [==============================] - 3s 14ms/step - loss: 0.0791 - accuracy: 0.9640\n",
      "Epoch 41/100\n",
      "230/230 [==============================] - ETA: 0s - loss: 0.0775 - accuracy: 0.9645INFO:tensorflow:Summary name prune_low_magnitude_gru_6/mask:0/sparsity is illegal; using prune_low_magnitude_gru_6/mask_0/sparsity instead.\n",
      "INFO:tensorflow:Summary name prune_low_magnitude_gru_7/mask:0/sparsity is illegal; using prune_low_magnitude_gru_7/mask_0/sparsity instead.\n",
      "INFO:tensorflow:Summary name prune_low_magnitude_dense_4/mask:0/sparsity is illegal; using prune_low_magnitude_dense_4/mask_0/sparsity instead.\n",
      "INFO:tensorflow:Summary name prune_low_magnitude_dense_5/mask:0/sparsity is illegal; using prune_low_magnitude_dense_5/mask_0/sparsity instead.\n",
      "INFO:tensorflow:Summary name prune_low_magnitude_gru_6/threshold:0/threshold is illegal; using prune_low_magnitude_gru_6/threshold_0/threshold instead.\n",
      "INFO:tensorflow:Summary name prune_low_magnitude_gru_7/threshold:0/threshold is illegal; using prune_low_magnitude_gru_7/threshold_0/threshold instead.\n",
      "INFO:tensorflow:Summary name prune_low_magnitude_dense_4/threshold:0/threshold is illegal; using prune_low_magnitude_dense_4/threshold_0/threshold instead.\n",
      "INFO:tensorflow:Summary name prune_low_magnitude_dense_5/threshold:0/threshold is illegal; using prune_low_magnitude_dense_5/threshold_0/threshold instead.\n",
      "230/230 [==============================] - 3s 15ms/step - loss: 0.0775 - accuracy: 0.9645\n",
      "Epoch 42/100\n",
      "228/230 [============================>.] - ETA: 0s - loss: 0.0773 - accuracy: 0.9640INFO:tensorflow:Summary name prune_low_magnitude_gru_6/mask:0/sparsity is illegal; using prune_low_magnitude_gru_6/mask_0/sparsity instead.\n",
      "INFO:tensorflow:Summary name prune_low_magnitude_gru_7/mask:0/sparsity is illegal; using prune_low_magnitude_gru_7/mask_0/sparsity instead.\n",
      "INFO:tensorflow:Summary name prune_low_magnitude_dense_4/mask:0/sparsity is illegal; using prune_low_magnitude_dense_4/mask_0/sparsity instead.\n",
      "INFO:tensorflow:Summary name prune_low_magnitude_dense_5/mask:0/sparsity is illegal; using prune_low_magnitude_dense_5/mask_0/sparsity instead.\n",
      "INFO:tensorflow:Summary name prune_low_magnitude_gru_6/threshold:0/threshold is illegal; using prune_low_magnitude_gru_6/threshold_0/threshold instead.\n",
      "INFO:tensorflow:Summary name prune_low_magnitude_gru_7/threshold:0/threshold is illegal; using prune_low_magnitude_gru_7/threshold_0/threshold instead.\n",
      "INFO:tensorflow:Summary name prune_low_magnitude_dense_4/threshold:0/threshold is illegal; using prune_low_magnitude_dense_4/threshold_0/threshold instead.\n",
      "INFO:tensorflow:Summary name prune_low_magnitude_dense_5/threshold:0/threshold is illegal; using prune_low_magnitude_dense_5/threshold_0/threshold instead.\n",
      "230/230 [==============================] - 3s 15ms/step - loss: 0.0773 - accuracy: 0.9640\n",
      "Epoch 43/100\n",
      "227/230 [============================>.] - ETA: 0s - loss: 0.0792 - accuracy: 0.9628INFO:tensorflow:Summary name prune_low_magnitude_gru_6/mask:0/sparsity is illegal; using prune_low_magnitude_gru_6/mask_0/sparsity instead.\n",
      "INFO:tensorflow:Summary name prune_low_magnitude_gru_7/mask:0/sparsity is illegal; using prune_low_magnitude_gru_7/mask_0/sparsity instead.\n",
      "INFO:tensorflow:Summary name prune_low_magnitude_dense_4/mask:0/sparsity is illegal; using prune_low_magnitude_dense_4/mask_0/sparsity instead.\n",
      "INFO:tensorflow:Summary name prune_low_magnitude_dense_5/mask:0/sparsity is illegal; using prune_low_magnitude_dense_5/mask_0/sparsity instead.\n",
      "INFO:tensorflow:Summary name prune_low_magnitude_gru_6/threshold:0/threshold is illegal; using prune_low_magnitude_gru_6/threshold_0/threshold instead.\n",
      "INFO:tensorflow:Summary name prune_low_magnitude_gru_7/threshold:0/threshold is illegal; using prune_low_magnitude_gru_7/threshold_0/threshold instead.\n",
      "INFO:tensorflow:Summary name prune_low_magnitude_dense_4/threshold:0/threshold is illegal; using prune_low_magnitude_dense_4/threshold_0/threshold instead.\n",
      "INFO:tensorflow:Summary name prune_low_magnitude_dense_5/threshold:0/threshold is illegal; using prune_low_magnitude_dense_5/threshold_0/threshold instead.\n",
      "230/230 [==============================] - 3s 14ms/step - loss: 0.0792 - accuracy: 0.9627\n",
      "Epoch 44/100\n",
      "230/230 [==============================] - ETA: 0s - loss: 0.0858 - accuracy: 0.9608INFO:tensorflow:Summary name prune_low_magnitude_gru_6/mask:0/sparsity is illegal; using prune_low_magnitude_gru_6/mask_0/sparsity instead.\n",
      "INFO:tensorflow:Summary name prune_low_magnitude_gru_7/mask:0/sparsity is illegal; using prune_low_magnitude_gru_7/mask_0/sparsity instead.\n",
      "INFO:tensorflow:Summary name prune_low_magnitude_dense_4/mask:0/sparsity is illegal; using prune_low_magnitude_dense_4/mask_0/sparsity instead.\n",
      "INFO:tensorflow:Summary name prune_low_magnitude_dense_5/mask:0/sparsity is illegal; using prune_low_magnitude_dense_5/mask_0/sparsity instead.\n",
      "INFO:tensorflow:Summary name prune_low_magnitude_gru_6/threshold:0/threshold is illegal; using prune_low_magnitude_gru_6/threshold_0/threshold instead.\n",
      "INFO:tensorflow:Summary name prune_low_magnitude_gru_7/threshold:0/threshold is illegal; using prune_low_magnitude_gru_7/threshold_0/threshold instead.\n",
      "INFO:tensorflow:Summary name prune_low_magnitude_dense_4/threshold:0/threshold is illegal; using prune_low_magnitude_dense_4/threshold_0/threshold instead.\n",
      "INFO:tensorflow:Summary name prune_low_magnitude_dense_5/threshold:0/threshold is illegal; using prune_low_magnitude_dense_5/threshold_0/threshold instead.\n",
      "230/230 [==============================] - 3s 15ms/step - loss: 0.0858 - accuracy: 0.9608\n",
      "Epoch 45/100\n",
      "227/230 [============================>.] - ETA: 0s - loss: 0.0846 - accuracy: 0.9668INFO:tensorflow:Summary name prune_low_magnitude_gru_6/mask:0/sparsity is illegal; using prune_low_magnitude_gru_6/mask_0/sparsity instead.\n",
      "INFO:tensorflow:Summary name prune_low_magnitude_gru_7/mask:0/sparsity is illegal; using prune_low_magnitude_gru_7/mask_0/sparsity instead.\n",
      "INFO:tensorflow:Summary name prune_low_magnitude_dense_4/mask:0/sparsity is illegal; using prune_low_magnitude_dense_4/mask_0/sparsity instead.\n",
      "INFO:tensorflow:Summary name prune_low_magnitude_dense_5/mask:0/sparsity is illegal; using prune_low_magnitude_dense_5/mask_0/sparsity instead.\n",
      "INFO:tensorflow:Summary name prune_low_magnitude_gru_6/threshold:0/threshold is illegal; using prune_low_magnitude_gru_6/threshold_0/threshold instead.\n",
      "INFO:tensorflow:Summary name prune_low_magnitude_gru_7/threshold:0/threshold is illegal; using prune_low_magnitude_gru_7/threshold_0/threshold instead.\n",
      "INFO:tensorflow:Summary name prune_low_magnitude_dense_4/threshold:0/threshold is illegal; using prune_low_magnitude_dense_4/threshold_0/threshold instead.\n",
      "INFO:tensorflow:Summary name prune_low_magnitude_dense_5/threshold:0/threshold is illegal; using prune_low_magnitude_dense_5/threshold_0/threshold instead.\n",
      "230/230 [==============================] - 3s 14ms/step - loss: 0.0841 - accuracy: 0.9669\n",
      "Epoch 46/100\n",
      "228/230 [============================>.] - ETA: 0s - loss: 0.0755 - accuracy: 0.9660INFO:tensorflow:Summary name prune_low_magnitude_gru_6/mask:0/sparsity is illegal; using prune_low_magnitude_gru_6/mask_0/sparsity instead.\n",
      "INFO:tensorflow:Summary name prune_low_magnitude_gru_7/mask:0/sparsity is illegal; using prune_low_magnitude_gru_7/mask_0/sparsity instead.\n",
      "INFO:tensorflow:Summary name prune_low_magnitude_dense_4/mask:0/sparsity is illegal; using prune_low_magnitude_dense_4/mask_0/sparsity instead.\n",
      "INFO:tensorflow:Summary name prune_low_magnitude_dense_5/mask:0/sparsity is illegal; using prune_low_magnitude_dense_5/mask_0/sparsity instead.\n",
      "INFO:tensorflow:Summary name prune_low_magnitude_gru_6/threshold:0/threshold is illegal; using prune_low_magnitude_gru_6/threshold_0/threshold instead.\n",
      "INFO:tensorflow:Summary name prune_low_magnitude_gru_7/threshold:0/threshold is illegal; using prune_low_magnitude_gru_7/threshold_0/threshold instead.\n",
      "INFO:tensorflow:Summary name prune_low_magnitude_dense_4/threshold:0/threshold is illegal; using prune_low_magnitude_dense_4/threshold_0/threshold instead.\n",
      "INFO:tensorflow:Summary name prune_low_magnitude_dense_5/threshold:0/threshold is illegal; using prune_low_magnitude_dense_5/threshold_0/threshold instead.\n",
      "230/230 [==============================] - 3s 14ms/step - loss: 0.0755 - accuracy: 0.9661\n",
      "Epoch 47/100\n",
      "229/230 [============================>.] - ETA: 0s - loss: 0.0859 - accuracy: 0.9630INFO:tensorflow:Summary name prune_low_magnitude_gru_6/mask:0/sparsity is illegal; using prune_low_magnitude_gru_6/mask_0/sparsity instead.\n",
      "INFO:tensorflow:Summary name prune_low_magnitude_gru_7/mask:0/sparsity is illegal; using prune_low_magnitude_gru_7/mask_0/sparsity instead.\n",
      "INFO:tensorflow:Summary name prune_low_magnitude_dense_4/mask:0/sparsity is illegal; using prune_low_magnitude_dense_4/mask_0/sparsity instead.\n",
      "INFO:tensorflow:Summary name prune_low_magnitude_dense_5/mask:0/sparsity is illegal; using prune_low_magnitude_dense_5/mask_0/sparsity instead.\n",
      "INFO:tensorflow:Summary name prune_low_magnitude_gru_6/threshold:0/threshold is illegal; using prune_low_magnitude_gru_6/threshold_0/threshold instead.\n",
      "INFO:tensorflow:Summary name prune_low_magnitude_gru_7/threshold:0/threshold is illegal; using prune_low_magnitude_gru_7/threshold_0/threshold instead.\n",
      "INFO:tensorflow:Summary name prune_low_magnitude_dense_4/threshold:0/threshold is illegal; using prune_low_magnitude_dense_4/threshold_0/threshold instead.\n",
      "INFO:tensorflow:Summary name prune_low_magnitude_dense_5/threshold:0/threshold is illegal; using prune_low_magnitude_dense_5/threshold_0/threshold instead.\n",
      "230/230 [==============================] - 3s 15ms/step - loss: 0.0856 - accuracy: 0.9631\n",
      "Epoch 48/100\n",
      "229/230 [============================>.] - ETA: 0s - loss: 0.0736 - accuracy: 0.9660INFO:tensorflow:Summary name prune_low_magnitude_gru_6/mask:0/sparsity is illegal; using prune_low_magnitude_gru_6/mask_0/sparsity instead.\n",
      "INFO:tensorflow:Summary name prune_low_magnitude_gru_7/mask:0/sparsity is illegal; using prune_low_magnitude_gru_7/mask_0/sparsity instead.\n",
      "INFO:tensorflow:Summary name prune_low_magnitude_dense_4/mask:0/sparsity is illegal; using prune_low_magnitude_dense_4/mask_0/sparsity instead.\n",
      "INFO:tensorflow:Summary name prune_low_magnitude_dense_5/mask:0/sparsity is illegal; using prune_low_magnitude_dense_5/mask_0/sparsity instead.\n",
      "INFO:tensorflow:Summary name prune_low_magnitude_gru_6/threshold:0/threshold is illegal; using prune_low_magnitude_gru_6/threshold_0/threshold instead.\n",
      "INFO:tensorflow:Summary name prune_low_magnitude_gru_7/threshold:0/threshold is illegal; using prune_low_magnitude_gru_7/threshold_0/threshold instead.\n",
      "INFO:tensorflow:Summary name prune_low_magnitude_dense_4/threshold:0/threshold is illegal; using prune_low_magnitude_dense_4/threshold_0/threshold instead.\n",
      "INFO:tensorflow:Summary name prune_low_magnitude_dense_5/threshold:0/threshold is illegal; using prune_low_magnitude_dense_5/threshold_0/threshold instead.\n",
      "230/230 [==============================] - 3s 14ms/step - loss: 0.0736 - accuracy: 0.9659\n",
      "Epoch 49/100\n",
      "229/230 [============================>.] - ETA: 0s - loss: 0.0715 - accuracy: 0.9671INFO:tensorflow:Summary name prune_low_magnitude_gru_6/mask:0/sparsity is illegal; using prune_low_magnitude_gru_6/mask_0/sparsity instead.\n",
      "INFO:tensorflow:Summary name prune_low_magnitude_gru_7/mask:0/sparsity is illegal; using prune_low_magnitude_gru_7/mask_0/sparsity instead.\n",
      "INFO:tensorflow:Summary name prune_low_magnitude_dense_4/mask:0/sparsity is illegal; using prune_low_magnitude_dense_4/mask_0/sparsity instead.\n",
      "INFO:tensorflow:Summary name prune_low_magnitude_dense_5/mask:0/sparsity is illegal; using prune_low_magnitude_dense_5/mask_0/sparsity instead.\n",
      "INFO:tensorflow:Summary name prune_low_magnitude_gru_6/threshold:0/threshold is illegal; using prune_low_magnitude_gru_6/threshold_0/threshold instead.\n",
      "INFO:tensorflow:Summary name prune_low_magnitude_gru_7/threshold:0/threshold is illegal; using prune_low_magnitude_gru_7/threshold_0/threshold instead.\n",
      "INFO:tensorflow:Summary name prune_low_magnitude_dense_4/threshold:0/threshold is illegal; using prune_low_magnitude_dense_4/threshold_0/threshold instead.\n",
      "INFO:tensorflow:Summary name prune_low_magnitude_dense_5/threshold:0/threshold is illegal; using prune_low_magnitude_dense_5/threshold_0/threshold instead.\n",
      "230/230 [==============================] - 3s 14ms/step - loss: 0.0714 - accuracy: 0.9672\n",
      "Epoch 50/100\n",
      "228/230 [============================>.] - ETA: 0s - loss: 0.0782 - accuracy: 0.9638INFO:tensorflow:Summary name prune_low_magnitude_gru_6/mask:0/sparsity is illegal; using prune_low_magnitude_gru_6/mask_0/sparsity instead.\n",
      "INFO:tensorflow:Summary name prune_low_magnitude_gru_7/mask:0/sparsity is illegal; using prune_low_magnitude_gru_7/mask_0/sparsity instead.\n",
      "INFO:tensorflow:Summary name prune_low_magnitude_dense_4/mask:0/sparsity is illegal; using prune_low_magnitude_dense_4/mask_0/sparsity instead.\n",
      "INFO:tensorflow:Summary name prune_low_magnitude_dense_5/mask:0/sparsity is illegal; using prune_low_magnitude_dense_5/mask_0/sparsity instead.\n",
      "INFO:tensorflow:Summary name prune_low_magnitude_gru_6/threshold:0/threshold is illegal; using prune_low_magnitude_gru_6/threshold_0/threshold instead.\n",
      "INFO:tensorflow:Summary name prune_low_magnitude_gru_7/threshold:0/threshold is illegal; using prune_low_magnitude_gru_7/threshold_0/threshold instead.\n",
      "INFO:tensorflow:Summary name prune_low_magnitude_dense_4/threshold:0/threshold is illegal; using prune_low_magnitude_dense_4/threshold_0/threshold instead.\n",
      "INFO:tensorflow:Summary name prune_low_magnitude_dense_5/threshold:0/threshold is illegal; using prune_low_magnitude_dense_5/threshold_0/threshold instead.\n",
      "230/230 [==============================] - 3s 14ms/step - loss: 0.0786 - accuracy: 0.9637\n",
      "Epoch 51/100\n",
      "229/230 [============================>.] - ETA: 0s - loss: 0.0686 - accuracy: 0.9700INFO:tensorflow:Summary name prune_low_magnitude_gru_6/mask:0/sparsity is illegal; using prune_low_magnitude_gru_6/mask_0/sparsity instead.\n",
      "INFO:tensorflow:Summary name prune_low_magnitude_gru_7/mask:0/sparsity is illegal; using prune_low_magnitude_gru_7/mask_0/sparsity instead.\n",
      "INFO:tensorflow:Summary name prune_low_magnitude_dense_4/mask:0/sparsity is illegal; using prune_low_magnitude_dense_4/mask_0/sparsity instead.\n",
      "INFO:tensorflow:Summary name prune_low_magnitude_dense_5/mask:0/sparsity is illegal; using prune_low_magnitude_dense_5/mask_0/sparsity instead.\n",
      "INFO:tensorflow:Summary name prune_low_magnitude_gru_6/threshold:0/threshold is illegal; using prune_low_magnitude_gru_6/threshold_0/threshold instead.\n",
      "INFO:tensorflow:Summary name prune_low_magnitude_gru_7/threshold:0/threshold is illegal; using prune_low_magnitude_gru_7/threshold_0/threshold instead.\n",
      "INFO:tensorflow:Summary name prune_low_magnitude_dense_4/threshold:0/threshold is illegal; using prune_low_magnitude_dense_4/threshold_0/threshold instead.\n",
      "INFO:tensorflow:Summary name prune_low_magnitude_dense_5/threshold:0/threshold is illegal; using prune_low_magnitude_dense_5/threshold_0/threshold instead.\n",
      "230/230 [==============================] - 3s 15ms/step - loss: 0.0689 - accuracy: 0.9697\n",
      "Epoch 52/100\n",
      "228/230 [============================>.] - ETA: 0s - loss: 0.0718 - accuracy: 0.9672INFO:tensorflow:Summary name prune_low_magnitude_gru_6/mask:0/sparsity is illegal; using prune_low_magnitude_gru_6/mask_0/sparsity instead.\n",
      "INFO:tensorflow:Summary name prune_low_magnitude_gru_7/mask:0/sparsity is illegal; using prune_low_magnitude_gru_7/mask_0/sparsity instead.\n",
      "INFO:tensorflow:Summary name prune_low_magnitude_dense_4/mask:0/sparsity is illegal; using prune_low_magnitude_dense_4/mask_0/sparsity instead.\n",
      "INFO:tensorflow:Summary name prune_low_magnitude_dense_5/mask:0/sparsity is illegal; using prune_low_magnitude_dense_5/mask_0/sparsity instead.\n",
      "INFO:tensorflow:Summary name prune_low_magnitude_gru_6/threshold:0/threshold is illegal; using prune_low_magnitude_gru_6/threshold_0/threshold instead.\n",
      "INFO:tensorflow:Summary name prune_low_magnitude_gru_7/threshold:0/threshold is illegal; using prune_low_magnitude_gru_7/threshold_0/threshold instead.\n",
      "INFO:tensorflow:Summary name prune_low_magnitude_dense_4/threshold:0/threshold is illegal; using prune_low_magnitude_dense_4/threshold_0/threshold instead.\n",
      "INFO:tensorflow:Summary name prune_low_magnitude_dense_5/threshold:0/threshold is illegal; using prune_low_magnitude_dense_5/threshold_0/threshold instead.\n",
      "230/230 [==============================] - 3s 14ms/step - loss: 0.0721 - accuracy: 0.9671\n",
      "Epoch 53/100\n",
      "228/230 [============================>.] - ETA: 0s - loss: 0.0689 - accuracy: 0.9655INFO:tensorflow:Summary name prune_low_magnitude_gru_6/mask:0/sparsity is illegal; using prune_low_magnitude_gru_6/mask_0/sparsity instead.\n",
      "INFO:tensorflow:Summary name prune_low_magnitude_gru_7/mask:0/sparsity is illegal; using prune_low_magnitude_gru_7/mask_0/sparsity instead.\n",
      "INFO:tensorflow:Summary name prune_low_magnitude_dense_4/mask:0/sparsity is illegal; using prune_low_magnitude_dense_4/mask_0/sparsity instead.\n",
      "INFO:tensorflow:Summary name prune_low_magnitude_dense_5/mask:0/sparsity is illegal; using prune_low_magnitude_dense_5/mask_0/sparsity instead.\n",
      "INFO:tensorflow:Summary name prune_low_magnitude_gru_6/threshold:0/threshold is illegal; using prune_low_magnitude_gru_6/threshold_0/threshold instead.\n",
      "INFO:tensorflow:Summary name prune_low_magnitude_gru_7/threshold:0/threshold is illegal; using prune_low_magnitude_gru_7/threshold_0/threshold instead.\n",
      "INFO:tensorflow:Summary name prune_low_magnitude_dense_4/threshold:0/threshold is illegal; using prune_low_magnitude_dense_4/threshold_0/threshold instead.\n",
      "INFO:tensorflow:Summary name prune_low_magnitude_dense_5/threshold:0/threshold is illegal; using prune_low_magnitude_dense_5/threshold_0/threshold instead.\n",
      "230/230 [==============================] - 3s 15ms/step - loss: 0.0687 - accuracy: 0.9656\n",
      "Epoch 54/100\n",
      "229/230 [============================>.] - ETA: 0s - loss: 0.0685 - accuracy: 0.9672INFO:tensorflow:Summary name prune_low_magnitude_gru_6/mask:0/sparsity is illegal; using prune_low_magnitude_gru_6/mask_0/sparsity instead.\n",
      "INFO:tensorflow:Summary name prune_low_magnitude_gru_7/mask:0/sparsity is illegal; using prune_low_magnitude_gru_7/mask_0/sparsity instead.\n",
      "INFO:tensorflow:Summary name prune_low_magnitude_dense_4/mask:0/sparsity is illegal; using prune_low_magnitude_dense_4/mask_0/sparsity instead.\n",
      "INFO:tensorflow:Summary name prune_low_magnitude_dense_5/mask:0/sparsity is illegal; using prune_low_magnitude_dense_5/mask_0/sparsity instead.\n",
      "INFO:tensorflow:Summary name prune_low_magnitude_gru_6/threshold:0/threshold is illegal; using prune_low_magnitude_gru_6/threshold_0/threshold instead.\n",
      "INFO:tensorflow:Summary name prune_low_magnitude_gru_7/threshold:0/threshold is illegal; using prune_low_magnitude_gru_7/threshold_0/threshold instead.\n",
      "INFO:tensorflow:Summary name prune_low_magnitude_dense_4/threshold:0/threshold is illegal; using prune_low_magnitude_dense_4/threshold_0/threshold instead.\n",
      "INFO:tensorflow:Summary name prune_low_magnitude_dense_5/threshold:0/threshold is illegal; using prune_low_magnitude_dense_5/threshold_0/threshold instead.\n",
      "230/230 [==============================] - 3s 15ms/step - loss: 0.0685 - accuracy: 0.9672\n",
      "Epoch 55/100\n",
      "228/230 [============================>.] - ETA: 0s - loss: 0.0758 - accuracy: 0.9656INFO:tensorflow:Summary name prune_low_magnitude_gru_6/mask:0/sparsity is illegal; using prune_low_magnitude_gru_6/mask_0/sparsity instead.\n",
      "INFO:tensorflow:Summary name prune_low_magnitude_gru_7/mask:0/sparsity is illegal; using prune_low_magnitude_gru_7/mask_0/sparsity instead.\n",
      "INFO:tensorflow:Summary name prune_low_magnitude_dense_4/mask:0/sparsity is illegal; using prune_low_magnitude_dense_4/mask_0/sparsity instead.\n",
      "INFO:tensorflow:Summary name prune_low_magnitude_dense_5/mask:0/sparsity is illegal; using prune_low_magnitude_dense_5/mask_0/sparsity instead.\n",
      "INFO:tensorflow:Summary name prune_low_magnitude_gru_6/threshold:0/threshold is illegal; using prune_low_magnitude_gru_6/threshold_0/threshold instead.\n",
      "INFO:tensorflow:Summary name prune_low_magnitude_gru_7/threshold:0/threshold is illegal; using prune_low_magnitude_gru_7/threshold_0/threshold instead.\n",
      "INFO:tensorflow:Summary name prune_low_magnitude_dense_4/threshold:0/threshold is illegal; using prune_low_magnitude_dense_4/threshold_0/threshold instead.\n",
      "INFO:tensorflow:Summary name prune_low_magnitude_dense_5/threshold:0/threshold is illegal; using prune_low_magnitude_dense_5/threshold_0/threshold instead.\n",
      "230/230 [==============================] - 3s 15ms/step - loss: 0.0762 - accuracy: 0.9653\n",
      "Epoch 56/100\n",
      "229/230 [============================>.] - ETA: 0s - loss: 0.0661 - accuracy: 0.9674INFO:tensorflow:Summary name prune_low_magnitude_gru_6/mask:0/sparsity is illegal; using prune_low_magnitude_gru_6/mask_0/sparsity instead.\n",
      "INFO:tensorflow:Summary name prune_low_magnitude_gru_7/mask:0/sparsity is illegal; using prune_low_magnitude_gru_7/mask_0/sparsity instead.\n",
      "INFO:tensorflow:Summary name prune_low_magnitude_dense_4/mask:0/sparsity is illegal; using prune_low_magnitude_dense_4/mask_0/sparsity instead.\n",
      "INFO:tensorflow:Summary name prune_low_magnitude_dense_5/mask:0/sparsity is illegal; using prune_low_magnitude_dense_5/mask_0/sparsity instead.\n",
      "INFO:tensorflow:Summary name prune_low_magnitude_gru_6/threshold:0/threshold is illegal; using prune_low_magnitude_gru_6/threshold_0/threshold instead.\n",
      "INFO:tensorflow:Summary name prune_low_magnitude_gru_7/threshold:0/threshold is illegal; using prune_low_magnitude_gru_7/threshold_0/threshold instead.\n",
      "INFO:tensorflow:Summary name prune_low_magnitude_dense_4/threshold:0/threshold is illegal; using prune_low_magnitude_dense_4/threshold_0/threshold instead.\n",
      "INFO:tensorflow:Summary name prune_low_magnitude_dense_5/threshold:0/threshold is illegal; using prune_low_magnitude_dense_5/threshold_0/threshold instead.\n",
      "230/230 [==============================] - 3s 14ms/step - loss: 0.0661 - accuracy: 0.9674\n",
      "Epoch 57/100\n",
      "228/230 [============================>.] - ETA: 0s - loss: 0.0680 - accuracy: 0.9693INFO:tensorflow:Summary name prune_low_magnitude_gru_6/mask:0/sparsity is illegal; using prune_low_magnitude_gru_6/mask_0/sparsity instead.\n",
      "INFO:tensorflow:Summary name prune_low_magnitude_gru_7/mask:0/sparsity is illegal; using prune_low_magnitude_gru_7/mask_0/sparsity instead.\n",
      "INFO:tensorflow:Summary name prune_low_magnitude_dense_4/mask:0/sparsity is illegal; using prune_low_magnitude_dense_4/mask_0/sparsity instead.\n",
      "INFO:tensorflow:Summary name prune_low_magnitude_dense_5/mask:0/sparsity is illegal; using prune_low_magnitude_dense_5/mask_0/sparsity instead.\n",
      "INFO:tensorflow:Summary name prune_low_magnitude_gru_6/threshold:0/threshold is illegal; using prune_low_magnitude_gru_6/threshold_0/threshold instead.\n",
      "INFO:tensorflow:Summary name prune_low_magnitude_gru_7/threshold:0/threshold is illegal; using prune_low_magnitude_gru_7/threshold_0/threshold instead.\n",
      "INFO:tensorflow:Summary name prune_low_magnitude_dense_4/threshold:0/threshold is illegal; using prune_low_magnitude_dense_4/threshold_0/threshold instead.\n",
      "INFO:tensorflow:Summary name prune_low_magnitude_dense_5/threshold:0/threshold is illegal; using prune_low_magnitude_dense_5/threshold_0/threshold instead.\n",
      "230/230 [==============================] - 3s 15ms/step - loss: 0.0679 - accuracy: 0.9694\n",
      "Epoch 58/100\n",
      "228/230 [============================>.] - ETA: 0s - loss: 0.0656 - accuracy: 0.9693INFO:tensorflow:Summary name prune_low_magnitude_gru_6/mask:0/sparsity is illegal; using prune_low_magnitude_gru_6/mask_0/sparsity instead.\n",
      "INFO:tensorflow:Summary name prune_low_magnitude_gru_7/mask:0/sparsity is illegal; using prune_low_magnitude_gru_7/mask_0/sparsity instead.\n",
      "INFO:tensorflow:Summary name prune_low_magnitude_dense_4/mask:0/sparsity is illegal; using prune_low_magnitude_dense_4/mask_0/sparsity instead.\n",
      "INFO:tensorflow:Summary name prune_low_magnitude_dense_5/mask:0/sparsity is illegal; using prune_low_magnitude_dense_5/mask_0/sparsity instead.\n",
      "INFO:tensorflow:Summary name prune_low_magnitude_gru_6/threshold:0/threshold is illegal; using prune_low_magnitude_gru_6/threshold_0/threshold instead.\n",
      "INFO:tensorflow:Summary name prune_low_magnitude_gru_7/threshold:0/threshold is illegal; using prune_low_magnitude_gru_7/threshold_0/threshold instead.\n",
      "INFO:tensorflow:Summary name prune_low_magnitude_dense_4/threshold:0/threshold is illegal; using prune_low_magnitude_dense_4/threshold_0/threshold instead.\n",
      "INFO:tensorflow:Summary name prune_low_magnitude_dense_5/threshold:0/threshold is illegal; using prune_low_magnitude_dense_5/threshold_0/threshold instead.\n",
      "230/230 [==============================] - 3s 15ms/step - loss: 0.0656 - accuracy: 0.9693\n",
      "Epoch 59/100\n",
      "228/230 [============================>.] - ETA: 0s - loss: 0.0616 - accuracy: 0.9697INFO:tensorflow:Summary name prune_low_magnitude_gru_6/mask:0/sparsity is illegal; using prune_low_magnitude_gru_6/mask_0/sparsity instead.\n",
      "INFO:tensorflow:Summary name prune_low_magnitude_gru_7/mask:0/sparsity is illegal; using prune_low_magnitude_gru_7/mask_0/sparsity instead.\n",
      "INFO:tensorflow:Summary name prune_low_magnitude_dense_4/mask:0/sparsity is illegal; using prune_low_magnitude_dense_4/mask_0/sparsity instead.\n",
      "INFO:tensorflow:Summary name prune_low_magnitude_dense_5/mask:0/sparsity is illegal; using prune_low_magnitude_dense_5/mask_0/sparsity instead.\n",
      "INFO:tensorflow:Summary name prune_low_magnitude_gru_6/threshold:0/threshold is illegal; using prune_low_magnitude_gru_6/threshold_0/threshold instead.\n",
      "INFO:tensorflow:Summary name prune_low_magnitude_gru_7/threshold:0/threshold is illegal; using prune_low_magnitude_gru_7/threshold_0/threshold instead.\n",
      "INFO:tensorflow:Summary name prune_low_magnitude_dense_4/threshold:0/threshold is illegal; using prune_low_magnitude_dense_4/threshold_0/threshold instead.\n",
      "INFO:tensorflow:Summary name prune_low_magnitude_dense_5/threshold:0/threshold is illegal; using prune_low_magnitude_dense_5/threshold_0/threshold instead.\n",
      "230/230 [==============================] - 3s 14ms/step - loss: 0.0617 - accuracy: 0.9698\n",
      "Epoch 60/100\n",
      "228/230 [============================>.] - ETA: 0s - loss: 0.0666 - accuracy: 0.9708INFO:tensorflow:Summary name prune_low_magnitude_gru_6/mask:0/sparsity is illegal; using prune_low_magnitude_gru_6/mask_0/sparsity instead.\n",
      "INFO:tensorflow:Summary name prune_low_magnitude_gru_7/mask:0/sparsity is illegal; using prune_low_magnitude_gru_7/mask_0/sparsity instead.\n",
      "INFO:tensorflow:Summary name prune_low_magnitude_dense_4/mask:0/sparsity is illegal; using prune_low_magnitude_dense_4/mask_0/sparsity instead.\n",
      "INFO:tensorflow:Summary name prune_low_magnitude_dense_5/mask:0/sparsity is illegal; using prune_low_magnitude_dense_5/mask_0/sparsity instead.\n",
      "INFO:tensorflow:Summary name prune_low_magnitude_gru_6/threshold:0/threshold is illegal; using prune_low_magnitude_gru_6/threshold_0/threshold instead.\n",
      "INFO:tensorflow:Summary name prune_low_magnitude_gru_7/threshold:0/threshold is illegal; using prune_low_magnitude_gru_7/threshold_0/threshold instead.\n",
      "INFO:tensorflow:Summary name prune_low_magnitude_dense_4/threshold:0/threshold is illegal; using prune_low_magnitude_dense_4/threshold_0/threshold instead.\n",
      "INFO:tensorflow:Summary name prune_low_magnitude_dense_5/threshold:0/threshold is illegal; using prune_low_magnitude_dense_5/threshold_0/threshold instead.\n",
      "230/230 [==============================] - 3s 14ms/step - loss: 0.0671 - accuracy: 0.9705\n",
      "Epoch 61/100\n",
      "227/230 [============================>.] - ETA: 0s - loss: 0.0632 - accuracy: 0.9697INFO:tensorflow:Summary name prune_low_magnitude_gru_6/mask:0/sparsity is illegal; using prune_low_magnitude_gru_6/mask_0/sparsity instead.\n",
      "INFO:tensorflow:Summary name prune_low_magnitude_gru_7/mask:0/sparsity is illegal; using prune_low_magnitude_gru_7/mask_0/sparsity instead.\n",
      "INFO:tensorflow:Summary name prune_low_magnitude_dense_4/mask:0/sparsity is illegal; using prune_low_magnitude_dense_4/mask_0/sparsity instead.\n",
      "INFO:tensorflow:Summary name prune_low_magnitude_dense_5/mask:0/sparsity is illegal; using prune_low_magnitude_dense_5/mask_0/sparsity instead.\n",
      "INFO:tensorflow:Summary name prune_low_magnitude_gru_6/threshold:0/threshold is illegal; using prune_low_magnitude_gru_6/threshold_0/threshold instead.\n",
      "INFO:tensorflow:Summary name prune_low_magnitude_gru_7/threshold:0/threshold is illegal; using prune_low_magnitude_gru_7/threshold_0/threshold instead.\n",
      "INFO:tensorflow:Summary name prune_low_magnitude_dense_4/threshold:0/threshold is illegal; using prune_low_magnitude_dense_4/threshold_0/threshold instead.\n",
      "INFO:tensorflow:Summary name prune_low_magnitude_dense_5/threshold:0/threshold is illegal; using prune_low_magnitude_dense_5/threshold_0/threshold instead.\n",
      "230/230 [==============================] - 3s 15ms/step - loss: 0.0632 - accuracy: 0.9697\n",
      "Epoch 62/100\n",
      "227/230 [============================>.] - ETA: 0s - loss: 0.0627 - accuracy: 0.9707INFO:tensorflow:Summary name prune_low_magnitude_gru_6/mask:0/sparsity is illegal; using prune_low_magnitude_gru_6/mask_0/sparsity instead.\n",
      "INFO:tensorflow:Summary name prune_low_magnitude_gru_7/mask:0/sparsity is illegal; using prune_low_magnitude_gru_7/mask_0/sparsity instead.\n",
      "INFO:tensorflow:Summary name prune_low_magnitude_dense_4/mask:0/sparsity is illegal; using prune_low_magnitude_dense_4/mask_0/sparsity instead.\n",
      "INFO:tensorflow:Summary name prune_low_magnitude_dense_5/mask:0/sparsity is illegal; using prune_low_magnitude_dense_5/mask_0/sparsity instead.\n",
      "INFO:tensorflow:Summary name prune_low_magnitude_gru_6/threshold:0/threshold is illegal; using prune_low_magnitude_gru_6/threshold_0/threshold instead.\n",
      "INFO:tensorflow:Summary name prune_low_magnitude_gru_7/threshold:0/threshold is illegal; using prune_low_magnitude_gru_7/threshold_0/threshold instead.\n",
      "INFO:tensorflow:Summary name prune_low_magnitude_dense_4/threshold:0/threshold is illegal; using prune_low_magnitude_dense_4/threshold_0/threshold instead.\n",
      "INFO:tensorflow:Summary name prune_low_magnitude_dense_5/threshold:0/threshold is illegal; using prune_low_magnitude_dense_5/threshold_0/threshold instead.\n",
      "230/230 [==============================] - 3s 15ms/step - loss: 0.0624 - accuracy: 0.9708\n",
      "Epoch 63/100\n",
      "228/230 [============================>.] - ETA: 0s - loss: 0.0704 - accuracy: 0.9653INFO:tensorflow:Summary name prune_low_magnitude_gru_6/mask:0/sparsity is illegal; using prune_low_magnitude_gru_6/mask_0/sparsity instead.\n",
      "INFO:tensorflow:Summary name prune_low_magnitude_gru_7/mask:0/sparsity is illegal; using prune_low_magnitude_gru_7/mask_0/sparsity instead.\n",
      "INFO:tensorflow:Summary name prune_low_magnitude_dense_4/mask:0/sparsity is illegal; using prune_low_magnitude_dense_4/mask_0/sparsity instead.\n",
      "INFO:tensorflow:Summary name prune_low_magnitude_dense_5/mask:0/sparsity is illegal; using prune_low_magnitude_dense_5/mask_0/sparsity instead.\n",
      "INFO:tensorflow:Summary name prune_low_magnitude_gru_6/threshold:0/threshold is illegal; using prune_low_magnitude_gru_6/threshold_0/threshold instead.\n",
      "INFO:tensorflow:Summary name prune_low_magnitude_gru_7/threshold:0/threshold is illegal; using prune_low_magnitude_gru_7/threshold_0/threshold instead.\n",
      "INFO:tensorflow:Summary name prune_low_magnitude_dense_4/threshold:0/threshold is illegal; using prune_low_magnitude_dense_4/threshold_0/threshold instead.\n",
      "INFO:tensorflow:Summary name prune_low_magnitude_dense_5/threshold:0/threshold is illegal; using prune_low_magnitude_dense_5/threshold_0/threshold instead.\n",
      "230/230 [==============================] - 3s 14ms/step - loss: 0.0710 - accuracy: 0.9652\n",
      "Epoch 64/100\n",
      "227/230 [============================>.] - ETA: 0s - loss: 0.0673 - accuracy: 0.9665INFO:tensorflow:Summary name prune_low_magnitude_gru_6/mask:0/sparsity is illegal; using prune_low_magnitude_gru_6/mask_0/sparsity instead.\n",
      "INFO:tensorflow:Summary name prune_low_magnitude_gru_7/mask:0/sparsity is illegal; using prune_low_magnitude_gru_7/mask_0/sparsity instead.\n",
      "INFO:tensorflow:Summary name prune_low_magnitude_dense_4/mask:0/sparsity is illegal; using prune_low_magnitude_dense_4/mask_0/sparsity instead.\n",
      "INFO:tensorflow:Summary name prune_low_magnitude_dense_5/mask:0/sparsity is illegal; using prune_low_magnitude_dense_5/mask_0/sparsity instead.\n",
      "INFO:tensorflow:Summary name prune_low_magnitude_gru_6/threshold:0/threshold is illegal; using prune_low_magnitude_gru_6/threshold_0/threshold instead.\n",
      "INFO:tensorflow:Summary name prune_low_magnitude_gru_7/threshold:0/threshold is illegal; using prune_low_magnitude_gru_7/threshold_0/threshold instead.\n",
      "INFO:tensorflow:Summary name prune_low_magnitude_dense_4/threshold:0/threshold is illegal; using prune_low_magnitude_dense_4/threshold_0/threshold instead.\n",
      "INFO:tensorflow:Summary name prune_low_magnitude_dense_5/threshold:0/threshold is illegal; using prune_low_magnitude_dense_5/threshold_0/threshold instead.\n",
      "230/230 [==============================] - 3s 14ms/step - loss: 0.0674 - accuracy: 0.9663\n",
      "Epoch 65/100\n",
      "229/230 [============================>.] - ETA: 0s - loss: 0.0616 - accuracy: 0.9679INFO:tensorflow:Summary name prune_low_magnitude_gru_6/mask:0/sparsity is illegal; using prune_low_magnitude_gru_6/mask_0/sparsity instead.\n",
      "INFO:tensorflow:Summary name prune_low_magnitude_gru_7/mask:0/sparsity is illegal; using prune_low_magnitude_gru_7/mask_0/sparsity instead.\n",
      "INFO:tensorflow:Summary name prune_low_magnitude_dense_4/mask:0/sparsity is illegal; using prune_low_magnitude_dense_4/mask_0/sparsity instead.\n",
      "INFO:tensorflow:Summary name prune_low_magnitude_dense_5/mask:0/sparsity is illegal; using prune_low_magnitude_dense_5/mask_0/sparsity instead.\n",
      "INFO:tensorflow:Summary name prune_low_magnitude_gru_6/threshold:0/threshold is illegal; using prune_low_magnitude_gru_6/threshold_0/threshold instead.\n",
      "INFO:tensorflow:Summary name prune_low_magnitude_gru_7/threshold:0/threshold is illegal; using prune_low_magnitude_gru_7/threshold_0/threshold instead.\n",
      "INFO:tensorflow:Summary name prune_low_magnitude_dense_4/threshold:0/threshold is illegal; using prune_low_magnitude_dense_4/threshold_0/threshold instead.\n",
      "INFO:tensorflow:Summary name prune_low_magnitude_dense_5/threshold:0/threshold is illegal; using prune_low_magnitude_dense_5/threshold_0/threshold instead.\n",
      "230/230 [==============================] - 3s 15ms/step - loss: 0.0613 - accuracy: 0.9680\n",
      "Epoch 66/100\n",
      "227/230 [============================>.] - ETA: 0s - loss: 0.0599 - accuracy: 0.9697INFO:tensorflow:Summary name prune_low_magnitude_gru_6/mask:0/sparsity is illegal; using prune_low_magnitude_gru_6/mask_0/sparsity instead.\n",
      "INFO:tensorflow:Summary name prune_low_magnitude_gru_7/mask:0/sparsity is illegal; using prune_low_magnitude_gru_7/mask_0/sparsity instead.\n",
      "INFO:tensorflow:Summary name prune_low_magnitude_dense_4/mask:0/sparsity is illegal; using prune_low_magnitude_dense_4/mask_0/sparsity instead.\n",
      "INFO:tensorflow:Summary name prune_low_magnitude_dense_5/mask:0/sparsity is illegal; using prune_low_magnitude_dense_5/mask_0/sparsity instead.\n",
      "INFO:tensorflow:Summary name prune_low_magnitude_gru_6/threshold:0/threshold is illegal; using prune_low_magnitude_gru_6/threshold_0/threshold instead.\n",
      "INFO:tensorflow:Summary name prune_low_magnitude_gru_7/threshold:0/threshold is illegal; using prune_low_magnitude_gru_7/threshold_0/threshold instead.\n",
      "INFO:tensorflow:Summary name prune_low_magnitude_dense_4/threshold:0/threshold is illegal; using prune_low_magnitude_dense_4/threshold_0/threshold instead.\n",
      "INFO:tensorflow:Summary name prune_low_magnitude_dense_5/threshold:0/threshold is illegal; using prune_low_magnitude_dense_5/threshold_0/threshold instead.\n",
      "230/230 [==============================] - 3s 14ms/step - loss: 0.0597 - accuracy: 0.9698\n",
      "Epoch 67/100\n",
      "227/230 [============================>.] - ETA: 0s - loss: 0.0795 - accuracy: 0.9674INFO:tensorflow:Summary name prune_low_magnitude_gru_6/mask:0/sparsity is illegal; using prune_low_magnitude_gru_6/mask_0/sparsity instead.\n",
      "INFO:tensorflow:Summary name prune_low_magnitude_gru_7/mask:0/sparsity is illegal; using prune_low_magnitude_gru_7/mask_0/sparsity instead.\n",
      "INFO:tensorflow:Summary name prune_low_magnitude_dense_4/mask:0/sparsity is illegal; using prune_low_magnitude_dense_4/mask_0/sparsity instead.\n",
      "INFO:tensorflow:Summary name prune_low_magnitude_dense_5/mask:0/sparsity is illegal; using prune_low_magnitude_dense_5/mask_0/sparsity instead.\n",
      "INFO:tensorflow:Summary name prune_low_magnitude_gru_6/threshold:0/threshold is illegal; using prune_low_magnitude_gru_6/threshold_0/threshold instead.\n",
      "INFO:tensorflow:Summary name prune_low_magnitude_gru_7/threshold:0/threshold is illegal; using prune_low_magnitude_gru_7/threshold_0/threshold instead.\n",
      "INFO:tensorflow:Summary name prune_low_magnitude_dense_4/threshold:0/threshold is illegal; using prune_low_magnitude_dense_4/threshold_0/threshold instead.\n",
      "INFO:tensorflow:Summary name prune_low_magnitude_dense_5/threshold:0/threshold is illegal; using prune_low_magnitude_dense_5/threshold_0/threshold instead.\n",
      "230/230 [==============================] - 3s 15ms/step - loss: 0.0790 - accuracy: 0.9675\n",
      "Epoch 68/100\n",
      "227/230 [============================>.] - ETA: 0s - loss: 0.0624 - accuracy: 0.9721INFO:tensorflow:Summary name prune_low_magnitude_gru_6/mask:0/sparsity is illegal; using prune_low_magnitude_gru_6/mask_0/sparsity instead.\n",
      "INFO:tensorflow:Summary name prune_low_magnitude_gru_7/mask:0/sparsity is illegal; using prune_low_magnitude_gru_7/mask_0/sparsity instead.\n",
      "INFO:tensorflow:Summary name prune_low_magnitude_dense_4/mask:0/sparsity is illegal; using prune_low_magnitude_dense_4/mask_0/sparsity instead.\n",
      "INFO:tensorflow:Summary name prune_low_magnitude_dense_5/mask:0/sparsity is illegal; using prune_low_magnitude_dense_5/mask_0/sparsity instead.\n",
      "INFO:tensorflow:Summary name prune_low_magnitude_gru_6/threshold:0/threshold is illegal; using prune_low_magnitude_gru_6/threshold_0/threshold instead.\n",
      "INFO:tensorflow:Summary name prune_low_magnitude_gru_7/threshold:0/threshold is illegal; using prune_low_magnitude_gru_7/threshold_0/threshold instead.\n",
      "INFO:tensorflow:Summary name prune_low_magnitude_dense_4/threshold:0/threshold is illegal; using prune_low_magnitude_dense_4/threshold_0/threshold instead.\n",
      "INFO:tensorflow:Summary name prune_low_magnitude_dense_5/threshold:0/threshold is illegal; using prune_low_magnitude_dense_5/threshold_0/threshold instead.\n",
      "230/230 [==============================] - 3s 14ms/step - loss: 0.0625 - accuracy: 0.9718\n",
      "Epoch 69/100\n",
      "228/230 [============================>.] - ETA: 0s - loss: 0.0574 - accuracy: 0.9708INFO:tensorflow:Summary name prune_low_magnitude_gru_6/mask:0/sparsity is illegal; using prune_low_magnitude_gru_6/mask_0/sparsity instead.\n",
      "INFO:tensorflow:Summary name prune_low_magnitude_gru_7/mask:0/sparsity is illegal; using prune_low_magnitude_gru_7/mask_0/sparsity instead.\n",
      "INFO:tensorflow:Summary name prune_low_magnitude_dense_4/mask:0/sparsity is illegal; using prune_low_magnitude_dense_4/mask_0/sparsity instead.\n",
      "INFO:tensorflow:Summary name prune_low_magnitude_dense_5/mask:0/sparsity is illegal; using prune_low_magnitude_dense_5/mask_0/sparsity instead.\n",
      "INFO:tensorflow:Summary name prune_low_magnitude_gru_6/threshold:0/threshold is illegal; using prune_low_magnitude_gru_6/threshold_0/threshold instead.\n",
      "INFO:tensorflow:Summary name prune_low_magnitude_gru_7/threshold:0/threshold is illegal; using prune_low_magnitude_gru_7/threshold_0/threshold instead.\n",
      "INFO:tensorflow:Summary name prune_low_magnitude_dense_4/threshold:0/threshold is illegal; using prune_low_magnitude_dense_4/threshold_0/threshold instead.\n",
      "INFO:tensorflow:Summary name prune_low_magnitude_dense_5/threshold:0/threshold is illegal; using prune_low_magnitude_dense_5/threshold_0/threshold instead.\n",
      "230/230 [==============================] - 3s 15ms/step - loss: 0.0574 - accuracy: 0.9706\n",
      "Epoch 70/100\n",
      "229/230 [============================>.] - ETA: 0s - loss: 0.0625 - accuracy: 0.9718INFO:tensorflow:Summary name prune_low_magnitude_gru_6/mask:0/sparsity is illegal; using prune_low_magnitude_gru_6/mask_0/sparsity instead.\n",
      "INFO:tensorflow:Summary name prune_low_magnitude_gru_7/mask:0/sparsity is illegal; using prune_low_magnitude_gru_7/mask_0/sparsity instead.\n",
      "INFO:tensorflow:Summary name prune_low_magnitude_dense_4/mask:0/sparsity is illegal; using prune_low_magnitude_dense_4/mask_0/sparsity instead.\n",
      "INFO:tensorflow:Summary name prune_low_magnitude_dense_5/mask:0/sparsity is illegal; using prune_low_magnitude_dense_5/mask_0/sparsity instead.\n",
      "INFO:tensorflow:Summary name prune_low_magnitude_gru_6/threshold:0/threshold is illegal; using prune_low_magnitude_gru_6/threshold_0/threshold instead.\n",
      "INFO:tensorflow:Summary name prune_low_magnitude_gru_7/threshold:0/threshold is illegal; using prune_low_magnitude_gru_7/threshold_0/threshold instead.\n",
      "INFO:tensorflow:Summary name prune_low_magnitude_dense_4/threshold:0/threshold is illegal; using prune_low_magnitude_dense_4/threshold_0/threshold instead.\n",
      "INFO:tensorflow:Summary name prune_low_magnitude_dense_5/threshold:0/threshold is illegal; using prune_low_magnitude_dense_5/threshold_0/threshold instead.\n",
      "230/230 [==============================] - 3s 14ms/step - loss: 0.0625 - accuracy: 0.9717\n",
      "Epoch 71/100\n",
      "227/230 [============================>.] - ETA: 0s - loss: 0.0620 - accuracy: 0.9712INFO:tensorflow:Summary name prune_low_magnitude_gru_6/mask:0/sparsity is illegal; using prune_low_magnitude_gru_6/mask_0/sparsity instead.\n",
      "INFO:tensorflow:Summary name prune_low_magnitude_gru_7/mask:0/sparsity is illegal; using prune_low_magnitude_gru_7/mask_0/sparsity instead.\n",
      "INFO:tensorflow:Summary name prune_low_magnitude_dense_4/mask:0/sparsity is illegal; using prune_low_magnitude_dense_4/mask_0/sparsity instead.\n",
      "INFO:tensorflow:Summary name prune_low_magnitude_dense_5/mask:0/sparsity is illegal; using prune_low_magnitude_dense_5/mask_0/sparsity instead.\n",
      "INFO:tensorflow:Summary name prune_low_magnitude_gru_6/threshold:0/threshold is illegal; using prune_low_magnitude_gru_6/threshold_0/threshold instead.\n",
      "INFO:tensorflow:Summary name prune_low_magnitude_gru_7/threshold:0/threshold is illegal; using prune_low_magnitude_gru_7/threshold_0/threshold instead.\n",
      "INFO:tensorflow:Summary name prune_low_magnitude_dense_4/threshold:0/threshold is illegal; using prune_low_magnitude_dense_4/threshold_0/threshold instead.\n",
      "INFO:tensorflow:Summary name prune_low_magnitude_dense_5/threshold:0/threshold is illegal; using prune_low_magnitude_dense_5/threshold_0/threshold instead.\n",
      "230/230 [==============================] - 3s 15ms/step - loss: 0.0618 - accuracy: 0.9714\n",
      "Epoch 72/100\n",
      "228/230 [============================>.] - ETA: 0s - loss: 0.0637 - accuracy: 0.9704INFO:tensorflow:Summary name prune_low_magnitude_gru_6/mask:0/sparsity is illegal; using prune_low_magnitude_gru_6/mask_0/sparsity instead.\n",
      "INFO:tensorflow:Summary name prune_low_magnitude_gru_7/mask:0/sparsity is illegal; using prune_low_magnitude_gru_7/mask_0/sparsity instead.\n",
      "INFO:tensorflow:Summary name prune_low_magnitude_dense_4/mask:0/sparsity is illegal; using prune_low_magnitude_dense_4/mask_0/sparsity instead.\n",
      "INFO:tensorflow:Summary name prune_low_magnitude_dense_5/mask:0/sparsity is illegal; using prune_low_magnitude_dense_5/mask_0/sparsity instead.\n",
      "INFO:tensorflow:Summary name prune_low_magnitude_gru_6/threshold:0/threshold is illegal; using prune_low_magnitude_gru_6/threshold_0/threshold instead.\n",
      "INFO:tensorflow:Summary name prune_low_magnitude_gru_7/threshold:0/threshold is illegal; using prune_low_magnitude_gru_7/threshold_0/threshold instead.\n",
      "INFO:tensorflow:Summary name prune_low_magnitude_dense_4/threshold:0/threshold is illegal; using prune_low_magnitude_dense_4/threshold_0/threshold instead.\n",
      "INFO:tensorflow:Summary name prune_low_magnitude_dense_5/threshold:0/threshold is illegal; using prune_low_magnitude_dense_5/threshold_0/threshold instead.\n",
      "230/230 [==============================] - 3s 14ms/step - loss: 0.0633 - accuracy: 0.9706\n",
      "Epoch 73/100\n",
      "229/230 [============================>.] - ETA: 0s - loss: 0.0585 - accuracy: 0.9742INFO:tensorflow:Summary name prune_low_magnitude_gru_6/mask:0/sparsity is illegal; using prune_low_magnitude_gru_6/mask_0/sparsity instead.\n",
      "INFO:tensorflow:Summary name prune_low_magnitude_gru_7/mask:0/sparsity is illegal; using prune_low_magnitude_gru_7/mask_0/sparsity instead.\n",
      "INFO:tensorflow:Summary name prune_low_magnitude_dense_4/mask:0/sparsity is illegal; using prune_low_magnitude_dense_4/mask_0/sparsity instead.\n",
      "INFO:tensorflow:Summary name prune_low_magnitude_dense_5/mask:0/sparsity is illegal; using prune_low_magnitude_dense_5/mask_0/sparsity instead.\n",
      "INFO:tensorflow:Summary name prune_low_magnitude_gru_6/threshold:0/threshold is illegal; using prune_low_magnitude_gru_6/threshold_0/threshold instead.\n",
      "INFO:tensorflow:Summary name prune_low_magnitude_gru_7/threshold:0/threshold is illegal; using prune_low_magnitude_gru_7/threshold_0/threshold instead.\n",
      "INFO:tensorflow:Summary name prune_low_magnitude_dense_4/threshold:0/threshold is illegal; using prune_low_magnitude_dense_4/threshold_0/threshold instead.\n",
      "INFO:tensorflow:Summary name prune_low_magnitude_dense_5/threshold:0/threshold is illegal; using prune_low_magnitude_dense_5/threshold_0/threshold instead.\n",
      "230/230 [==============================] - 3s 15ms/step - loss: 0.0583 - accuracy: 0.9743\n",
      "Epoch 74/100\n",
      "228/230 [============================>.] - ETA: 0s - loss: 0.0585 - accuracy: 0.9740INFO:tensorflow:Summary name prune_low_magnitude_gru_6/mask:0/sparsity is illegal; using prune_low_magnitude_gru_6/mask_0/sparsity instead.\n",
      "INFO:tensorflow:Summary name prune_low_magnitude_gru_7/mask:0/sparsity is illegal; using prune_low_magnitude_gru_7/mask_0/sparsity instead.\n",
      "INFO:tensorflow:Summary name prune_low_magnitude_dense_4/mask:0/sparsity is illegal; using prune_low_magnitude_dense_4/mask_0/sparsity instead.\n",
      "INFO:tensorflow:Summary name prune_low_magnitude_dense_5/mask:0/sparsity is illegal; using prune_low_magnitude_dense_5/mask_0/sparsity instead.\n",
      "INFO:tensorflow:Summary name prune_low_magnitude_gru_6/threshold:0/threshold is illegal; using prune_low_magnitude_gru_6/threshold_0/threshold instead.\n",
      "INFO:tensorflow:Summary name prune_low_magnitude_gru_7/threshold:0/threshold is illegal; using prune_low_magnitude_gru_7/threshold_0/threshold instead.\n",
      "INFO:tensorflow:Summary name prune_low_magnitude_dense_4/threshold:0/threshold is illegal; using prune_low_magnitude_dense_4/threshold_0/threshold instead.\n",
      "INFO:tensorflow:Summary name prune_low_magnitude_dense_5/threshold:0/threshold is illegal; using prune_low_magnitude_dense_5/threshold_0/threshold instead.\n",
      "230/230 [==============================] - 3s 14ms/step - loss: 0.0585 - accuracy: 0.9739\n",
      "Epoch 75/100\n",
      "227/230 [============================>.] - ETA: 0s - loss: 0.0574 - accuracy: 0.9738INFO:tensorflow:Summary name prune_low_magnitude_gru_6/mask:0/sparsity is illegal; using prune_low_magnitude_gru_6/mask_0/sparsity instead.\n",
      "INFO:tensorflow:Summary name prune_low_magnitude_gru_7/mask:0/sparsity is illegal; using prune_low_magnitude_gru_7/mask_0/sparsity instead.\n",
      "INFO:tensorflow:Summary name prune_low_magnitude_dense_4/mask:0/sparsity is illegal; using prune_low_magnitude_dense_4/mask_0/sparsity instead.\n",
      "INFO:tensorflow:Summary name prune_low_magnitude_dense_5/mask:0/sparsity is illegal; using prune_low_magnitude_dense_5/mask_0/sparsity instead.\n",
      "INFO:tensorflow:Summary name prune_low_magnitude_gru_6/threshold:0/threshold is illegal; using prune_low_magnitude_gru_6/threshold_0/threshold instead.\n",
      "INFO:tensorflow:Summary name prune_low_magnitude_gru_7/threshold:0/threshold is illegal; using prune_low_magnitude_gru_7/threshold_0/threshold instead.\n",
      "INFO:tensorflow:Summary name prune_low_magnitude_dense_4/threshold:0/threshold is illegal; using prune_low_magnitude_dense_4/threshold_0/threshold instead.\n",
      "INFO:tensorflow:Summary name prune_low_magnitude_dense_5/threshold:0/threshold is illegal; using prune_low_magnitude_dense_5/threshold_0/threshold instead.\n",
      "230/230 [==============================] - 3s 14ms/step - loss: 0.0584 - accuracy: 0.9736\n",
      "Epoch 76/100\n",
      "227/230 [============================>.] - ETA: 0s - loss: 0.0548 - accuracy: 0.9756INFO:tensorflow:Summary name prune_low_magnitude_gru_6/mask:0/sparsity is illegal; using prune_low_magnitude_gru_6/mask_0/sparsity instead.\n",
      "INFO:tensorflow:Summary name prune_low_magnitude_gru_7/mask:0/sparsity is illegal; using prune_low_magnitude_gru_7/mask_0/sparsity instead.\n",
      "INFO:tensorflow:Summary name prune_low_magnitude_dense_4/mask:0/sparsity is illegal; using prune_low_magnitude_dense_4/mask_0/sparsity instead.\n",
      "INFO:tensorflow:Summary name prune_low_magnitude_dense_5/mask:0/sparsity is illegal; using prune_low_magnitude_dense_5/mask_0/sparsity instead.\n",
      "INFO:tensorflow:Summary name prune_low_magnitude_gru_6/threshold:0/threshold is illegal; using prune_low_magnitude_gru_6/threshold_0/threshold instead.\n",
      "INFO:tensorflow:Summary name prune_low_magnitude_gru_7/threshold:0/threshold is illegal; using prune_low_magnitude_gru_7/threshold_0/threshold instead.\n",
      "INFO:tensorflow:Summary name prune_low_magnitude_dense_4/threshold:0/threshold is illegal; using prune_low_magnitude_dense_4/threshold_0/threshold instead.\n",
      "INFO:tensorflow:Summary name prune_low_magnitude_dense_5/threshold:0/threshold is illegal; using prune_low_magnitude_dense_5/threshold_0/threshold instead.\n",
      "230/230 [==============================] - 3s 15ms/step - loss: 0.0547 - accuracy: 0.9755\n",
      "Epoch 77/100\n",
      "228/230 [============================>.] - ETA: 0s - loss: 0.0549 - accuracy: 0.9748INFO:tensorflow:Summary name prune_low_magnitude_gru_6/mask:0/sparsity is illegal; using prune_low_magnitude_gru_6/mask_0/sparsity instead.\n",
      "INFO:tensorflow:Summary name prune_low_magnitude_gru_7/mask:0/sparsity is illegal; using prune_low_magnitude_gru_7/mask_0/sparsity instead.\n",
      "INFO:tensorflow:Summary name prune_low_magnitude_dense_4/mask:0/sparsity is illegal; using prune_low_magnitude_dense_4/mask_0/sparsity instead.\n",
      "INFO:tensorflow:Summary name prune_low_magnitude_dense_5/mask:0/sparsity is illegal; using prune_low_magnitude_dense_5/mask_0/sparsity instead.\n",
      "INFO:tensorflow:Summary name prune_low_magnitude_gru_6/threshold:0/threshold is illegal; using prune_low_magnitude_gru_6/threshold_0/threshold instead.\n",
      "INFO:tensorflow:Summary name prune_low_magnitude_gru_7/threshold:0/threshold is illegal; using prune_low_magnitude_gru_7/threshold_0/threshold instead.\n",
      "INFO:tensorflow:Summary name prune_low_magnitude_dense_4/threshold:0/threshold is illegal; using prune_low_magnitude_dense_4/threshold_0/threshold instead.\n",
      "INFO:tensorflow:Summary name prune_low_magnitude_dense_5/threshold:0/threshold is illegal; using prune_low_magnitude_dense_5/threshold_0/threshold instead.\n",
      "230/230 [==============================] - 3s 14ms/step - loss: 0.0552 - accuracy: 0.9747\n",
      "Epoch 78/100\n",
      "228/230 [============================>.] - ETA: 0s - loss: 0.0562 - accuracy: 0.9740INFO:tensorflow:Summary name prune_low_magnitude_gru_6/mask:0/sparsity is illegal; using prune_low_magnitude_gru_6/mask_0/sparsity instead.\n",
      "INFO:tensorflow:Summary name prune_low_magnitude_gru_7/mask:0/sparsity is illegal; using prune_low_magnitude_gru_7/mask_0/sparsity instead.\n",
      "INFO:tensorflow:Summary name prune_low_magnitude_dense_4/mask:0/sparsity is illegal; using prune_low_magnitude_dense_4/mask_0/sparsity instead.\n",
      "INFO:tensorflow:Summary name prune_low_magnitude_dense_5/mask:0/sparsity is illegal; using prune_low_magnitude_dense_5/mask_0/sparsity instead.\n",
      "INFO:tensorflow:Summary name prune_low_magnitude_gru_6/threshold:0/threshold is illegal; using prune_low_magnitude_gru_6/threshold_0/threshold instead.\n",
      "INFO:tensorflow:Summary name prune_low_magnitude_gru_7/threshold:0/threshold is illegal; using prune_low_magnitude_gru_7/threshold_0/threshold instead.\n",
      "INFO:tensorflow:Summary name prune_low_magnitude_dense_4/threshold:0/threshold is illegal; using prune_low_magnitude_dense_4/threshold_0/threshold instead.\n",
      "INFO:tensorflow:Summary name prune_low_magnitude_dense_5/threshold:0/threshold is illegal; using prune_low_magnitude_dense_5/threshold_0/threshold instead.\n",
      "230/230 [==============================] - 3s 15ms/step - loss: 0.0566 - accuracy: 0.9736\n",
      "Epoch 79/100\n",
      "227/230 [============================>.] - ETA: 0s - loss: 0.0611 - accuracy: 0.9707INFO:tensorflow:Summary name prune_low_magnitude_gru_6/mask:0/sparsity is illegal; using prune_low_magnitude_gru_6/mask_0/sparsity instead.\n",
      "INFO:tensorflow:Summary name prune_low_magnitude_gru_7/mask:0/sparsity is illegal; using prune_low_magnitude_gru_7/mask_0/sparsity instead.\n",
      "INFO:tensorflow:Summary name prune_low_magnitude_dense_4/mask:0/sparsity is illegal; using prune_low_magnitude_dense_4/mask_0/sparsity instead.\n",
      "INFO:tensorflow:Summary name prune_low_magnitude_dense_5/mask:0/sparsity is illegal; using prune_low_magnitude_dense_5/mask_0/sparsity instead.\n",
      "INFO:tensorflow:Summary name prune_low_magnitude_gru_6/threshold:0/threshold is illegal; using prune_low_magnitude_gru_6/threshold_0/threshold instead.\n",
      "INFO:tensorflow:Summary name prune_low_magnitude_gru_7/threshold:0/threshold is illegal; using prune_low_magnitude_gru_7/threshold_0/threshold instead.\n",
      "INFO:tensorflow:Summary name prune_low_magnitude_dense_4/threshold:0/threshold is illegal; using prune_low_magnitude_dense_4/threshold_0/threshold instead.\n",
      "INFO:tensorflow:Summary name prune_low_magnitude_dense_5/threshold:0/threshold is illegal; using prune_low_magnitude_dense_5/threshold_0/threshold instead.\n",
      "230/230 [==============================] - 3s 14ms/step - loss: 0.0613 - accuracy: 0.9706\n",
      "Epoch 80/100\n",
      "230/230 [==============================] - ETA: 0s - loss: 0.0542 - accuracy: 0.9740INFO:tensorflow:Summary name prune_low_magnitude_gru_6/mask:0/sparsity is illegal; using prune_low_magnitude_gru_6/mask_0/sparsity instead.\n",
      "INFO:tensorflow:Summary name prune_low_magnitude_gru_7/mask:0/sparsity is illegal; using prune_low_magnitude_gru_7/mask_0/sparsity instead.\n",
      "INFO:tensorflow:Summary name prune_low_magnitude_dense_4/mask:0/sparsity is illegal; using prune_low_magnitude_dense_4/mask_0/sparsity instead.\n",
      "INFO:tensorflow:Summary name prune_low_magnitude_dense_5/mask:0/sparsity is illegal; using prune_low_magnitude_dense_5/mask_0/sparsity instead.\n",
      "INFO:tensorflow:Summary name prune_low_magnitude_gru_6/threshold:0/threshold is illegal; using prune_low_magnitude_gru_6/threshold_0/threshold instead.\n",
      "INFO:tensorflow:Summary name prune_low_magnitude_gru_7/threshold:0/threshold is illegal; using prune_low_magnitude_gru_7/threshold_0/threshold instead.\n",
      "INFO:tensorflow:Summary name prune_low_magnitude_dense_4/threshold:0/threshold is illegal; using prune_low_magnitude_dense_4/threshold_0/threshold instead.\n",
      "INFO:tensorflow:Summary name prune_low_magnitude_dense_5/threshold:0/threshold is illegal; using prune_low_magnitude_dense_5/threshold_0/threshold instead.\n",
      "230/230 [==============================] - 3s 15ms/step - loss: 0.0542 - accuracy: 0.9740\n",
      "Epoch 81/100\n",
      "230/230 [==============================] - ETA: 0s - loss: 0.0545 - accuracy: 0.9747INFO:tensorflow:Summary name prune_low_magnitude_gru_6/mask:0/sparsity is illegal; using prune_low_magnitude_gru_6/mask_0/sparsity instead.\n",
      "INFO:tensorflow:Summary name prune_low_magnitude_gru_7/mask:0/sparsity is illegal; using prune_low_magnitude_gru_7/mask_0/sparsity instead.\n",
      "INFO:tensorflow:Summary name prune_low_magnitude_dense_4/mask:0/sparsity is illegal; using prune_low_magnitude_dense_4/mask_0/sparsity instead.\n",
      "INFO:tensorflow:Summary name prune_low_magnitude_dense_5/mask:0/sparsity is illegal; using prune_low_magnitude_dense_5/mask_0/sparsity instead.\n",
      "INFO:tensorflow:Summary name prune_low_magnitude_gru_6/threshold:0/threshold is illegal; using prune_low_magnitude_gru_6/threshold_0/threshold instead.\n",
      "INFO:tensorflow:Summary name prune_low_magnitude_gru_7/threshold:0/threshold is illegal; using prune_low_magnitude_gru_7/threshold_0/threshold instead.\n",
      "INFO:tensorflow:Summary name prune_low_magnitude_dense_4/threshold:0/threshold is illegal; using prune_low_magnitude_dense_4/threshold_0/threshold instead.\n",
      "INFO:tensorflow:Summary name prune_low_magnitude_dense_5/threshold:0/threshold is illegal; using prune_low_magnitude_dense_5/threshold_0/threshold instead.\n",
      "230/230 [==============================] - 3s 14ms/step - loss: 0.0545 - accuracy: 0.9747\n",
      "Epoch 82/100\n",
      "228/230 [============================>.] - ETA: 0s - loss: 0.0508 - accuracy: 0.9755INFO:tensorflow:Summary name prune_low_magnitude_gru_6/mask:0/sparsity is illegal; using prune_low_magnitude_gru_6/mask_0/sparsity instead.\n",
      "INFO:tensorflow:Summary name prune_low_magnitude_gru_7/mask:0/sparsity is illegal; using prune_low_magnitude_gru_7/mask_0/sparsity instead.\n",
      "INFO:tensorflow:Summary name prune_low_magnitude_dense_4/mask:0/sparsity is illegal; using prune_low_magnitude_dense_4/mask_0/sparsity instead.\n",
      "INFO:tensorflow:Summary name prune_low_magnitude_dense_5/mask:0/sparsity is illegal; using prune_low_magnitude_dense_5/mask_0/sparsity instead.\n",
      "INFO:tensorflow:Summary name prune_low_magnitude_gru_6/threshold:0/threshold is illegal; using prune_low_magnitude_gru_6/threshold_0/threshold instead.\n",
      "INFO:tensorflow:Summary name prune_low_magnitude_gru_7/threshold:0/threshold is illegal; using prune_low_magnitude_gru_7/threshold_0/threshold instead.\n",
      "INFO:tensorflow:Summary name prune_low_magnitude_dense_4/threshold:0/threshold is illegal; using prune_low_magnitude_dense_4/threshold_0/threshold instead.\n",
      "INFO:tensorflow:Summary name prune_low_magnitude_dense_5/threshold:0/threshold is illegal; using prune_low_magnitude_dense_5/threshold_0/threshold instead.\n",
      "230/230 [==============================] - 3s 14ms/step - loss: 0.0510 - accuracy: 0.9751\n",
      "Epoch 83/100\n",
      "228/230 [============================>.] - ETA: 0s - loss: 0.0508 - accuracy: 0.9746INFO:tensorflow:Summary name prune_low_magnitude_gru_6/mask:0/sparsity is illegal; using prune_low_magnitude_gru_6/mask_0/sparsity instead.\n",
      "INFO:tensorflow:Summary name prune_low_magnitude_gru_7/mask:0/sparsity is illegal; using prune_low_magnitude_gru_7/mask_0/sparsity instead.\n",
      "INFO:tensorflow:Summary name prune_low_magnitude_dense_4/mask:0/sparsity is illegal; using prune_low_magnitude_dense_4/mask_0/sparsity instead.\n",
      "INFO:tensorflow:Summary name prune_low_magnitude_dense_5/mask:0/sparsity is illegal; using prune_low_magnitude_dense_5/mask_0/sparsity instead.\n",
      "INFO:tensorflow:Summary name prune_low_magnitude_gru_6/threshold:0/threshold is illegal; using prune_low_magnitude_gru_6/threshold_0/threshold instead.\n",
      "INFO:tensorflow:Summary name prune_low_magnitude_gru_7/threshold:0/threshold is illegal; using prune_low_magnitude_gru_7/threshold_0/threshold instead.\n",
      "INFO:tensorflow:Summary name prune_low_magnitude_dense_4/threshold:0/threshold is illegal; using prune_low_magnitude_dense_4/threshold_0/threshold instead.\n",
      "INFO:tensorflow:Summary name prune_low_magnitude_dense_5/threshold:0/threshold is illegal; using prune_low_magnitude_dense_5/threshold_0/threshold instead.\n",
      "230/230 [==============================] - 3s 14ms/step - loss: 0.0513 - accuracy: 0.9743\n",
      "Epoch 84/100\n",
      "227/230 [============================>.] - ETA: 0s - loss: 0.0731 - accuracy: 0.9675INFO:tensorflow:Summary name prune_low_magnitude_gru_6/mask:0/sparsity is illegal; using prune_low_magnitude_gru_6/mask_0/sparsity instead.\n",
      "INFO:tensorflow:Summary name prune_low_magnitude_gru_7/mask:0/sparsity is illegal; using prune_low_magnitude_gru_7/mask_0/sparsity instead.\n",
      "INFO:tensorflow:Summary name prune_low_magnitude_dense_4/mask:0/sparsity is illegal; using prune_low_magnitude_dense_4/mask_0/sparsity instead.\n",
      "INFO:tensorflow:Summary name prune_low_magnitude_dense_5/mask:0/sparsity is illegal; using prune_low_magnitude_dense_5/mask_0/sparsity instead.\n",
      "INFO:tensorflow:Summary name prune_low_magnitude_gru_6/threshold:0/threshold is illegal; using prune_low_magnitude_gru_6/threshold_0/threshold instead.\n",
      "INFO:tensorflow:Summary name prune_low_magnitude_gru_7/threshold:0/threshold is illegal; using prune_low_magnitude_gru_7/threshold_0/threshold instead.\n",
      "INFO:tensorflow:Summary name prune_low_magnitude_dense_4/threshold:0/threshold is illegal; using prune_low_magnitude_dense_4/threshold_0/threshold instead.\n",
      "INFO:tensorflow:Summary name prune_low_magnitude_dense_5/threshold:0/threshold is illegal; using prune_low_magnitude_dense_5/threshold_0/threshold instead.\n",
      "230/230 [==============================] - 3s 15ms/step - loss: 0.0737 - accuracy: 0.9674\n",
      "Epoch 85/100\n",
      "228/230 [============================>.] - ETA: 0s - loss: 0.0565 - accuracy: 0.9741INFO:tensorflow:Summary name prune_low_magnitude_gru_6/mask:0/sparsity is illegal; using prune_low_magnitude_gru_6/mask_0/sparsity instead.\n",
      "INFO:tensorflow:Summary name prune_low_magnitude_gru_7/mask:0/sparsity is illegal; using prune_low_magnitude_gru_7/mask_0/sparsity instead.\n",
      "INFO:tensorflow:Summary name prune_low_magnitude_dense_4/mask:0/sparsity is illegal; using prune_low_magnitude_dense_4/mask_0/sparsity instead.\n",
      "INFO:tensorflow:Summary name prune_low_magnitude_dense_5/mask:0/sparsity is illegal; using prune_low_magnitude_dense_5/mask_0/sparsity instead.\n",
      "INFO:tensorflow:Summary name prune_low_magnitude_gru_6/threshold:0/threshold is illegal; using prune_low_magnitude_gru_6/threshold_0/threshold instead.\n",
      "INFO:tensorflow:Summary name prune_low_magnitude_gru_7/threshold:0/threshold is illegal; using prune_low_magnitude_gru_7/threshold_0/threshold instead.\n",
      "INFO:tensorflow:Summary name prune_low_magnitude_dense_4/threshold:0/threshold is illegal; using prune_low_magnitude_dense_4/threshold_0/threshold instead.\n",
      "INFO:tensorflow:Summary name prune_low_magnitude_dense_5/threshold:0/threshold is illegal; using prune_low_magnitude_dense_5/threshold_0/threshold instead.\n",
      "230/230 [==============================] - 3s 15ms/step - loss: 0.0563 - accuracy: 0.9743\n",
      "Epoch 86/100\n",
      "228/230 [============================>.] - ETA: 0s - loss: 0.0492 - accuracy: 0.9768INFO:tensorflow:Summary name prune_low_magnitude_gru_6/mask:0/sparsity is illegal; using prune_low_magnitude_gru_6/mask_0/sparsity instead.\n",
      "INFO:tensorflow:Summary name prune_low_magnitude_gru_7/mask:0/sparsity is illegal; using prune_low_magnitude_gru_7/mask_0/sparsity instead.\n",
      "INFO:tensorflow:Summary name prune_low_magnitude_dense_4/mask:0/sparsity is illegal; using prune_low_magnitude_dense_4/mask_0/sparsity instead.\n",
      "INFO:tensorflow:Summary name prune_low_magnitude_dense_5/mask:0/sparsity is illegal; using prune_low_magnitude_dense_5/mask_0/sparsity instead.\n",
      "INFO:tensorflow:Summary name prune_low_magnitude_gru_6/threshold:0/threshold is illegal; using prune_low_magnitude_gru_6/threshold_0/threshold instead.\n",
      "INFO:tensorflow:Summary name prune_low_magnitude_gru_7/threshold:0/threshold is illegal; using prune_low_magnitude_gru_7/threshold_0/threshold instead.\n",
      "INFO:tensorflow:Summary name prune_low_magnitude_dense_4/threshold:0/threshold is illegal; using prune_low_magnitude_dense_4/threshold_0/threshold instead.\n",
      "INFO:tensorflow:Summary name prune_low_magnitude_dense_5/threshold:0/threshold is illegal; using prune_low_magnitude_dense_5/threshold_0/threshold instead.\n",
      "230/230 [==============================] - 3s 14ms/step - loss: 0.0489 - accuracy: 0.9769\n",
      "Epoch 87/100\n",
      "229/230 [============================>.] - ETA: 0s - loss: 0.0484 - accuracy: 0.9768INFO:tensorflow:Summary name prune_low_magnitude_gru_6/mask:0/sparsity is illegal; using prune_low_magnitude_gru_6/mask_0/sparsity instead.\n",
      "INFO:tensorflow:Summary name prune_low_magnitude_gru_7/mask:0/sparsity is illegal; using prune_low_magnitude_gru_7/mask_0/sparsity instead.\n",
      "INFO:tensorflow:Summary name prune_low_magnitude_dense_4/mask:0/sparsity is illegal; using prune_low_magnitude_dense_4/mask_0/sparsity instead.\n",
      "INFO:tensorflow:Summary name prune_low_magnitude_dense_5/mask:0/sparsity is illegal; using prune_low_magnitude_dense_5/mask_0/sparsity instead.\n",
      "INFO:tensorflow:Summary name prune_low_magnitude_gru_6/threshold:0/threshold is illegal; using prune_low_magnitude_gru_6/threshold_0/threshold instead.\n",
      "INFO:tensorflow:Summary name prune_low_magnitude_gru_7/threshold:0/threshold is illegal; using prune_low_magnitude_gru_7/threshold_0/threshold instead.\n",
      "INFO:tensorflow:Summary name prune_low_magnitude_dense_4/threshold:0/threshold is illegal; using prune_low_magnitude_dense_4/threshold_0/threshold instead.\n",
      "INFO:tensorflow:Summary name prune_low_magnitude_dense_5/threshold:0/threshold is illegal; using prune_low_magnitude_dense_5/threshold_0/threshold instead.\n",
      "230/230 [==============================] - 3s 14ms/step - loss: 0.0482 - accuracy: 0.9769\n",
      "Epoch 88/100\n",
      "229/230 [============================>.] - ETA: 0s - loss: 0.0503 - accuracy: 0.9764INFO:tensorflow:Summary name prune_low_magnitude_gru_6/mask:0/sparsity is illegal; using prune_low_magnitude_gru_6/mask_0/sparsity instead.\n",
      "INFO:tensorflow:Summary name prune_low_magnitude_gru_7/mask:0/sparsity is illegal; using prune_low_magnitude_gru_7/mask_0/sparsity instead.\n",
      "INFO:tensorflow:Summary name prune_low_magnitude_dense_4/mask:0/sparsity is illegal; using prune_low_magnitude_dense_4/mask_0/sparsity instead.\n",
      "INFO:tensorflow:Summary name prune_low_magnitude_dense_5/mask:0/sparsity is illegal; using prune_low_magnitude_dense_5/mask_0/sparsity instead.\n",
      "INFO:tensorflow:Summary name prune_low_magnitude_gru_6/threshold:0/threshold is illegal; using prune_low_magnitude_gru_6/threshold_0/threshold instead.\n",
      "INFO:tensorflow:Summary name prune_low_magnitude_gru_7/threshold:0/threshold is illegal; using prune_low_magnitude_gru_7/threshold_0/threshold instead.\n",
      "INFO:tensorflow:Summary name prune_low_magnitude_dense_4/threshold:0/threshold is illegal; using prune_low_magnitude_dense_4/threshold_0/threshold instead.\n",
      "INFO:tensorflow:Summary name prune_low_magnitude_dense_5/threshold:0/threshold is illegal; using prune_low_magnitude_dense_5/threshold_0/threshold instead.\n",
      "230/230 [==============================] - 3s 14ms/step - loss: 0.0503 - accuracy: 0.9765\n",
      "Epoch 89/100\n",
      "229/230 [============================>.] - ETA: 0s - loss: 0.0470 - accuracy: 0.9763INFO:tensorflow:Summary name prune_low_magnitude_gru_6/mask:0/sparsity is illegal; using prune_low_magnitude_gru_6/mask_0/sparsity instead.\n",
      "INFO:tensorflow:Summary name prune_low_magnitude_gru_7/mask:0/sparsity is illegal; using prune_low_magnitude_gru_7/mask_0/sparsity instead.\n",
      "INFO:tensorflow:Summary name prune_low_magnitude_dense_4/mask:0/sparsity is illegal; using prune_low_magnitude_dense_4/mask_0/sparsity instead.\n",
      "INFO:tensorflow:Summary name prune_low_magnitude_dense_5/mask:0/sparsity is illegal; using prune_low_magnitude_dense_5/mask_0/sparsity instead.\n",
      "INFO:tensorflow:Summary name prune_low_magnitude_gru_6/threshold:0/threshold is illegal; using prune_low_magnitude_gru_6/threshold_0/threshold instead.\n",
      "INFO:tensorflow:Summary name prune_low_magnitude_gru_7/threshold:0/threshold is illegal; using prune_low_magnitude_gru_7/threshold_0/threshold instead.\n",
      "INFO:tensorflow:Summary name prune_low_magnitude_dense_4/threshold:0/threshold is illegal; using prune_low_magnitude_dense_4/threshold_0/threshold instead.\n",
      "INFO:tensorflow:Summary name prune_low_magnitude_dense_5/threshold:0/threshold is illegal; using prune_low_magnitude_dense_5/threshold_0/threshold instead.\n",
      "230/230 [==============================] - 3s 14ms/step - loss: 0.0468 - accuracy: 0.9763\n",
      "Epoch 90/100\n",
      "230/230 [==============================] - ETA: 0s - loss: 0.0484 - accuracy: 0.9759INFO:tensorflow:Summary name prune_low_magnitude_gru_6/mask:0/sparsity is illegal; using prune_low_magnitude_gru_6/mask_0/sparsity instead.\n",
      "INFO:tensorflow:Summary name prune_low_magnitude_gru_7/mask:0/sparsity is illegal; using prune_low_magnitude_gru_7/mask_0/sparsity instead.\n",
      "INFO:tensorflow:Summary name prune_low_magnitude_dense_4/mask:0/sparsity is illegal; using prune_low_magnitude_dense_4/mask_0/sparsity instead.\n",
      "INFO:tensorflow:Summary name prune_low_magnitude_dense_5/mask:0/sparsity is illegal; using prune_low_magnitude_dense_5/mask_0/sparsity instead.\n",
      "INFO:tensorflow:Summary name prune_low_magnitude_gru_6/threshold:0/threshold is illegal; using prune_low_magnitude_gru_6/threshold_0/threshold instead.\n",
      "INFO:tensorflow:Summary name prune_low_magnitude_gru_7/threshold:0/threshold is illegal; using prune_low_magnitude_gru_7/threshold_0/threshold instead.\n",
      "INFO:tensorflow:Summary name prune_low_magnitude_dense_4/threshold:0/threshold is illegal; using prune_low_magnitude_dense_4/threshold_0/threshold instead.\n",
      "INFO:tensorflow:Summary name prune_low_magnitude_dense_5/threshold:0/threshold is illegal; using prune_low_magnitude_dense_5/threshold_0/threshold instead.\n",
      "230/230 [==============================] - 3s 15ms/step - loss: 0.0484 - accuracy: 0.9759\n",
      "Epoch 91/100\n",
      "229/230 [============================>.] - ETA: 0s - loss: 0.0455 - accuracy: 0.9772INFO:tensorflow:Summary name prune_low_magnitude_gru_6/mask:0/sparsity is illegal; using prune_low_magnitude_gru_6/mask_0/sparsity instead.\n",
      "INFO:tensorflow:Summary name prune_low_magnitude_gru_7/mask:0/sparsity is illegal; using prune_low_magnitude_gru_7/mask_0/sparsity instead.\n",
      "INFO:tensorflow:Summary name prune_low_magnitude_dense_4/mask:0/sparsity is illegal; using prune_low_magnitude_dense_4/mask_0/sparsity instead.\n",
      "INFO:tensorflow:Summary name prune_low_magnitude_dense_5/mask:0/sparsity is illegal; using prune_low_magnitude_dense_5/mask_0/sparsity instead.\n",
      "INFO:tensorflow:Summary name prune_low_magnitude_gru_6/threshold:0/threshold is illegal; using prune_low_magnitude_gru_6/threshold_0/threshold instead.\n",
      "INFO:tensorflow:Summary name prune_low_magnitude_gru_7/threshold:0/threshold is illegal; using prune_low_magnitude_gru_7/threshold_0/threshold instead.\n",
      "INFO:tensorflow:Summary name prune_low_magnitude_dense_4/threshold:0/threshold is illegal; using prune_low_magnitude_dense_4/threshold_0/threshold instead.\n",
      "INFO:tensorflow:Summary name prune_low_magnitude_dense_5/threshold:0/threshold is illegal; using prune_low_magnitude_dense_5/threshold_0/threshold instead.\n",
      "230/230 [==============================] - 3s 14ms/step - loss: 0.0455 - accuracy: 0.9773\n",
      "Epoch 92/100\n",
      "228/230 [============================>.] - ETA: 0s - loss: 0.0486 - accuracy: 0.9768INFO:tensorflow:Summary name prune_low_magnitude_gru_6/mask:0/sparsity is illegal; using prune_low_magnitude_gru_6/mask_0/sparsity instead.\n",
      "INFO:tensorflow:Summary name prune_low_magnitude_gru_7/mask:0/sparsity is illegal; using prune_low_magnitude_gru_7/mask_0/sparsity instead.\n",
      "INFO:tensorflow:Summary name prune_low_magnitude_dense_4/mask:0/sparsity is illegal; using prune_low_magnitude_dense_4/mask_0/sparsity instead.\n",
      "INFO:tensorflow:Summary name prune_low_magnitude_dense_5/mask:0/sparsity is illegal; using prune_low_magnitude_dense_5/mask_0/sparsity instead.\n",
      "INFO:tensorflow:Summary name prune_low_magnitude_gru_6/threshold:0/threshold is illegal; using prune_low_magnitude_gru_6/threshold_0/threshold instead.\n",
      "INFO:tensorflow:Summary name prune_low_magnitude_gru_7/threshold:0/threshold is illegal; using prune_low_magnitude_gru_7/threshold_0/threshold instead.\n",
      "INFO:tensorflow:Summary name prune_low_magnitude_dense_4/threshold:0/threshold is illegal; using prune_low_magnitude_dense_4/threshold_0/threshold instead.\n",
      "INFO:tensorflow:Summary name prune_low_magnitude_dense_5/threshold:0/threshold is illegal; using prune_low_magnitude_dense_5/threshold_0/threshold instead.\n",
      "230/230 [==============================] - 3s 15ms/step - loss: 0.0484 - accuracy: 0.9770\n",
      "Epoch 93/100\n",
      "230/230 [==============================] - ETA: 0s - loss: 0.0499 - accuracy: 0.9746INFO:tensorflow:Summary name prune_low_magnitude_gru_6/mask:0/sparsity is illegal; using prune_low_magnitude_gru_6/mask_0/sparsity instead.\n",
      "INFO:tensorflow:Summary name prune_low_magnitude_gru_7/mask:0/sparsity is illegal; using prune_low_magnitude_gru_7/mask_0/sparsity instead.\n",
      "INFO:tensorflow:Summary name prune_low_magnitude_dense_4/mask:0/sparsity is illegal; using prune_low_magnitude_dense_4/mask_0/sparsity instead.\n",
      "INFO:tensorflow:Summary name prune_low_magnitude_dense_5/mask:0/sparsity is illegal; using prune_low_magnitude_dense_5/mask_0/sparsity instead.\n",
      "INFO:tensorflow:Summary name prune_low_magnitude_gru_6/threshold:0/threshold is illegal; using prune_low_magnitude_gru_6/threshold_0/threshold instead.\n",
      "INFO:tensorflow:Summary name prune_low_magnitude_gru_7/threshold:0/threshold is illegal; using prune_low_magnitude_gru_7/threshold_0/threshold instead.\n",
      "INFO:tensorflow:Summary name prune_low_magnitude_dense_4/threshold:0/threshold is illegal; using prune_low_magnitude_dense_4/threshold_0/threshold instead.\n",
      "INFO:tensorflow:Summary name prune_low_magnitude_dense_5/threshold:0/threshold is illegal; using prune_low_magnitude_dense_5/threshold_0/threshold instead.\n",
      "230/230 [==============================] - 3s 15ms/step - loss: 0.0499 - accuracy: 0.9746\n",
      "Epoch 94/100\n",
      "228/230 [============================>.] - ETA: 0s - loss: 0.0496 - accuracy: 0.9775INFO:tensorflow:Summary name prune_low_magnitude_gru_6/mask:0/sparsity is illegal; using prune_low_magnitude_gru_6/mask_0/sparsity instead.\n",
      "INFO:tensorflow:Summary name prune_low_magnitude_gru_7/mask:0/sparsity is illegal; using prune_low_magnitude_gru_7/mask_0/sparsity instead.\n",
      "INFO:tensorflow:Summary name prune_low_magnitude_dense_4/mask:0/sparsity is illegal; using prune_low_magnitude_dense_4/mask_0/sparsity instead.\n",
      "INFO:tensorflow:Summary name prune_low_magnitude_dense_5/mask:0/sparsity is illegal; using prune_low_magnitude_dense_5/mask_0/sparsity instead.\n",
      "INFO:tensorflow:Summary name prune_low_magnitude_gru_6/threshold:0/threshold is illegal; using prune_low_magnitude_gru_6/threshold_0/threshold instead.\n",
      "INFO:tensorflow:Summary name prune_low_magnitude_gru_7/threshold:0/threshold is illegal; using prune_low_magnitude_gru_7/threshold_0/threshold instead.\n",
      "INFO:tensorflow:Summary name prune_low_magnitude_dense_4/threshold:0/threshold is illegal; using prune_low_magnitude_dense_4/threshold_0/threshold instead.\n",
      "INFO:tensorflow:Summary name prune_low_magnitude_dense_5/threshold:0/threshold is illegal; using prune_low_magnitude_dense_5/threshold_0/threshold instead.\n",
      "230/230 [==============================] - 3s 15ms/step - loss: 0.0496 - accuracy: 0.9777\n",
      "Epoch 95/100\n",
      "227/230 [============================>.] - ETA: 0s - loss: 0.0542 - accuracy: 0.9766INFO:tensorflow:Summary name prune_low_magnitude_gru_6/mask:0/sparsity is illegal; using prune_low_magnitude_gru_6/mask_0/sparsity instead.\n",
      "INFO:tensorflow:Summary name prune_low_magnitude_gru_7/mask:0/sparsity is illegal; using prune_low_magnitude_gru_7/mask_0/sparsity instead.\n",
      "INFO:tensorflow:Summary name prune_low_magnitude_dense_4/mask:0/sparsity is illegal; using prune_low_magnitude_dense_4/mask_0/sparsity instead.\n",
      "INFO:tensorflow:Summary name prune_low_magnitude_dense_5/mask:0/sparsity is illegal; using prune_low_magnitude_dense_5/mask_0/sparsity instead.\n",
      "INFO:tensorflow:Summary name prune_low_magnitude_gru_6/threshold:0/threshold is illegal; using prune_low_magnitude_gru_6/threshold_0/threshold instead.\n",
      "INFO:tensorflow:Summary name prune_low_magnitude_gru_7/threshold:0/threshold is illegal; using prune_low_magnitude_gru_7/threshold_0/threshold instead.\n",
      "INFO:tensorflow:Summary name prune_low_magnitude_dense_4/threshold:0/threshold is illegal; using prune_low_magnitude_dense_4/threshold_0/threshold instead.\n",
      "INFO:tensorflow:Summary name prune_low_magnitude_dense_5/threshold:0/threshold is illegal; using prune_low_magnitude_dense_5/threshold_0/threshold instead.\n",
      "230/230 [==============================] - 3s 15ms/step - loss: 0.0535 - accuracy: 0.9769\n",
      "Epoch 96/100\n",
      "227/230 [============================>.] - ETA: 0s - loss: 0.0500 - accuracy: 0.9771INFO:tensorflow:Summary name prune_low_magnitude_gru_6/mask:0/sparsity is illegal; using prune_low_magnitude_gru_6/mask_0/sparsity instead.\n",
      "INFO:tensorflow:Summary name prune_low_magnitude_gru_7/mask:0/sparsity is illegal; using prune_low_magnitude_gru_7/mask_0/sparsity instead.\n",
      "INFO:tensorflow:Summary name prune_low_magnitude_dense_4/mask:0/sparsity is illegal; using prune_low_magnitude_dense_4/mask_0/sparsity instead.\n",
      "INFO:tensorflow:Summary name prune_low_magnitude_dense_5/mask:0/sparsity is illegal; using prune_low_magnitude_dense_5/mask_0/sparsity instead.\n",
      "INFO:tensorflow:Summary name prune_low_magnitude_gru_6/threshold:0/threshold is illegal; using prune_low_magnitude_gru_6/threshold_0/threshold instead.\n",
      "INFO:tensorflow:Summary name prune_low_magnitude_gru_7/threshold:0/threshold is illegal; using prune_low_magnitude_gru_7/threshold_0/threshold instead.\n",
      "INFO:tensorflow:Summary name prune_low_magnitude_dense_4/threshold:0/threshold is illegal; using prune_low_magnitude_dense_4/threshold_0/threshold instead.\n",
      "INFO:tensorflow:Summary name prune_low_magnitude_dense_5/threshold:0/threshold is illegal; using prune_low_magnitude_dense_5/threshold_0/threshold instead.\n",
      "230/230 [==============================] - 3s 14ms/step - loss: 0.0495 - accuracy: 0.9773\n",
      "Epoch 97/100\n",
      "227/230 [============================>.] - ETA: 0s - loss: 0.0447 - accuracy: 0.9777INFO:tensorflow:Summary name prune_low_magnitude_gru_6/mask:0/sparsity is illegal; using prune_low_magnitude_gru_6/mask_0/sparsity instead.\n",
      "INFO:tensorflow:Summary name prune_low_magnitude_gru_7/mask:0/sparsity is illegal; using prune_low_magnitude_gru_7/mask_0/sparsity instead.\n",
      "INFO:tensorflow:Summary name prune_low_magnitude_dense_4/mask:0/sparsity is illegal; using prune_low_magnitude_dense_4/mask_0/sparsity instead.\n",
      "INFO:tensorflow:Summary name prune_low_magnitude_dense_5/mask:0/sparsity is illegal; using prune_low_magnitude_dense_5/mask_0/sparsity instead.\n",
      "INFO:tensorflow:Summary name prune_low_magnitude_gru_6/threshold:0/threshold is illegal; using prune_low_magnitude_gru_6/threshold_0/threshold instead.\n",
      "INFO:tensorflow:Summary name prune_low_magnitude_gru_7/threshold:0/threshold is illegal; using prune_low_magnitude_gru_7/threshold_0/threshold instead.\n",
      "INFO:tensorflow:Summary name prune_low_magnitude_dense_4/threshold:0/threshold is illegal; using prune_low_magnitude_dense_4/threshold_0/threshold instead.\n",
      "INFO:tensorflow:Summary name prune_low_magnitude_dense_5/threshold:0/threshold is illegal; using prune_low_magnitude_dense_5/threshold_0/threshold instead.\n",
      "230/230 [==============================] - 3s 15ms/step - loss: 0.0452 - accuracy: 0.9771\n",
      "Epoch 98/100\n",
      "229/230 [============================>.] - ETA: 0s - loss: 0.0471 - accuracy: 0.9775INFO:tensorflow:Summary name prune_low_magnitude_gru_6/mask:0/sparsity is illegal; using prune_low_magnitude_gru_6/mask_0/sparsity instead.\n",
      "INFO:tensorflow:Summary name prune_low_magnitude_gru_7/mask:0/sparsity is illegal; using prune_low_magnitude_gru_7/mask_0/sparsity instead.\n",
      "INFO:tensorflow:Summary name prune_low_magnitude_dense_4/mask:0/sparsity is illegal; using prune_low_magnitude_dense_4/mask_0/sparsity instead.\n",
      "INFO:tensorflow:Summary name prune_low_magnitude_dense_5/mask:0/sparsity is illegal; using prune_low_magnitude_dense_5/mask_0/sparsity instead.\n",
      "INFO:tensorflow:Summary name prune_low_magnitude_gru_6/threshold:0/threshold is illegal; using prune_low_magnitude_gru_6/threshold_0/threshold instead.\n",
      "INFO:tensorflow:Summary name prune_low_magnitude_gru_7/threshold:0/threshold is illegal; using prune_low_magnitude_gru_7/threshold_0/threshold instead.\n",
      "INFO:tensorflow:Summary name prune_low_magnitude_dense_4/threshold:0/threshold is illegal; using prune_low_magnitude_dense_4/threshold_0/threshold instead.\n",
      "INFO:tensorflow:Summary name prune_low_magnitude_dense_5/threshold:0/threshold is illegal; using prune_low_magnitude_dense_5/threshold_0/threshold instead.\n",
      "230/230 [==============================] - 3s 15ms/step - loss: 0.0471 - accuracy: 0.9776\n",
      "Epoch 99/100\n",
      "228/230 [============================>.] - ETA: 0s - loss: 0.0471 - accuracy: 0.9756INFO:tensorflow:Summary name prune_low_magnitude_gru_6/mask:0/sparsity is illegal; using prune_low_magnitude_gru_6/mask_0/sparsity instead.\n",
      "INFO:tensorflow:Summary name prune_low_magnitude_gru_7/mask:0/sparsity is illegal; using prune_low_magnitude_gru_7/mask_0/sparsity instead.\n",
      "INFO:tensorflow:Summary name prune_low_magnitude_dense_4/mask:0/sparsity is illegal; using prune_low_magnitude_dense_4/mask_0/sparsity instead.\n",
      "INFO:tensorflow:Summary name prune_low_magnitude_dense_5/mask:0/sparsity is illegal; using prune_low_magnitude_dense_5/mask_0/sparsity instead.\n",
      "INFO:tensorflow:Summary name prune_low_magnitude_gru_6/threshold:0/threshold is illegal; using prune_low_magnitude_gru_6/threshold_0/threshold instead.\n",
      "INFO:tensorflow:Summary name prune_low_magnitude_gru_7/threshold:0/threshold is illegal; using prune_low_magnitude_gru_7/threshold_0/threshold instead.\n",
      "INFO:tensorflow:Summary name prune_low_magnitude_dense_4/threshold:0/threshold is illegal; using prune_low_magnitude_dense_4/threshold_0/threshold instead.\n",
      "INFO:tensorflow:Summary name prune_low_magnitude_dense_5/threshold:0/threshold is illegal; using prune_low_magnitude_dense_5/threshold_0/threshold instead.\n",
      "230/230 [==============================] - 3s 15ms/step - loss: 0.0471 - accuracy: 0.9757\n",
      "Epoch 100/100\n",
      "227/230 [============================>.] - ETA: 0s - loss: 0.0504 - accuracy: 0.9778INFO:tensorflow:Summary name prune_low_magnitude_gru_6/mask:0/sparsity is illegal; using prune_low_magnitude_gru_6/mask_0/sparsity instead.\n",
      "INFO:tensorflow:Summary name prune_low_magnitude_gru_7/mask:0/sparsity is illegal; using prune_low_magnitude_gru_7/mask_0/sparsity instead.\n",
      "INFO:tensorflow:Summary name prune_low_magnitude_dense_4/mask:0/sparsity is illegal; using prune_low_magnitude_dense_4/mask_0/sparsity instead.\n",
      "INFO:tensorflow:Summary name prune_low_magnitude_dense_5/mask:0/sparsity is illegal; using prune_low_magnitude_dense_5/mask_0/sparsity instead.\n",
      "INFO:tensorflow:Summary name prune_low_magnitude_gru_6/threshold:0/threshold is illegal; using prune_low_magnitude_gru_6/threshold_0/threshold instead.\n",
      "INFO:tensorflow:Summary name prune_low_magnitude_gru_7/threshold:0/threshold is illegal; using prune_low_magnitude_gru_7/threshold_0/threshold instead.\n",
      "INFO:tensorflow:Summary name prune_low_magnitude_dense_4/threshold:0/threshold is illegal; using prune_low_magnitude_dense_4/threshold_0/threshold instead.\n",
      "INFO:tensorflow:Summary name prune_low_magnitude_dense_5/threshold:0/threshold is illegal; using prune_low_magnitude_dense_5/threshold_0/threshold instead.\n",
      "230/230 [==============================] - 3s 14ms/step - loss: 0.0499 - accuracy: 0.9780\n"
     ]
    }
   ],
   "source": [
    "history=pruned_model.fit(X_train, Y_train,\n",
    "          batch_size=batch_size,\n",
    "          epochs=100,\n",
    "          verbose=1,\n",
    "          callbacks=callbacks)"
   ]
  },
  {
   "cell_type": "code",
   "execution_count": 0,
   "metadata": {
    "colab": {
     "base_uri": "https://localhost:8080/",
     "height": 282
    },
    "colab_type": "code",
    "id": "7v98eP12AXyT",
    "outputId": "968ef14a-bc40-42d2-97ac-703938142e5c"
   },
   "outputs": [
    {
     "data": {
      "text/plain": [
       "[<matplotlib.lines.Line2D at 0x7f6866249128>]"
      ]
     },
     "execution_count": 42,
     "metadata": {
      "tags": []
     },
     "output_type": "execute_result"
    },
    {
     "data": {
      "image/png": "[encoded data removed]",
      "text/plain": [
       "<Figure size 432x288 with 1 Axes>"
      ]
     },
     "metadata": {
      "tags": []
     },
     "output_type": "display_data"
    }
   ],
   "source": [
    "plt.plot(history.history['loss'])"
   ]
  },
  {
   "cell_type": "code",
   "execution_count": 0,
   "metadata": {
    "colab": {
     "base_uri": "https://localhost:8080/",
     "height": 50
    },
    "colab_type": "code",
    "id": "f6HVRbIBCsmW",
    "outputId": "387d20c1-94f3-4a1e-f1ce-88b2a7ee84f3"
   },
   "outputs": [
    {
     "name": "stdout",
     "output_type": "stream",
     "text": [
      "Training set:  96.72198295593262 %\n",
      "Test set:  92.05971956253052 %\n"
     ]
    }
   ],
   "source": [
    "gru_pruned_acc_train=pruned_model.evaluate(X_train, Y_train, batch_size=batch_size, verbose=0)[1]\n",
    "gru_pruned_acc_test=pruned_model.evaluate(X_test, Y_test, batch_size=batch_size, verbose=0)[1]\n",
    "print(\"Training set: \",gru_pruned_acc_train*100,\"%\")\n",
    "print(\"Test set: \",gru_pruned_acc_test*100,\"%\")"
   ]
  },
  {
   "cell_type": "code",
   "execution_count": 0,
   "metadata": {
    "colab": {},
    "colab_type": "code",
    "id": "7kuHcQ-RCzLH"
   },
   "outputs": [],
   "source": [
    "pruned_model.save('gru_pruned.h5')"
   ]
  },
  {
   "cell_type": "code",
   "execution_count": 0,
   "metadata": {
    "colab": {
     "base_uri": "https://localhost:8080/",
     "height": 319
    },
    "colab_type": "code",
    "id": "TknJ2cbzDd-I",
    "outputId": "5e4248e3-6efe-4083-a3d0-db0663b58430"
   },
   "outputs": [
    {
     "name": "stdout",
     "output_type": "stream",
     "text": [
      "Model: \"sequential_1\"\n",
      "_________________________________________________________________\n",
      "Layer (type)                 Output Shape              Param #   \n",
      "=================================================================\n",
      "gru_6 (GRU)                  (None, 128, 100)          33300     \n",
      "_________________________________________________________________\n",
      "gru_7 (GRU)                  (None, 64)                31872     \n",
      "_________________________________________________________________\n",
      "dropout_3 (Dropout)          (None, 64)                0         \n",
      "_________________________________________________________________\n",
      "dense_4 (Dense)              (None, 64)                4160      \n",
      "_________________________________________________________________\n",
      "dense_5 (Dense)              (None, 6)                 390       \n",
      "=================================================================\n",
      "Total params: 69,722\n",
      "Trainable params: 69,722\n",
      "Non-trainable params: 0\n",
      "_________________________________________________________________\n"
     ]
    }
   ],
   "source": [
    "final_model = sparsity.strip_pruning(pruned_model)\n",
    "final_model.summary()"
   ]
  },
  {
   "cell_type": "markdown",
   "metadata": {
    "colab_type": "text",
    "id": "jGc4gCaoEoQu"
   },
   "source": [
    "### Compare Size Before and After Pruning"
   ]
  },
  {
   "cell_type": "code",
   "execution_count": 0,
   "metadata": {
    "colab": {},
    "colab_type": "code",
    "id": "FaIufl0IErld"
   },
   "outputs": [],
   "source": [
    "import os"
   ]
  },
  {
   "cell_type": "code",
   "execution_count": 0,
   "metadata": {
    "colab": {
     "base_uri": "https://localhost:8080/",
     "height": 50
    },
    "colab_type": "code",
    "id": "eQymlHjyEsVQ",
    "outputId": "f45e2801-f349-45f9-928f-25aede4594fb"
   },
   "outputs": [
    {
     "name": "stdout",
     "output_type": "stream",
     "text": [
      "Model:  885272\n",
      "Pruned Model:  206860\n"
     ]
    }
   ],
   "source": [
    "print(\"Model: \",os.path.getsize('gru.h5'))\n",
    "print(\"Pruned Model: \",os.path.getsize('gru_pruned.h5'))"
   ]
  },
  {
   "cell_type": "code",
   "execution_count": 0,
   "metadata": {
    "colab": {
     "base_uri": "https://localhost:8080/",
     "height": 281
    },
    "colab_type": "code",
    "id": "TG5ZV1s7FXBU",
    "outputId": "82a16d94-49b4-4023-8cf6-809370d0a28e"
   },
   "outputs": [
    {
     "data": {
      "image/png": "[encoded data removed]",
      "text/plain": [
       "<Figure size 432x288 with 1 Axes>"
      ]
     },
     "metadata": {
      "tags": []
     },
     "output_type": "display_data"
    }
   ],
   "source": [
    "normal_acc=[gru_acc_train,gru_acc_test]\n",
    "pruned_acc=[gru_pruned_acc_train,gru_pruned_acc_test]\n",
    "\n",
    "train=[gru_acc_train*100,gru_pruned_acc_train*100]\n",
    "test=[gru_acc_test*100,gru_pruned_acc_test*100]\n",
    "\n",
    "barWidth = 0.3\n",
    "  \n",
    "# Set position of bar on X axis\n",
    "r1 = np.arange(len(train))\n",
    "r2 = [x + barWidth for x in r1]\n",
    "\n",
    "plt.title(\"Accuracy\")\n",
    "plt.bar(r1, train,  width=barWidth, edgecolor='white', label='Train')\n",
    "plt.bar(r2, test, width=barWidth, edgecolor='white', label='Test')\n",
    "plt.xticks([0.15,1.15],[\"Normal Model\",\"Pruned Model\"])\n",
    "plt.legend(loc=9)\n",
    "plt.show()"
   ]
  },
  {
   "cell_type": "code",
   "execution_count": 0,
   "metadata": {
    "colab": {
     "base_uri": "https://localhost:8080/",
     "height": 281
    },
    "colab_type": "code",
    "id": "TUJeZvEmFFd_",
    "outputId": "a81d57f4-4bae-4e6e-e653-f895c6393512"
   },
   "outputs": [
    {
     "data": {
      "image/png": "[encoded data removed]",
      "text/plain": [
       "<Figure size 432x288 with 1 Axes>"
      ]
     },
     "metadata": {
      "tags": []
     },
     "output_type": "display_data"
    }
   ],
   "source": [
    "plt.title(\"Size of models\")\n",
    "sns.barplot([\"Normal Model\",\"Pruned Model\"],[os.path.getsize('gru.h5'),os.path.getsize('gru_pruned.h5')])\n",
    "plt.show()"
   ]
  }
 ],
 "metadata": {
  "accelerator": "GPU",
  "colab": {
   "authorship_tag": "ABX9TyOEW6tV/Z/rvluMJOcQxc0c",
   "collapsed_sections": [],
   "include_colab_link": true,
   "name": "HAR-RNN.ipynb",
   "provenance": [],
   "toc_visible": true
  },
  "kernelspec": {
   "display_name": "Python 3",
   "language": "python",
   "name": "python3"
  },
  "language_info": {
   "codemirror_mode": {
    "name": "ipython",
    "version": 3
   },
   "file_extension": ".py",
   "mimetype": "text/x-python",
   "name": "python",
   "nbconvert_exporter": "python",
   "pygments_lexer": "ipython3",
   "version": "3.7.1"
  }
 },
 "nbformat": 4,
 "nbformat_minor": 1
}
