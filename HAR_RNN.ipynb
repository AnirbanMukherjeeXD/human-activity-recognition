{
  "nbformat": 4,
  "nbformat_minor": 0,
  "metadata": {
    "colab": {
      "name": "HAR-RNN.ipynb",
      "provenance": [],
      "collapsed_sections": [],
      "toc_visible": true,
      "authorship_tag": "ABX9TyOXevWOn8yVcgcQdHS/qi0N",
      "include_colab_link": true
    },
    "kernelspec": {
      "name": "python3",
      "display_name": "Python 3"
    },
    "accelerator": "GPU"
  },
  "cells": [
    {
      "cell_type": "markdown",
      "metadata": {
        "id": "view-in-github",
        "colab_type": "text"
      },
      "source": [
        "<a href=\"https://colab.research.google.com/github/AnirbanMukherjeeXD/human-activity-recognition/blob/master/HAR_RNN.ipynb\" target=\"_parent\"><img src=\"https://colab.research.google.com/assets/colab-badge.svg\" alt=\"Open In Colab\"/></a>"
      ]
    },
    {
      "cell_type": "markdown",
      "metadata": {
        "id": "D4-mpkKsIn0X",
        "colab_type": "text"
      },
      "source": [
        "## Kaggle API dataset"
      ]
    },
    {
      "cell_type": "code",
      "metadata": {
        "id": "eYTJjaIJIjLb",
        "colab_type": "code",
        "colab": {}
      },
      "source": [
        "!mkdir -p ~/.kaggle\n",
        "!cp kaggle.json ~/.kaggle/\n",
        "\n",
        "# This permissions change avoids a warning on Kaggle tool startup.\n",
        "!chmod 600 ~/.kaggle/kaggle.json"
      ],
      "execution_count": 0,
      "outputs": []
    },
    {
      "cell_type": "code",
      "metadata": {
        "id": "tP8KjoGonqX9",
        "colab_type": "code",
        "outputId": "3174ff4c-8cee-47e5-d333-5a8f03a9551f",
        "colab": {
          "base_uri": "https://localhost:8080/",
          "height": 67
        }
      },
      "source": [
        "!kaggle datasets download -d erenaktas/human-activity-recognition --unzip"
      ],
      "execution_count": 0,
      "outputs": [
        {
          "output_type": "stream",
          "text": [
            "Downloading human-activity-recognition.zip to /content\n",
            " 99% 118M/119M [00:01<00:00, 41.4MB/s] \n",
            "100% 119M/119M [00:01<00:00, 75.0MB/s]\n"
          ],
          "name": "stdout"
        }
      ]
    },
    {
      "cell_type": "markdown",
      "metadata": {
        "id": "GSTXeARzIYVe",
        "colab_type": "text"
      },
      "source": [
        "## Importing libraries"
      ]
    },
    {
      "cell_type": "code",
      "metadata": {
        "id": "R07UoIccniHd",
        "colab_type": "code",
        "colab": {}
      },
      "source": [
        "%tensorflow_version 2.x"
      ],
      "execution_count": 0,
      "outputs": []
    },
    {
      "cell_type": "code",
      "metadata": {
        "id": "C6nhq_FUnv32",
        "colab_type": "code",
        "outputId": "a346a166-7a96-484d-f202-13ec39389b8a",
        "colab": {
          "base_uri": "https://localhost:8080/",
          "height": 70
        }
      },
      "source": [
        "import numpy as np \n",
        "import pandas as pd \n",
        "import os\n",
        "import seaborn as sns\n",
        "import matplotlib.pyplot as plt\n",
        "from numpy import mean\n",
        "from numpy import std\n",
        "from numpy import dstack\n",
        "from sklearn.metrics import confusion_matrix"
      ],
      "execution_count": 0,
      "outputs": [
        {
          "output_type": "stream",
          "text": [
            "/usr/local/lib/python3.6/dist-packages/statsmodels/tools/_testing.py:19: FutureWarning: pandas.util.testing is deprecated. Use the functions in the public API at pandas.testing instead.\n",
            "  import pandas.util.testing as tm\n"
          ],
          "name": "stderr"
        }
      ]
    },
    {
      "cell_type": "code",
      "metadata": {
        "id": "ufTUV1vPg5Kf",
        "colab_type": "code",
        "colab": {}
      },
      "source": [
        "import tensorflow as tf\n",
        "from tensorflow.keras.models import Sequential\n",
        "from tensorflow.keras.layers import Dense, Flatten, Dropout,SimpleRNN, GRU, LSTM\n",
        "from tensorflow import feature_column\n",
        "from tensorflow.keras.utils import to_categorical\n",
        "from tensorflow.keras.models import load_model"
      ],
      "execution_count": 0,
      "outputs": []
    },
    {
      "cell_type": "markdown",
      "metadata": {
        "id": "z8bm8SK5XeN6",
        "colab_type": "text"
      },
      "source": [
        "## Dataset Loading"
      ]
    },
    {
      "cell_type": "code",
      "metadata": {
        "id": "DmVk-2Pr99Q-",
        "colab_type": "code",
        "colab": {}
      },
      "source": [
        "# load a single file as a numpy array\n",
        "def load_file(filepath):\n",
        "\tdataframe = pd.read_csv(filepath, header=None, delim_whitespace=True)\n",
        "\tprint(\"Loading: \",filepath)\n",
        "\treturn dataframe.values"
      ],
      "execution_count": 0,
      "outputs": []
    },
    {
      "cell_type": "code",
      "metadata": {
        "id": "mtTrapUq-AXl",
        "colab_type": "code",
        "colab": {}
      },
      "source": [
        "# load a list of files into a 3D array of [samples, timesteps, features]\n",
        "def load_group(filenames, prefix=''):\n",
        "\tloaded = list()\n",
        "\tfor name in filenames:\n",
        "\t\tdata = load_file(prefix + name)\n",
        "\t\tloaded.append(data)\n",
        "\t# stack group so that features are the 3rd dimension\n",
        "\tloaded = dstack(loaded)\n",
        "\treturn loaded"
      ],
      "execution_count": 0,
      "outputs": []
    },
    {
      "cell_type": "code",
      "metadata": {
        "id": "fAST9AtN-GvD",
        "colab_type": "code",
        "colab": {}
      },
      "source": [
        "# load a dataset group, such as train or test\n",
        "def load_dataset_group(group, prefix=''):\n",
        "\tfilepath = prefix + group + '/Inertial Signals/'\n",
        "\t# load all 9 files as a single array\n",
        "\tfilenames = list()\n",
        "\t# total acceleration\n",
        "\tfilenames += ['total_acc_x_'+group+'.txt', 'total_acc_y_'+group+'.txt', 'total_acc_z_'+group+'.txt']\n",
        "\t# body acceleration\n",
        "\tfilenames += ['body_acc_x_'+group+'.txt', 'body_acc_y_'+group+'.txt', 'body_acc_z_'+group+'.txt']\n",
        "\t# body gyroscope\n",
        "\tfilenames += ['body_gyro_x_'+group+'.txt', 'body_gyro_y_'+group+'.txt', 'body_gyro_z_'+group+'.txt']\n",
        "\t# load input data\n",
        "\tX = load_group(filenames, filepath)\n",
        "\t# load class output\n",
        "\ty = load_file(prefix + group + '/y_'+group+'.txt')\n",
        "\treturn X, y"
      ],
      "execution_count": 0,
      "outputs": []
    },
    {
      "cell_type": "code",
      "metadata": {
        "id": "uaGAdutd-N2e",
        "colab_type": "code",
        "colab": {}
      },
      "source": [
        "# load the dataset, returns train and test X and y elements\n",
        "def load_dataset(prefix=''):\n",
        "\t# load all train\n",
        "\ttrainX, trainy = load_dataset_group('train', prefix + 'UCI_HAR_Dataset/')\n",
        "\tprint(trainX.shape, trainy.shape)\n",
        "\t# load all test\n",
        "\ttestX, testy = load_dataset_group('test', prefix + 'UCI_HAR_Dataset/')\n",
        "\tprint(testX.shape, testy.shape)\n",
        "\t# zero-offset class values\n",
        "\ttrainy = trainy - 1\n",
        "\ttesty = testy - 1\n",
        "\t# one hot encode y\n",
        "\ttrainy = to_categorical(trainy)\n",
        "\ttesty = to_categorical(testy)\n",
        "\tprint(trainX.shape, trainy.shape, testX.shape, testy.shape)\n",
        "\treturn trainX, trainy, testX, testy"
      ],
      "execution_count": 0,
      "outputs": []
    },
    {
      "cell_type": "code",
      "metadata": {
        "id": "5PKaceXVXyIP",
        "colab_type": "code",
        "outputId": "da1b929c-15a0-4ca4-a5cd-4b817f1978fe",
        "colab": {
          "base_uri": "https://localhost:8080/",
          "height": 403
        }
      },
      "source": [
        "X_train, Y_train, X_test, Y_test = load_dataset()"
      ],
      "execution_count": 0,
      "outputs": [
        {
          "output_type": "stream",
          "text": [
            "Loading:  UCI_HAR_Dataset/train/Inertial Signals/total_acc_x_train.txt\n",
            "Loading:  UCI_HAR_Dataset/train/Inertial Signals/total_acc_y_train.txt\n",
            "Loading:  UCI_HAR_Dataset/train/Inertial Signals/total_acc_z_train.txt\n",
            "Loading:  UCI_HAR_Dataset/train/Inertial Signals/body_acc_x_train.txt\n",
            "Loading:  UCI_HAR_Dataset/train/Inertial Signals/body_acc_y_train.txt\n",
            "Loading:  UCI_HAR_Dataset/train/Inertial Signals/body_acc_z_train.txt\n",
            "Loading:  UCI_HAR_Dataset/train/Inertial Signals/body_gyro_x_train.txt\n",
            "Loading:  UCI_HAR_Dataset/train/Inertial Signals/body_gyro_y_train.txt\n",
            "Loading:  UCI_HAR_Dataset/train/Inertial Signals/body_gyro_z_train.txt\n",
            "Loading:  UCI_HAR_Dataset/train/y_train.txt\n",
            "(7352, 128, 9) (7352, 1)\n",
            "Loading:  UCI_HAR_Dataset/test/Inertial Signals/total_acc_x_test.txt\n",
            "Loading:  UCI_HAR_Dataset/test/Inertial Signals/total_acc_y_test.txt\n",
            "Loading:  UCI_HAR_Dataset/test/Inertial Signals/total_acc_z_test.txt\n",
            "Loading:  UCI_HAR_Dataset/test/Inertial Signals/body_acc_x_test.txt\n",
            "Loading:  UCI_HAR_Dataset/test/Inertial Signals/body_acc_y_test.txt\n",
            "Loading:  UCI_HAR_Dataset/test/Inertial Signals/body_acc_z_test.txt\n",
            "Loading:  UCI_HAR_Dataset/test/Inertial Signals/body_gyro_x_test.txt\n",
            "Loading:  UCI_HAR_Dataset/test/Inertial Signals/body_gyro_y_test.txt\n",
            "Loading:  UCI_HAR_Dataset/test/Inertial Signals/body_gyro_z_test.txt\n",
            "Loading:  UCI_HAR_Dataset/test/y_test.txt\n",
            "(2947, 128, 9) (2947, 1)\n",
            "(7352, 128, 9) (7352, 6) (2947, 128, 9) (2947, 6)\n"
          ],
          "name": "stdout"
        }
      ]
    },
    {
      "cell_type": "code",
      "metadata": {
        "id": "W5h7yQAku7dC",
        "colab_type": "code",
        "outputId": "8e9331bb-5534-4b08-bc17-c891c13bd280",
        "colab": {
          "base_uri": "https://localhost:8080/",
          "height": 34
        }
      },
      "source": [
        "X_train.shape"
      ],
      "execution_count": 0,
      "outputs": [
        {
          "output_type": "execute_result",
          "data": {
            "text/plain": [
              "(7352, 128, 9)"
            ]
          },
          "metadata": {
            "tags": []
          },
          "execution_count": 23
        }
      ]
    },
    {
      "cell_type": "code",
      "metadata": {
        "id": "wE4xXdudwcuC",
        "colab_type": "code",
        "outputId": "31eca72c-28e5-44cb-9b1c-6588f55dcd59",
        "colab": {
          "base_uri": "https://localhost:8080/",
          "height": 34
        }
      },
      "source": [
        "Y_train.shape"
      ],
      "execution_count": 0,
      "outputs": [
        {
          "output_type": "execute_result",
          "data": {
            "text/plain": [
              "(7352, 6)"
            ]
          },
          "metadata": {
            "tags": []
          },
          "execution_count": 26
        }
      ]
    },
    {
      "cell_type": "code",
      "metadata": {
        "id": "Dz-f365Kwn2e",
        "colab_type": "code",
        "outputId": "d8cd0564-c7cd-4222-db33-53a5bb3dd4ee",
        "colab": {
          "base_uri": "https://localhost:8080/",
          "height": 34
        }
      },
      "source": [
        "X_train[0,:,0].shape"
      ],
      "execution_count": 0,
      "outputs": [
        {
          "output_type": "execute_result",
          "data": {
            "text/plain": [
              "(128,)"
            ]
          },
          "metadata": {
            "tags": []
          },
          "execution_count": 40
        }
      ]
    },
    {
      "cell_type": "code",
      "metadata": {
        "id": "NJq0ve5qwYu5",
        "colab_type": "code",
        "outputId": "5c8b1014-cffe-467d-c63e-3a20c42aa07c",
        "colab": {
          "base_uri": "https://localhost:8080/",
          "height": 282
        }
      },
      "source": [
        "plt.plot(X_train[0,:,0])"
      ],
      "execution_count": 0,
      "outputs": [
        {
          "output_type": "execute_result",
          "data": {
            "text/plain": [
              "[<matplotlib.lines.Line2D at 0x7fe56b20b748>]"
            ]
          },
          "metadata": {
            "tags": []
          },
          "execution_count": 45
        },
        {
          "output_type": "display_data",
          "data": {
            "image/png": "[encoded data removed]",
            "text/plain": [
              "<Figure size 432x288 with 1 Axes>"
            ]
          },
          "metadata": {
            "tags": []
          }
        }
      ]
    },
    {
      "cell_type": "markdown",
      "metadata": {
        "colab_type": "text",
        "id": "8J4eqtGwlkjJ"
      },
      "source": [
        "## Model 1: GRU"
      ]
    },
    {
      "cell_type": "code",
      "metadata": {
        "colab_type": "code",
        "id": "Z5U9N3kqlkjP",
        "colab": {}
      },
      "source": [
        "verbose, epochs, batch_size = 2, 10, 32"
      ],
      "execution_count": 0,
      "outputs": []
    },
    {
      "cell_type": "code",
      "metadata": {
        "colab_type": "code",
        "id": "MUxOL5EUlkjS",
        "colab": {}
      },
      "source": [
        "n_timesteps, n_features, n_outputs = X_train.shape[1], X_train.shape[2], Y_train.shape[1]"
      ],
      "execution_count": 0,
      "outputs": []
    },
    {
      "cell_type": "code",
      "metadata": {
        "colab_type": "code",
        "outputId": "9841114d-b5cf-42fd-c606-0090f42b111f",
        "id": "4LnGlY4qlkjV",
        "colab": {
          "base_uri": "https://localhost:8080/",
          "height": 34
        }
      },
      "source": [
        "print(n_timesteps, n_features, n_outputs)"
      ],
      "execution_count": 0,
      "outputs": [
        {
          "output_type": "stream",
          "text": [
            "128 9 6\n"
          ],
          "name": "stdout"
        }
      ]
    },
    {
      "cell_type": "code",
      "metadata": {
        "colab_type": "code",
        "id": "eWqg8PrRlkjY",
        "colab": {}
      },
      "source": [
        "model = Sequential()\n",
        "model.add(GRU(100,return_sequences=True,input_shape=(n_timesteps,n_features)))\n",
        "model.add(GRU(64))\n",
        "model.add(Dropout(0.15))\n",
        "model.add(Dense(64, activation='tanh'))\n",
        "model.add(Dense(n_outputs, activation='softmax'))"
      ],
      "execution_count": 0,
      "outputs": []
    },
    {
      "cell_type": "code",
      "metadata": {
        "colab_type": "code",
        "id": "soYasrMglkja",
        "colab": {}
      },
      "source": [
        "model.compile(loss='categorical_crossentropy', optimizer='adam', metrics=['accuracy'])"
      ],
      "execution_count": 0,
      "outputs": []
    },
    {
      "cell_type": "code",
      "metadata": {
        "colab_type": "code",
        "outputId": "42398698-f945-45ea-ded5-f4cadfc103b5",
        "id": "jtlji4-4lkjd",
        "colab": {
          "base_uri": "https://localhost:8080/",
          "height": 319
        }
      },
      "source": [
        "model.summary()"
      ],
      "execution_count": 0,
      "outputs": [
        {
          "output_type": "stream",
          "text": [
            "Model: \"sequential\"\n",
            "_________________________________________________________________\n",
            "Layer (type)                 Output Shape              Param #   \n",
            "=================================================================\n",
            "gru (GRU)                    (None, 128, 100)          33300     \n",
            "_________________________________________________________________\n",
            "gru_1 (GRU)                  (None, 64)                31872     \n",
            "_________________________________________________________________\n",
            "dropout (Dropout)            (None, 64)                0         \n",
            "_________________________________________________________________\n",
            "dense (Dense)                (None, 64)                4160      \n",
            "_________________________________________________________________\n",
            "dense_1 (Dense)              (None, 6)                 390       \n",
            "=================================================================\n",
            "Total params: 69,722\n",
            "Trainable params: 69,722\n",
            "Non-trainable params: 0\n",
            "_________________________________________________________________\n"
          ],
          "name": "stdout"
        }
      ]
    },
    {
      "cell_type": "code",
      "metadata": {
        "colab_type": "code",
        "id": "edEhk5_slkjh",
        "colab": {}
      },
      "source": [
        "simple_rnn_params=model.count_params()"
      ],
      "execution_count": 0,
      "outputs": []
    },
    {
      "cell_type": "code",
      "metadata": {
        "colab_type": "code",
        "outputId": "5706b517-2bd4-4c15-b78f-9bb0e68e125d",
        "id": "gGeIBV_9lkjj",
        "colab": {
          "base_uri": "https://localhost:8080/",
          "height": 1000
        }
      },
      "source": [
        "history=model.fit(X_train, Y_train, epochs=100, batch_size=batch_size, verbose=verbose)"
      ],
      "execution_count": 0,
      "outputs": [
        {
          "output_type": "stream",
          "text": [
            "Epoch 1/100\n",
            "230/230 - 3s - loss: 0.9841 - accuracy: 0.5816\n",
            "Epoch 2/100\n",
            "230/230 - 2s - loss: 0.2566 - accuracy: 0.9075\n",
            "Epoch 3/100\n",
            "230/230 - 3s - loss: 0.1519 - accuracy: 0.9392\n",
            "Epoch 4/100\n",
            "230/230 - 3s - loss: 0.1379 - accuracy: 0.9442\n",
            "Epoch 5/100\n",
            "230/230 - 2s - loss: 0.1427 - accuracy: 0.9423\n",
            "Epoch 6/100\n",
            "230/230 - 3s - loss: 0.1420 - accuracy: 0.9418\n",
            "Epoch 7/100\n",
            "230/230 - 2s - loss: 0.1343 - accuracy: 0.9440\n",
            "Epoch 8/100\n",
            "230/230 - 3s - loss: 0.1208 - accuracy: 0.9506\n",
            "Epoch 9/100\n",
            "230/230 - 2s - loss: 0.1186 - accuracy: 0.9497\n",
            "Epoch 10/100\n",
            "230/230 - 3s - loss: 0.1161 - accuracy: 0.9514\n",
            "Epoch 11/100\n",
            "230/230 - 2s - loss: 0.1158 - accuracy: 0.9484\n",
            "Epoch 12/100\n",
            "230/230 - 2s - loss: 0.1127 - accuracy: 0.9524\n",
            "Epoch 13/100\n",
            "230/230 - 3s - loss: 0.1101 - accuracy: 0.9532\n",
            "Epoch 14/100\n",
            "230/230 - 2s - loss: 0.1752 - accuracy: 0.9381\n",
            "Epoch 15/100\n",
            "230/230 - 2s - loss: 0.1181 - accuracy: 0.9518\n",
            "Epoch 16/100\n",
            "230/230 - 2s - loss: 0.1167 - accuracy: 0.9518\n",
            "Epoch 17/100\n",
            "230/230 - 3s - loss: 0.1174 - accuracy: 0.9520\n",
            "Epoch 18/100\n",
            "230/230 - 2s - loss: 0.1091 - accuracy: 0.9521\n",
            "Epoch 19/100\n",
            "230/230 - 3s - loss: 0.1072 - accuracy: 0.9546\n",
            "Epoch 20/100\n",
            "230/230 - 3s - loss: 0.1049 - accuracy: 0.9559\n",
            "Epoch 21/100\n",
            "230/230 - 2s - loss: 0.1038 - accuracy: 0.9542\n",
            "Epoch 22/100\n",
            "230/230 - 3s - loss: 0.1039 - accuracy: 0.9555\n",
            "Epoch 23/100\n",
            "230/230 - 2s - loss: 0.1131 - accuracy: 0.9540\n",
            "Epoch 24/100\n",
            "230/230 - 2s - loss: 0.0998 - accuracy: 0.9576\n",
            "Epoch 25/100\n",
            "230/230 - 2s - loss: 0.1323 - accuracy: 0.9486\n",
            "Epoch 26/100\n",
            "230/230 - 2s - loss: 0.1037 - accuracy: 0.9555\n",
            "Epoch 27/100\n",
            "230/230 - 2s - loss: 0.1004 - accuracy: 0.9561\n",
            "Epoch 28/100\n",
            "230/230 - 3s - loss: 0.0959 - accuracy: 0.9565\n",
            "Epoch 29/100\n",
            "230/230 - 2s - loss: 0.0993 - accuracy: 0.9584\n",
            "Epoch 30/100\n",
            "230/230 - 2s - loss: 0.0955 - accuracy: 0.9589\n",
            "Epoch 31/100\n",
            "230/230 - 2s - loss: 0.0941 - accuracy: 0.9562\n",
            "Epoch 32/100\n",
            "230/230 - 2s - loss: 0.0909 - accuracy: 0.9606\n",
            "Epoch 33/100\n",
            "230/230 - 2s - loss: 0.1008 - accuracy: 0.9565\n",
            "Epoch 34/100\n",
            "230/230 - 3s - loss: 0.0908 - accuracy: 0.9608\n",
            "Epoch 35/100\n",
            "230/230 - 2s - loss: 0.0881 - accuracy: 0.9592\n",
            "Epoch 36/100\n",
            "230/230 - 3s - loss: 0.0878 - accuracy: 0.9627\n",
            "Epoch 37/100\n",
            "230/230 - 2s - loss: 0.0843 - accuracy: 0.9629\n",
            "Epoch 38/100\n",
            "230/230 - 2s - loss: 0.1121 - accuracy: 0.9548\n",
            "Epoch 39/100\n",
            "230/230 - 2s - loss: 0.0904 - accuracy: 0.9606\n",
            "Epoch 40/100\n",
            "230/230 - 2s - loss: 0.0788 - accuracy: 0.9655\n",
            "Epoch 41/100\n",
            "230/230 - 3s - loss: 0.0760 - accuracy: 0.9653\n",
            "Epoch 42/100\n",
            "230/230 - 2s - loss: 0.0800 - accuracy: 0.9634\n",
            "Epoch 43/100\n",
            "230/230 - 2s - loss: 0.0786 - accuracy: 0.9640\n",
            "Epoch 44/100\n",
            "230/230 - 2s - loss: 0.0800 - accuracy: 0.9641\n",
            "Epoch 45/100\n",
            "230/230 - 2s - loss: 0.0683 - accuracy: 0.9686\n",
            "Epoch 46/100\n",
            "230/230 - 2s - loss: 0.0775 - accuracy: 0.9667\n",
            "Epoch 47/100\n",
            "230/230 - 2s - loss: 0.0722 - accuracy: 0.9682\n",
            "Epoch 48/100\n",
            "230/230 - 2s - loss: 0.0644 - accuracy: 0.9716\n",
            "Epoch 49/100\n",
            "230/230 - 2s - loss: 0.0679 - accuracy: 0.9708\n",
            "Epoch 50/100\n",
            "230/230 - 2s - loss: 0.0634 - accuracy: 0.9716\n",
            "Epoch 51/100\n",
            "230/230 - 2s - loss: 0.0770 - accuracy: 0.9708\n",
            "Epoch 52/100\n",
            "230/230 - 2s - loss: 0.0906 - accuracy: 0.9641\n",
            "Epoch 53/100\n",
            "230/230 - 2s - loss: 0.0611 - accuracy: 0.9742\n",
            "Epoch 54/100\n",
            "230/230 - 2s - loss: 0.0585 - accuracy: 0.9724\n",
            "Epoch 55/100\n",
            "230/230 - 2s - loss: 0.0551 - accuracy: 0.9755\n",
            "Epoch 56/100\n",
            "230/230 - 2s - loss: 0.0554 - accuracy: 0.9765\n",
            "Epoch 57/100\n",
            "230/230 - 2s - loss: 0.0471 - accuracy: 0.9800\n",
            "Epoch 58/100\n",
            "230/230 - 2s - loss: 0.0534 - accuracy: 0.9757\n",
            "Epoch 59/100\n",
            "230/230 - 2s - loss: 0.0491 - accuracy: 0.9796\n",
            "Epoch 60/100\n",
            "230/230 - 2s - loss: 0.0446 - accuracy: 0.9795\n",
            "Epoch 61/100\n",
            "230/230 - 2s - loss: 0.0519 - accuracy: 0.9774\n",
            "Epoch 62/100\n",
            "230/230 - 2s - loss: 0.0441 - accuracy: 0.9799\n",
            "Epoch 63/100\n",
            "230/230 - 2s - loss: 0.0373 - accuracy: 0.9837\n",
            "Epoch 64/100\n",
            "230/230 - 2s - loss: 0.0423 - accuracy: 0.9819\n",
            "Epoch 65/100\n",
            "230/230 - 2s - loss: 0.0520 - accuracy: 0.9784\n",
            "Epoch 66/100\n",
            "230/230 - 2s - loss: 0.0370 - accuracy: 0.9835\n",
            "Epoch 67/100\n",
            "230/230 - 2s - loss: 0.0411 - accuracy: 0.9819\n",
            "Epoch 68/100\n",
            "230/230 - 3s - loss: 0.0365 - accuracy: 0.9837\n",
            "Epoch 69/100\n",
            "230/230 - 2s - loss: 0.0359 - accuracy: 0.9860\n",
            "Epoch 70/100\n",
            "230/230 - 2s - loss: 0.0313 - accuracy: 0.9872\n",
            "Epoch 71/100\n",
            "230/230 - 2s - loss: 0.0406 - accuracy: 0.9831\n",
            "Epoch 72/100\n",
            "230/230 - 2s - loss: 0.0426 - accuracy: 0.9810\n",
            "Epoch 73/100\n",
            "230/230 - 3s - loss: 0.0303 - accuracy: 0.9869\n",
            "Epoch 74/100\n",
            "230/230 - 2s - loss: 0.0381 - accuracy: 0.9838\n",
            "Epoch 75/100\n",
            "230/230 - 2s - loss: 0.0247 - accuracy: 0.9912\n",
            "Epoch 76/100\n",
            "230/230 - 2s - loss: 0.0514 - accuracy: 0.9842\n",
            "Epoch 77/100\n",
            "230/230 - 2s - loss: 0.0312 - accuracy: 0.9884\n",
            "Epoch 78/100\n",
            "230/230 - 2s - loss: 0.0341 - accuracy: 0.9871\n",
            "Epoch 79/100\n",
            "230/230 - 2s - loss: 0.0250 - accuracy: 0.9895\n",
            "Epoch 80/100\n",
            "230/230 - 2s - loss: 0.0220 - accuracy: 0.9906\n",
            "Epoch 81/100\n",
            "230/230 - 2s - loss: 0.0229 - accuracy: 0.9912\n",
            "Epoch 82/100\n",
            "230/230 - 2s - loss: 0.0350 - accuracy: 0.9874\n",
            "Epoch 83/100\n",
            "230/230 - 2s - loss: 0.0260 - accuracy: 0.9897\n",
            "Epoch 84/100\n",
            "230/230 - 3s - loss: 0.0386 - accuracy: 0.9857\n",
            "Epoch 85/100\n",
            "230/230 - 2s - loss: 0.0232 - accuracy: 0.9913\n",
            "Epoch 86/100\n",
            "230/230 - 2s - loss: 0.0191 - accuracy: 0.9922\n",
            "Epoch 87/100\n",
            "230/230 - 2s - loss: 0.0189 - accuracy: 0.9920\n",
            "Epoch 88/100\n",
            "230/230 - 3s - loss: 0.0203 - accuracy: 0.9922\n",
            "Epoch 89/100\n",
            "230/230 - 3s - loss: 0.0190 - accuracy: 0.9937\n",
            "Epoch 90/100\n",
            "230/230 - 3s - loss: 0.0144 - accuracy: 0.9943\n",
            "Epoch 91/100\n",
            "230/230 - 3s - loss: 0.0182 - accuracy: 0.9942\n",
            "Epoch 92/100\n",
            "230/230 - 3s - loss: 0.0231 - accuracy: 0.9914\n",
            "Epoch 93/100\n",
            "230/230 - 2s - loss: 0.0145 - accuracy: 0.9950\n",
            "Epoch 94/100\n",
            "230/230 - 2s - loss: 0.0067 - accuracy: 0.9982\n",
            "Epoch 95/100\n",
            "230/230 - 2s - loss: 0.0149 - accuracy: 0.9950\n",
            "Epoch 96/100\n",
            "230/230 - 3s - loss: 0.0202 - accuracy: 0.9933\n",
            "Epoch 97/100\n",
            "230/230 - 2s - loss: 0.0132 - accuracy: 0.9961\n",
            "Epoch 98/100\n",
            "230/230 - 2s - loss: 0.0179 - accuracy: 0.9931\n",
            "Epoch 99/100\n",
            "230/230 - 2s - loss: 0.0147 - accuracy: 0.9947\n",
            "Epoch 100/100\n",
            "230/230 - 3s - loss: 0.0194 - accuracy: 0.9927\n"
          ],
          "name": "stdout"
        }
      ]
    },
    {
      "cell_type": "code",
      "metadata": {
        "colab_type": "code",
        "outputId": "8e8488b8-f575-4d73-ad27-0ed2920bb3df",
        "id": "bMZL3_m5lkjm",
        "colab": {
          "base_uri": "https://localhost:8080/",
          "height": 282
        }
      },
      "source": [
        "plt.plot(history.history['loss'])"
      ],
      "execution_count": 0,
      "outputs": [
        {
          "output_type": "execute_result",
          "data": {
            "text/plain": [
              "[<matplotlib.lines.Line2D at 0x7f53415e8518>]"
            ]
          },
          "metadata": {
            "tags": []
          },
          "execution_count": 20
        },
        {
          "output_type": "display_data",
          "data": {
            "image/png": "[encoded data removed]",
            "text/plain": [
              "<Figure size 432x288 with 1 Axes>"
            ]
          },
          "metadata": {
            "tags": []
          }
        }
      ]
    },
    {
      "cell_type": "code",
      "metadata": {
        "colab_type": "code",
        "outputId": "c04bc16f-8c84-41d4-c2c0-cd05d6b63f81",
        "id": "pbihSUpPlkjq",
        "colab": {
          "base_uri": "https://localhost:8080/",
          "height": 50
        }
      },
      "source": [
        "gru_acc_train=model.evaluate(X_train, Y_train, batch_size=batch_size, verbose=0)[1]\n",
        "gru_acc_test=model.evaluate(X_test, Y_test, batch_size=batch_size, verbose=0)[1]\n",
        "print(\"Training set: \",gru_acc_train*100,\"%\")\n",
        "print(\"Test set: \",gru_acc_test*100,\"%\")"
      ],
      "execution_count": 0,
      "outputs": [
        {
          "output_type": "stream",
          "text": [
            "Training set:  99.7823715209961 %\n",
            "Test set:  94.09568905830383 %\n"
          ],
          "name": "stdout"
        }
      ]
    },
    {
      "cell_type": "code",
      "metadata": {
        "colab_type": "code",
        "outputId": "b4c6a99e-9611-4762-ee19-363fcd03eff2",
        "id": "Hq5MxJtKlkjs",
        "colab": {
          "base_uri": "https://localhost:8080/",
          "height": 282
        }
      },
      "source": [
        "Y_pred=model.predict(X_test)\n",
        "cm=confusion_matrix(np.argmax(Y_test,axis=1),np.argmax(Y_pred,axis=1))\n",
        "sns.heatmap(cm/cm.sum(axis=0),cmap='coolwarm',annot=cm,fmt='g',linewidths=1, linecolor='black')"
      ],
      "execution_count": 0,
      "outputs": [
        {
          "output_type": "execute_result",
          "data": {
            "text/plain": [
              "<matplotlib.axes._subplots.AxesSubplot at 0x7f5340659278>"
            ]
          },
          "metadata": {
            "tags": []
          },
          "execution_count": 23
        },
        {
          "output_type": "display_data",
          "data": {
            "image/png": "[encoded data removed]",
            "text/plain": [
              "<Figure size 432x288 with 2 Axes>"
            ]
          },
          "metadata": {
            "tags": []
          }
        }
      ]
    },
    {
      "cell_type": "code",
      "metadata": {
        "colab_type": "code",
        "id": "LzLOHF8Flkjv",
        "colab": {}
      },
      "source": [
        "model.save('gru.h5')"
      ],
      "execution_count": 0,
      "outputs": []
    },
    {
      "cell_type": "markdown",
      "metadata": {
        "colab_type": "text",
        "id": "I4GZ4ds1aTNn"
      },
      "source": [
        "## Model 2: LSTM"
      ]
    },
    {
      "cell_type": "code",
      "metadata": {
        "colab_type": "code",
        "id": "5nq8b1GGaTNt",
        "colab": {}
      },
      "source": [
        "verbose, epochs, batch_size = 2, 10, 32"
      ],
      "execution_count": 0,
      "outputs": []
    },
    {
      "cell_type": "code",
      "metadata": {
        "colab_type": "code",
        "id": "fBkfRz4QaTN_",
        "colab": {}
      },
      "source": [
        "n_timesteps, n_features, n_outputs = X_train.shape[1], X_train.shape[2], Y_train.shape[1]"
      ],
      "execution_count": 0,
      "outputs": []
    },
    {
      "cell_type": "code",
      "metadata": {
        "colab_type": "code",
        "outputId": "c544e224-43f2-48b0-a537-de2743884416",
        "id": "fMT16EqNaTOM",
        "colab": {
          "base_uri": "https://localhost:8080/",
          "height": 34
        }
      },
      "source": [
        "print(n_timesteps, n_features, n_outputs)"
      ],
      "execution_count": 0,
      "outputs": [
        {
          "output_type": "stream",
          "text": [
            "128 9 6\n"
          ],
          "name": "stdout"
        }
      ]
    },
    {
      "cell_type": "code",
      "metadata": {
        "colab_type": "code",
        "id": "lv6aXCGnaTOb",
        "colab": {}
      },
      "source": [
        "model = Sequential()\n",
        "model.add(LSTM(100,return_sequences=True,input_shape=(n_timesteps,n_features)))\n",
        "model.add(LSTM(64))\n",
        "model.add(Dropout(0.15))\n",
        "model.add(Dense(64, activation='tanh'))\n",
        "model.add(Dense(n_outputs, activation='softmax'))"
      ],
      "execution_count": 0,
      "outputs": []
    },
    {
      "cell_type": "code",
      "metadata": {
        "id": "_jB0tFzwf8cx",
        "colab_type": "code",
        "colab": {}
      },
      "source": [
        "model.compile(loss='categorical_crossentropy', optimizer='adam', metrics=['accuracy'])"
      ],
      "execution_count": 0,
      "outputs": []
    },
    {
      "cell_type": "code",
      "metadata": {
        "colab_type": "code",
        "outputId": "413795dc-176b-4198-ae46-6a030f4cc6c3",
        "id": "pl78DHQfaTOo",
        "colab": {
          "base_uri": "https://localhost:8080/",
          "height": 319
        }
      },
      "source": [
        "model.summary()"
      ],
      "execution_count": 0,
      "outputs": [
        {
          "output_type": "stream",
          "text": [
            "Model: \"sequential_3\"\n",
            "_________________________________________________________________\n",
            "Layer (type)                 Output Shape              Param #   \n",
            "=================================================================\n",
            "lstm (LSTM)                  (None, 128, 100)          44000     \n",
            "_________________________________________________________________\n",
            "lstm_1 (LSTM)                (None, 64)                42240     \n",
            "_________________________________________________________________\n",
            "dropout_3 (Dropout)          (None, 64)                0         \n",
            "_________________________________________________________________\n",
            "dense_6 (Dense)              (None, 64)                4160      \n",
            "_________________________________________________________________\n",
            "dense_7 (Dense)              (None, 6)                 390       \n",
            "=================================================================\n",
            "Total params: 90,790\n",
            "Trainable params: 90,790\n",
            "Non-trainable params: 0\n",
            "_________________________________________________________________\n"
          ],
          "name": "stdout"
        }
      ]
    },
    {
      "cell_type": "code",
      "metadata": {
        "colab_type": "code",
        "id": "UkEKti8EaTO1",
        "colab": {}
      },
      "source": [
        "lstm_params=model.count_params()"
      ],
      "execution_count": 0,
      "outputs": []
    },
    {
      "cell_type": "code",
      "metadata": {
        "colab_type": "code",
        "outputId": "2aa9f5c4-aba4-450e-fe65-5579f3b4a6d9",
        "id": "CXEsv75BaTPL",
        "colab": {
          "base_uri": "https://localhost:8080/",
          "height": 1000
        }
      },
      "source": [
        "history=model.fit(X_train, Y_train, epochs=100, batch_size=batch_size, verbose=verbose)"
      ],
      "execution_count": 0,
      "outputs": [
        {
          "output_type": "stream",
          "text": [
            "Epoch 1/100\n",
            "230/230 - 3s - loss: 0.9328 - accuracy: 0.5947\n",
            "Epoch 2/100\n",
            "230/230 - 3s - loss: 0.6753 - accuracy: 0.7087\n",
            "Epoch 3/100\n",
            "230/230 - 3s - loss: 0.5381 - accuracy: 0.7704\n",
            "Epoch 4/100\n",
            "230/230 - 3s - loss: 0.3660 - accuracy: 0.8757\n",
            "Epoch 5/100\n",
            "230/230 - 3s - loss: 0.2658 - accuracy: 0.9082\n",
            "Epoch 6/100\n",
            "230/230 - 3s - loss: 0.1866 - accuracy: 0.9332\n",
            "Epoch 7/100\n",
            "230/230 - 3s - loss: 0.1761 - accuracy: 0.9343\n",
            "Epoch 8/100\n",
            "230/230 - 3s - loss: 0.1427 - accuracy: 0.9464\n",
            "Epoch 9/100\n",
            "230/230 - 3s - loss: 0.1954 - accuracy: 0.9293\n",
            "Epoch 10/100\n",
            "230/230 - 3s - loss: 0.2580 - accuracy: 0.9150\n",
            "Epoch 11/100\n",
            "230/230 - 3s - loss: 0.1546 - accuracy: 0.9464\n",
            "Epoch 12/100\n",
            "230/230 - 3s - loss: 0.1305 - accuracy: 0.9493\n",
            "Epoch 13/100\n",
            "230/230 - 3s - loss: 0.1266 - accuracy: 0.9468\n",
            "Epoch 14/100\n",
            "230/230 - 3s - loss: 0.1275 - accuracy: 0.9461\n",
            "Epoch 15/100\n",
            "230/230 - 3s - loss: 0.1189 - accuracy: 0.9498\n",
            "Epoch 16/100\n",
            "230/230 - 3s - loss: 0.1156 - accuracy: 0.9520\n",
            "Epoch 17/100\n",
            "230/230 - 3s - loss: 0.1230 - accuracy: 0.9499\n",
            "Epoch 18/100\n",
            "230/230 - 3s - loss: 0.1274 - accuracy: 0.9501\n",
            "Epoch 19/100\n",
            "230/230 - 3s - loss: 0.1092 - accuracy: 0.9546\n",
            "Epoch 20/100\n",
            "230/230 - 3s - loss: 0.1093 - accuracy: 0.9516\n",
            "Epoch 21/100\n",
            "230/230 - 3s - loss: 0.1058 - accuracy: 0.9540\n",
            "Epoch 22/100\n",
            "230/230 - 3s - loss: 0.1450 - accuracy: 0.9436\n",
            "Epoch 23/100\n",
            "230/230 - 3s - loss: 0.1189 - accuracy: 0.9531\n",
            "Epoch 24/100\n",
            "230/230 - 3s - loss: 0.1162 - accuracy: 0.9509\n",
            "Epoch 25/100\n",
            "230/230 - 3s - loss: 0.1257 - accuracy: 0.9543\n",
            "Epoch 26/100\n",
            "230/230 - 3s - loss: 0.1398 - accuracy: 0.9479\n",
            "Epoch 27/100\n",
            "230/230 - 3s - loss: 0.1142 - accuracy: 0.9539\n",
            "Epoch 28/100\n",
            "230/230 - 3s - loss: 0.1229 - accuracy: 0.9502\n",
            "Epoch 29/100\n",
            "230/230 - 3s - loss: 0.1149 - accuracy: 0.9524\n",
            "Epoch 30/100\n",
            "230/230 - 3s - loss: 0.1345 - accuracy: 0.9491\n",
            "Epoch 31/100\n",
            "230/230 - 3s - loss: 0.1126 - accuracy: 0.9539\n",
            "Epoch 32/100\n",
            "230/230 - 3s - loss: 0.1052 - accuracy: 0.9542\n",
            "Epoch 33/100\n",
            "230/230 - 3s - loss: 0.1303 - accuracy: 0.9460\n",
            "Epoch 34/100\n",
            "230/230 - 3s - loss: 0.1067 - accuracy: 0.9535\n",
            "Epoch 35/100\n",
            "230/230 - 3s - loss: 0.1019 - accuracy: 0.9563\n",
            "Epoch 36/100\n",
            "230/230 - 3s - loss: 0.1059 - accuracy: 0.9538\n",
            "Epoch 37/100\n",
            "230/230 - 3s - loss: 0.1152 - accuracy: 0.9551\n",
            "Epoch 38/100\n",
            "230/230 - 3s - loss: 0.1683 - accuracy: 0.9354\n",
            "Epoch 39/100\n",
            "230/230 - 3s - loss: 0.1202 - accuracy: 0.9499\n",
            "Epoch 40/100\n",
            "230/230 - 3s - loss: 0.1127 - accuracy: 0.9502\n",
            "Epoch 41/100\n",
            "230/230 - 3s - loss: 0.1062 - accuracy: 0.9532\n",
            "Epoch 42/100\n",
            "230/230 - 3s - loss: 0.1095 - accuracy: 0.9518\n",
            "Epoch 43/100\n",
            "230/230 - 3s - loss: 0.1127 - accuracy: 0.9523\n",
            "Epoch 44/100\n",
            "230/230 - 3s - loss: 0.1134 - accuracy: 0.9502\n",
            "Epoch 45/100\n",
            "230/230 - 3s - loss: 0.1074 - accuracy: 0.9538\n",
            "Epoch 46/100\n",
            "230/230 - 3s - loss: 0.1076 - accuracy: 0.9554\n",
            "Epoch 47/100\n",
            "230/230 - 3s - loss: 0.1016 - accuracy: 0.9581\n",
            "Epoch 48/100\n",
            "230/230 - 3s - loss: 0.0959 - accuracy: 0.9593\n",
            "Epoch 49/100\n",
            "230/230 - 3s - loss: 0.1028 - accuracy: 0.9574\n",
            "Epoch 50/100\n",
            "230/230 - 3s - loss: 0.1126 - accuracy: 0.9527\n",
            "Epoch 51/100\n",
            "230/230 - 3s - loss: 0.1778 - accuracy: 0.9381\n",
            "Epoch 52/100\n",
            "230/230 - 3s - loss: 0.1082 - accuracy: 0.9536\n",
            "Epoch 53/100\n",
            "230/230 - 3s - loss: 0.1279 - accuracy: 0.9475\n",
            "Epoch 54/100\n",
            "230/230 - 3s - loss: 0.1119 - accuracy: 0.9501\n",
            "Epoch 55/100\n",
            "230/230 - 3s - loss: 0.1247 - accuracy: 0.9476\n",
            "Epoch 56/100\n",
            "230/230 - 3s - loss: 0.1120 - accuracy: 0.9504\n",
            "Epoch 57/100\n",
            "230/230 - 3s - loss: 0.1064 - accuracy: 0.9504\n",
            "Epoch 58/100\n",
            "230/230 - 3s - loss: 0.1033 - accuracy: 0.9551\n",
            "Epoch 59/100\n",
            "230/230 - 3s - loss: 0.1141 - accuracy: 0.9504\n",
            "Epoch 60/100\n",
            "230/230 - 3s - loss: 0.1136 - accuracy: 0.9504\n",
            "Epoch 61/100\n",
            "230/230 - 3s - loss: 0.1187 - accuracy: 0.9465\n",
            "Epoch 62/100\n",
            "230/230 - 3s - loss: 0.1542 - accuracy: 0.9334\n",
            "Epoch 63/100\n",
            "230/230 - 3s - loss: 0.1473 - accuracy: 0.9358\n",
            "Epoch 64/100\n",
            "230/230 - 3s - loss: 0.1112 - accuracy: 0.9528\n",
            "Epoch 65/100\n",
            "230/230 - 3s - loss: 0.1140 - accuracy: 0.9525\n",
            "Epoch 66/100\n",
            "230/230 - 3s - loss: 0.1136 - accuracy: 0.9542\n",
            "Epoch 67/100\n",
            "230/230 - 3s - loss: 0.1050 - accuracy: 0.9567\n",
            "Epoch 68/100\n",
            "230/230 - 3s - loss: 0.1054 - accuracy: 0.9558\n",
            "Epoch 69/100\n",
            "230/230 - 3s - loss: 0.1055 - accuracy: 0.9553\n",
            "Epoch 70/100\n",
            "230/230 - 3s - loss: 0.1141 - accuracy: 0.9531\n",
            "Epoch 71/100\n",
            "230/230 - 3s - loss: 0.1119 - accuracy: 0.9544\n",
            "Epoch 72/100\n",
            "230/230 - 3s - loss: 0.1070 - accuracy: 0.9543\n",
            "Epoch 73/100\n",
            "230/230 - 3s - loss: 0.1209 - accuracy: 0.9465\n",
            "Epoch 74/100\n",
            "230/230 - 3s - loss: 0.1137 - accuracy: 0.9494\n",
            "Epoch 75/100\n",
            "230/230 - 3s - loss: 0.1117 - accuracy: 0.9494\n",
            "Epoch 76/100\n",
            "230/230 - 3s - loss: 0.1087 - accuracy: 0.9527\n",
            "Epoch 77/100\n",
            "230/230 - 3s - loss: 0.1098 - accuracy: 0.9524\n",
            "Epoch 78/100\n",
            "230/230 - 3s - loss: 0.1075 - accuracy: 0.9532\n",
            "Epoch 79/100\n",
            "230/230 - 3s - loss: 0.1081 - accuracy: 0.9509\n",
            "Epoch 80/100\n",
            "230/230 - 3s - loss: 0.1025 - accuracy: 0.9521\n",
            "Epoch 81/100\n",
            "230/230 - 3s - loss: 0.1311 - accuracy: 0.9497\n",
            "Epoch 82/100\n",
            "230/230 - 3s - loss: 0.1119 - accuracy: 0.9540\n",
            "Epoch 83/100\n",
            "230/230 - 3s - loss: 0.1439 - accuracy: 0.9448\n",
            "Epoch 84/100\n",
            "230/230 - 3s - loss: 0.1192 - accuracy: 0.9456\n",
            "Epoch 85/100\n",
            "230/230 - 3s - loss: 0.1146 - accuracy: 0.9495\n",
            "Epoch 86/100\n",
            "230/230 - 3s - loss: 0.1050 - accuracy: 0.9536\n",
            "Epoch 87/100\n",
            "230/230 - 3s - loss: 0.1045 - accuracy: 0.9524\n",
            "Epoch 88/100\n",
            "230/230 - 3s - loss: 0.1053 - accuracy: 0.9561\n",
            "Epoch 89/100\n",
            "230/230 - 3s - loss: 0.1112 - accuracy: 0.9542\n",
            "Epoch 90/100\n",
            "230/230 - 3s - loss: 0.1172 - accuracy: 0.9520\n",
            "Epoch 91/100\n",
            "230/230 - 3s - loss: 0.1080 - accuracy: 0.9535\n",
            "Epoch 92/100\n",
            "230/230 - 3s - loss: 0.1081 - accuracy: 0.9543\n",
            "Epoch 93/100\n",
            "230/230 - 3s - loss: 0.1048 - accuracy: 0.9561\n",
            "Epoch 94/100\n",
            "230/230 - 3s - loss: 0.1182 - accuracy: 0.9517\n",
            "Epoch 95/100\n",
            "230/230 - 3s - loss: 0.0995 - accuracy: 0.9578\n",
            "Epoch 96/100\n",
            "230/230 - 3s - loss: 0.1009 - accuracy: 0.9563\n",
            "Epoch 97/100\n",
            "230/230 - 3s - loss: 0.1024 - accuracy: 0.9548\n",
            "Epoch 98/100\n",
            "230/230 - 3s - loss: 0.1070 - accuracy: 0.9558\n",
            "Epoch 99/100\n",
            "230/230 - 3s - loss: 0.0966 - accuracy: 0.9597\n",
            "Epoch 100/100\n",
            "230/230 - 3s - loss: 0.1104 - accuracy: 0.9490\n"
          ],
          "name": "stdout"
        }
      ]
    },
    {
      "cell_type": "code",
      "metadata": {
        "colab_type": "code",
        "outputId": "be52fe7d-e450-4151-eab3-9ccf77779418",
        "id": "UaA_YjJIaTPR",
        "colab": {
          "base_uri": "https://localhost:8080/",
          "height": 282
        }
      },
      "source": [
        "plt.plot(history.history['loss'])"
      ],
      "execution_count": 0,
      "outputs": [
        {
          "output_type": "execute_result",
          "data": {
            "text/plain": [
              "[<matplotlib.lines.Line2D at 0x7f53268cfe80>]"
            ]
          },
          "metadata": {
            "tags": []
          },
          "execution_count": 42
        },
        {
          "output_type": "display_data",
          "data": {
            "image/png": "[encoded data removed]",
            "text/plain": [
              "<Figure size 432x288 with 1 Axes>"
            ]
          },
          "metadata": {
            "tags": []
          }
        }
      ]
    },
    {
      "cell_type": "code",
      "metadata": {
        "colab_type": "code",
        "outputId": "3d5274a0-4d1e-45b4-a42d-4979e0bae14b",
        "id": "GhN13YxNaTPX",
        "colab": {
          "base_uri": "https://localhost:8080/",
          "height": 50
        }
      },
      "source": [
        "lstm_acc_train=model.evaluate(X_train, Y_train, batch_size=batch_size, verbose=0)[1]\n",
        "lstm_acc_test=model.evaluate(X_test, Y_test, batch_size=batch_size, verbose=0)[1]\n",
        "\n",
        "print(\"Training set: \",lstm_acc_train*100,\"%\")\n",
        "print(\"Test set: \",lstm_acc_test*100,\"%\")"
      ],
      "execution_count": 0,
      "outputs": [
        {
          "output_type": "stream",
          "text": [
            "Training set:  94.88574266433716 %\n",
            "Test set:  90.7024085521698 %\n"
          ],
          "name": "stdout"
        }
      ]
    },
    {
      "cell_type": "code",
      "metadata": {
        "id": "pELznTyiQJhN",
        "colab_type": "code",
        "outputId": "e9371134-c63d-49a6-ef6f-92c08bd4ded5",
        "colab": {
          "base_uri": "https://localhost:8080/",
          "height": 282
        }
      },
      "source": [
        "Y_pred=model.predict(X_test)\n",
        "cm=confusion_matrix(np.argmax(Y_test,axis=1),np.argmax(Y_pred,axis=1))\n",
        "sns.heatmap(cm/cm.sum(axis=0),cmap='coolwarm',annot=cm,fmt='g',linewidths=1, linecolor='black')"
      ],
      "execution_count": 0,
      "outputs": [
        {
          "output_type": "execute_result",
          "data": {
            "text/plain": [
              "<matplotlib.axes._subplots.AxesSubplot at 0x7f535a2638d0>"
            ]
          },
          "metadata": {
            "tags": []
          },
          "execution_count": 49
        },
        {
          "output_type": "display_data",
          "data": {
            "image/png": "[encoded data removed]",
            "text/plain": [
              "<Figure size 432x288 with 2 Axes>"
            ]
          },
          "metadata": {
            "tags": []
          }
        }
      ]
    },
    {
      "cell_type": "code",
      "metadata": {
        "id": "Q1w0jcTveEUe",
        "colab_type": "code",
        "colab": {}
      },
      "source": [
        "model.save('lstm.h5')"
      ],
      "execution_count": 0,
      "outputs": []
    }
  ]
}