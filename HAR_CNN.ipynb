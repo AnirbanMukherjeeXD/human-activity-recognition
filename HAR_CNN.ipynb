{
  "nbformat": 4,
  "nbformat_minor": 0,
  "metadata": {
    "colab": {
      "name": "HAR-CNN.ipynb",
      "provenance": [],
      "collapsed_sections": [
        "ilbC8B92aQg8"
      ],
      "toc_visible": true,
      "authorship_tag": "ABX9TyP+ptiPkcsGJ6lHaSy5QIZf",
      "include_colab_link": true
    },
    "kernelspec": {
      "name": "python3",
      "display_name": "Python 3"
    },
    "accelerator": "GPU"
  },
  "cells": [
    {
      "cell_type": "markdown",
      "metadata": {
        "id": "view-in-github",
        "colab_type": "text"
      },
      "source": [
        "<a href=\"https://colab.research.google.com/github/AnirbanMukherjeeXD/human-activity-recognition/blob/master/HAR_CNN.ipynb\" target=\"_parent\"><img src=\"https://colab.research.google.com/assets/colab-badge.svg\" alt=\"Open In Colab\"/></a>"
      ]
    },
    {
      "cell_type": "markdown",
      "metadata": {
        "id": "D4-mpkKsIn0X",
        "colab_type": "text"
      },
      "source": [
        "## Kaggle API dataset"
      ]
    },
    {
      "cell_type": "code",
      "metadata": {
        "id": "eYTJjaIJIjLb",
        "colab_type": "code",
        "colab": {}
      },
      "source": [
        "!mkdir -p ~/.kaggle\n",
        "!cp kaggle.json ~/.kaggle/\n",
        "\n",
        "# This permissions change avoids a warning on Kaggle tool startup.\n",
        "!chmod 600 ~/.kaggle/kaggle.json"
      ],
      "execution_count": 0,
      "outputs": []
    },
    {
      "cell_type": "code",
      "metadata": {
        "id": "tP8KjoGonqX9",
        "colab_type": "code",
        "outputId": "7ed161af-360f-433e-f4a0-dd3d4636452e",
        "colab": {
          "base_uri": "https://localhost:8080/",
          "height": 67
        }
      },
      "source": [
        "!kaggle datasets download -d erenaktas/human-activity-recognition --unzip"
      ],
      "execution_count": 0,
      "outputs": [
        {
          "output_type": "stream",
          "text": [
            "Downloading human-activity-recognition.zip to /content\n",
            " 90% 107M/119M [00:02<00:00, 42.8MB/s] \n",
            "100% 119M/119M [00:02<00:00, 57.7MB/s]\n"
          ],
          "name": "stdout"
        }
      ]
    },
    {
      "cell_type": "markdown",
      "metadata": {
        "id": "GSTXeARzIYVe",
        "colab_type": "text"
      },
      "source": [
        "## Importing libraries"
      ]
    },
    {
      "cell_type": "code",
      "metadata": {
        "id": "R07UoIccniHd",
        "colab_type": "code",
        "colab": {}
      },
      "source": [
        "%tensorflow_version 2.x"
      ],
      "execution_count": 0,
      "outputs": []
    },
    {
      "cell_type": "code",
      "metadata": {
        "id": "C6nhq_FUnv32",
        "colab_type": "code",
        "colab": {}
      },
      "source": [
        "import numpy as np \n",
        "import pandas as pd \n",
        "import os\n",
        "import seaborn as sns\n",
        "import matplotlib.pyplot as plt\n",
        "from numpy import mean\n",
        "from numpy import std\n",
        "from numpy import dstack\n",
        "from sklearn.metrics import confusion_matrix"
      ],
      "execution_count": 0,
      "outputs": []
    },
    {
      "cell_type": "code",
      "metadata": {
        "id": "ufTUV1vPg5Kf",
        "colab_type": "code",
        "colab": {}
      },
      "source": [
        "import tensorflow as tf\n",
        "from tensorflow.keras.models import Sequential\n",
        "from tensorflow.keras.layers import Dense, Flatten, Dropout,Conv1D, SeparableConv1D, MaxPooling1D\n",
        "from tensorflow import feature_column\n",
        "from tensorflow.keras.utils import to_categorical\n",
        "from tensorflow.keras.models import load_model"
      ],
      "execution_count": 0,
      "outputs": []
    },
    {
      "cell_type": "markdown",
      "metadata": {
        "id": "z8bm8SK5XeN6",
        "colab_type": "text"
      },
      "source": [
        "## Dataset Loading"
      ]
    },
    {
      "cell_type": "code",
      "metadata": {
        "id": "DmVk-2Pr99Q-",
        "colab_type": "code",
        "colab": {}
      },
      "source": [
        "# load a single file as a numpy array\n",
        "def load_file(filepath):\n",
        "\tdataframe = pd.read_csv(filepath, header=None, delim_whitespace=True)\n",
        "\tprint(\"Loading: \",filepath)\n",
        "\treturn dataframe.values"
      ],
      "execution_count": 0,
      "outputs": []
    },
    {
      "cell_type": "code",
      "metadata": {
        "id": "mtTrapUq-AXl",
        "colab_type": "code",
        "colab": {}
      },
      "source": [
        "# load a list of files into a 3D array of [samples, timesteps, features]\n",
        "def load_group(filenames, prefix=''):\n",
        "\tloaded = list()\n",
        "\tfor name in filenames:\n",
        "\t\tdata = load_file(prefix + name)\n",
        "\t\tloaded.append(data)\n",
        "\t# stack group so that features are the 3rd dimension\n",
        "\tloaded = dstack(loaded)\n",
        "\treturn loaded"
      ],
      "execution_count": 0,
      "outputs": []
    },
    {
      "cell_type": "code",
      "metadata": {
        "id": "fAST9AtN-GvD",
        "colab_type": "code",
        "colab": {}
      },
      "source": [
        "# load a dataset group, such as train or test\n",
        "def load_dataset_group(group, prefix=''):\n",
        "\tfilepath = prefix + group + '/Inertial Signals/'\n",
        "\t# load all 9 files as a single array\n",
        "\tfilenames = list()\n",
        "\t# total acceleration\n",
        "\tfilenames += ['total_acc_x_'+group+'.txt', 'total_acc_y_'+group+'.txt', 'total_acc_z_'+group+'.txt']\n",
        "\t# body acceleration\n",
        "\tfilenames += ['body_acc_x_'+group+'.txt', 'body_acc_y_'+group+'.txt', 'body_acc_z_'+group+'.txt']\n",
        "\t# body gyroscope\n",
        "\tfilenames += ['body_gyro_x_'+group+'.txt', 'body_gyro_y_'+group+'.txt', 'body_gyro_z_'+group+'.txt']\n",
        "\t# load input data\n",
        "\tX = load_group(filenames, filepath)\n",
        "\t# load class output\n",
        "\ty = load_file(prefix + group + '/y_'+group+'.txt')\n",
        "\treturn X, y"
      ],
      "execution_count": 0,
      "outputs": []
    },
    {
      "cell_type": "code",
      "metadata": {
        "id": "uaGAdutd-N2e",
        "colab_type": "code",
        "colab": {}
      },
      "source": [
        "# load the dataset, returns train and test X and y elements\n",
        "def load_dataset(prefix=''):\n",
        "\t# load all train\n",
        "\ttrainX, trainy = load_dataset_group('train', prefix + 'UCI_HAR_Dataset/')\n",
        "\tprint(trainX.shape, trainy.shape)\n",
        "\t# load all test\n",
        "\ttestX, testy = load_dataset_group('test', prefix + 'UCI_HAR_Dataset/')\n",
        "\tprint(testX.shape, testy.shape)\n",
        "\t# zero-offset class values\n",
        "\ttrainy = trainy - 1\n",
        "\ttesty = testy - 1\n",
        "\t# one hot encode y\n",
        "\ttrainy = to_categorical(trainy)\n",
        "\ttesty = to_categorical(testy)\n",
        "\tprint(trainX.shape, trainy.shape, testX.shape, testy.shape)\n",
        "\treturn trainX, trainy, testX, testy"
      ],
      "execution_count": 0,
      "outputs": []
    },
    {
      "cell_type": "code",
      "metadata": {
        "id": "5PKaceXVXyIP",
        "colab_type": "code",
        "outputId": "8b78da71-180d-4411-fe70-ad56bb6039c1",
        "colab": {
          "base_uri": "https://localhost:8080/",
          "height": 403
        }
      },
      "source": [
        "X_train, Y_train, X_test, Y_test = load_dataset()"
      ],
      "execution_count": 0,
      "outputs": [
        {
          "output_type": "stream",
          "text": [
            "Loading:  UCI_HAR_Dataset/train/Inertial Signals/total_acc_x_train.txt\n",
            "Loading:  UCI_HAR_Dataset/train/Inertial Signals/total_acc_y_train.txt\n",
            "Loading:  UCI_HAR_Dataset/train/Inertial Signals/total_acc_z_train.txt\n",
            "Loading:  UCI_HAR_Dataset/train/Inertial Signals/body_acc_x_train.txt\n",
            "Loading:  UCI_HAR_Dataset/train/Inertial Signals/body_acc_y_train.txt\n",
            "Loading:  UCI_HAR_Dataset/train/Inertial Signals/body_acc_z_train.txt\n",
            "Loading:  UCI_HAR_Dataset/train/Inertial Signals/body_gyro_x_train.txt\n",
            "Loading:  UCI_HAR_Dataset/train/Inertial Signals/body_gyro_y_train.txt\n",
            "Loading:  UCI_HAR_Dataset/train/Inertial Signals/body_gyro_z_train.txt\n",
            "Loading:  UCI_HAR_Dataset/train/y_train.txt\n",
            "(7352, 128, 9) (7352, 1)\n",
            "Loading:  UCI_HAR_Dataset/test/Inertial Signals/total_acc_x_test.txt\n",
            "Loading:  UCI_HAR_Dataset/test/Inertial Signals/total_acc_y_test.txt\n",
            "Loading:  UCI_HAR_Dataset/test/Inertial Signals/total_acc_z_test.txt\n",
            "Loading:  UCI_HAR_Dataset/test/Inertial Signals/body_acc_x_test.txt\n",
            "Loading:  UCI_HAR_Dataset/test/Inertial Signals/body_acc_y_test.txt\n",
            "Loading:  UCI_HAR_Dataset/test/Inertial Signals/body_acc_z_test.txt\n",
            "Loading:  UCI_HAR_Dataset/test/Inertial Signals/body_gyro_x_test.txt\n",
            "Loading:  UCI_HAR_Dataset/test/Inertial Signals/body_gyro_y_test.txt\n",
            "Loading:  UCI_HAR_Dataset/test/Inertial Signals/body_gyro_z_test.txt\n",
            "Loading:  UCI_HAR_Dataset/test/y_test.txt\n",
            "(2947, 128, 9) (2947, 1)\n",
            "(7352, 128, 9) (7352, 6) (2947, 128, 9) (2947, 6)\n"
          ],
          "name": "stdout"
        }
      ]
    },
    {
      "cell_type": "code",
      "metadata": {
        "id": "W5h7yQAku7dC",
        "colab_type": "code",
        "outputId": "8e9331bb-5534-4b08-bc17-c891c13bd280",
        "colab": {
          "base_uri": "https://localhost:8080/",
          "height": 34
        }
      },
      "source": [
        "X_train.shape"
      ],
      "execution_count": 0,
      "outputs": [
        {
          "output_type": "execute_result",
          "data": {
            "text/plain": [
              "(7352, 128, 9)"
            ]
          },
          "metadata": {
            "tags": []
          },
          "execution_count": 23
        }
      ]
    },
    {
      "cell_type": "code",
      "metadata": {
        "id": "wE4xXdudwcuC",
        "colab_type": "code",
        "outputId": "31eca72c-28e5-44cb-9b1c-6588f55dcd59",
        "colab": {
          "base_uri": "https://localhost:8080/",
          "height": 34
        }
      },
      "source": [
        "Y_train.shape"
      ],
      "execution_count": 0,
      "outputs": [
        {
          "output_type": "execute_result",
          "data": {
            "text/plain": [
              "(7352, 6)"
            ]
          },
          "metadata": {
            "tags": []
          },
          "execution_count": 26
        }
      ]
    },
    {
      "cell_type": "code",
      "metadata": {
        "id": "Dz-f365Kwn2e",
        "colab_type": "code",
        "outputId": "d8cd0564-c7cd-4222-db33-53a5bb3dd4ee",
        "colab": {
          "base_uri": "https://localhost:8080/",
          "height": 34
        }
      },
      "source": [
        "X_train[0,:,0].shape"
      ],
      "execution_count": 0,
      "outputs": [
        {
          "output_type": "execute_result",
          "data": {
            "text/plain": [
              "(128,)"
            ]
          },
          "metadata": {
            "tags": []
          },
          "execution_count": 40
        }
      ]
    },
    {
      "cell_type": "code",
      "metadata": {
        "id": "NJq0ve5qwYu5",
        "colab_type": "code",
        "outputId": "5c8b1014-cffe-467d-c63e-3a20c42aa07c",
        "colab": {
          "base_uri": "https://localhost:8080/",
          "height": 282
        }
      },
      "source": [
        "plt.plot(X_train[0,:,0])"
      ],
      "execution_count": 0,
      "outputs": [
        {
          "output_type": "execute_result",
          "data": {
            "text/plain": [
              "[<matplotlib.lines.Line2D at 0x7fe56b20b748>]"
            ]
          },
          "metadata": {
            "tags": []
          },
          "execution_count": 45
        },
        {
          "output_type": "display_data",
          "data": {
            "image/png": "[encoded data removed]",
            "text/plain": [
              "<Figure size 432x288 with 1 Axes>"
            ]
          },
          "metadata": {
            "tags": []
          }
        }
      ]
    },
    {
      "cell_type": "markdown",
      "metadata": {
        "id": "65YpwSVEXiap",
        "colab_type": "text"
      },
      "source": [
        "## Model 1: Simple CNN"
      ]
    },
    {
      "cell_type": "code",
      "metadata": {
        "id": "uzyr0T4pVtNy",
        "colab_type": "code",
        "colab": {}
      },
      "source": [
        "model=load_model('regular-cnn.h5')"
      ],
      "execution_count": 0,
      "outputs": []
    },
    {
      "cell_type": "code",
      "metadata": {
        "id": "ZA8USzsKXosA",
        "colab_type": "code",
        "colab": {}
      },
      "source": [
        "verbose, epochs, batch_size = 2, 10, 32"
      ],
      "execution_count": 0,
      "outputs": []
    },
    {
      "cell_type": "code",
      "metadata": {
        "id": "-wRMtvc6Xrvl",
        "colab_type": "code",
        "colab": {}
      },
      "source": [
        "n_timesteps, n_features, n_outputs = X_train.shape[1], X_train.shape[2], Y_train.shape[1]"
      ],
      "execution_count": 0,
      "outputs": []
    },
    {
      "cell_type": "code",
      "metadata": {
        "id": "Chp23_ZbZZIe",
        "colab_type": "code",
        "outputId": "5f6ae318-aeb2-4897-c683-2ffc7bb0988e",
        "colab": {
          "base_uri": "https://localhost:8080/",
          "height": 34
        }
      },
      "source": [
        "print(n_timesteps, n_features, n_outputs)"
      ],
      "execution_count": 0,
      "outputs": [
        {
          "output_type": "stream",
          "text": [
            "128 9 6\n"
          ],
          "name": "stdout"
        }
      ]
    },
    {
      "cell_type": "code",
      "metadata": {
        "id": "9kSYmMfa-Q5u",
        "colab_type": "code",
        "colab": {}
      },
      "source": [
        "model = Sequential()\n",
        "model.add(Conv1D(filters=64, kernel_size=11, activation='relu', input_shape=(n_timesteps,n_features)))\n",
        "model.add(Dropout(0.5))\n",
        "model.add(Conv1D(filters=64, kernel_size=11, activation='relu'))\n",
        "model.add(Dropout(0.5))\n",
        "model.add(Conv1D(filters=64, kernel_size=9, activation='relu'))\n",
        "model.add(Dropout(0.5))\n",
        "model.add(MaxPooling1D(pool_size=2))\n",
        "model.add(Flatten())\n",
        "model.add(Dense(32, activation='relu'))\n",
        "model.add(Dense(n_outputs, activation='softmax'))"
      ],
      "execution_count": 0,
      "outputs": []
    },
    {
      "cell_type": "code",
      "metadata": {
        "id": "LHN1uCwdgEtg",
        "colab_type": "code",
        "colab": {}
      },
      "source": [
        "model.compile(loss='categorical_crossentropy', optimizer='adam', metrics=['accuracy'])"
      ],
      "execution_count": 0,
      "outputs": []
    },
    {
      "cell_type": "code",
      "metadata": {
        "id": "t2mtTCyrX-iU",
        "colab_type": "code",
        "outputId": "f3eee7df-89c9-4bc9-94ca-561b229302d3",
        "colab": {
          "base_uri": "https://localhost:8080/",
          "height": 487
        }
      },
      "source": [
        "model.summary()"
      ],
      "execution_count": 0,
      "outputs": [
        {
          "output_type": "stream",
          "text": [
            "Model: \"sequential_3\"\n",
            "_________________________________________________________________\n",
            "Layer (type)                 Output Shape              Param #   \n",
            "=================================================================\n",
            "conv1d_3 (Conv1D)            (None, 118, 64)           6400      \n",
            "_________________________________________________________________\n",
            "dropout_9 (Dropout)          (None, 118, 64)           0         \n",
            "_________________________________________________________________\n",
            "conv1d_4 (Conv1D)            (None, 108, 64)           45120     \n",
            "_________________________________________________________________\n",
            "dropout_10 (Dropout)         (None, 108, 64)           0         \n",
            "_________________________________________________________________\n",
            "conv1d_5 (Conv1D)            (None, 100, 64)           36928     \n",
            "_________________________________________________________________\n",
            "dropout_11 (Dropout)         (None, 100, 64)           0         \n",
            "_________________________________________________________________\n",
            "max_pooling1d_3 (MaxPooling1 (None, 50, 64)            0         \n",
            "_________________________________________________________________\n",
            "flatten_3 (Flatten)          (None, 3200)              0         \n",
            "_________________________________________________________________\n",
            "dense_6 (Dense)              (None, 32)                102432    \n",
            "_________________________________________________________________\n",
            "dense_7 (Dense)              (None, 6)                 198       \n",
            "=================================================================\n",
            "Total params: 191,078\n",
            "Trainable params: 191,078\n",
            "Non-trainable params: 0\n",
            "_________________________________________________________________\n"
          ],
          "name": "stdout"
        }
      ]
    },
    {
      "cell_type": "code",
      "metadata": {
        "id": "ZcL_xoM9Ycyk",
        "colab_type": "code",
        "colab": {}
      },
      "source": [
        "regular_cnn_params=model.count_params()"
      ],
      "execution_count": 0,
      "outputs": []
    },
    {
      "cell_type": "code",
      "metadata": {
        "id": "21r1uSS9ZBuq",
        "colab_type": "code",
        "outputId": "5e17ad68-5e6c-47ed-db55-36194426d5ed",
        "colab": {
          "base_uri": "https://localhost:8080/",
          "height": 1000
        }
      },
      "source": [
        "history=model.fit(X_train, Y_train, epochs=100, batch_size=batch_size, verbose=verbose)"
      ],
      "execution_count": 0,
      "outputs": [
        {
          "output_type": "stream",
          "text": [
            "Train on 7352 samples\n",
            "Epoch 1/100\n",
            "7352/7352 - 2s - loss: 0.4441 - accuracy: 0.8244\n",
            "Epoch 2/100\n",
            "7352/7352 - 1s - loss: 0.1402 - accuracy: 0.9422\n",
            "Epoch 3/100\n",
            "7352/7352 - 1s - loss: 0.1404 - accuracy: 0.9482\n",
            "Epoch 4/100\n",
            "7352/7352 - 1s - loss: 0.1120 - accuracy: 0.9504\n",
            "Epoch 5/100\n",
            "7352/7352 - 1s - loss: 0.1225 - accuracy: 0.9513\n",
            "Epoch 6/100\n",
            "7352/7352 - 1s - loss: 0.1189 - accuracy: 0.9479\n",
            "Epoch 7/100\n",
            "7352/7352 - 1s - loss: 0.1011 - accuracy: 0.9550\n",
            "Epoch 8/100\n",
            "7352/7352 - 1s - loss: 0.0949 - accuracy: 0.9559\n",
            "Epoch 9/100\n",
            "7352/7352 - 1s - loss: 0.0891 - accuracy: 0.9565\n",
            "Epoch 10/100\n",
            "7352/7352 - 1s - loss: 0.0813 - accuracy: 0.9631\n",
            "Epoch 11/100\n",
            "7352/7352 - 1s - loss: 0.0834 - accuracy: 0.9599\n",
            "Epoch 12/100\n",
            "7352/7352 - 1s - loss: 0.0929 - accuracy: 0.9581\n",
            "Epoch 13/100\n",
            "7352/7352 - 1s - loss: 0.1035 - accuracy: 0.9582\n",
            "Epoch 14/100\n",
            "7352/7352 - 1s - loss: 0.0761 - accuracy: 0.9644\n",
            "Epoch 15/100\n",
            "7352/7352 - 1s - loss: 0.0780 - accuracy: 0.9656\n",
            "Epoch 16/100\n",
            "7352/7352 - 1s - loss: 0.0721 - accuracy: 0.9675\n",
            "Epoch 17/100\n",
            "7352/7352 - 1s - loss: 0.0715 - accuracy: 0.9660\n",
            "Epoch 18/100\n",
            "7352/7352 - 1s - loss: 0.0700 - accuracy: 0.9676\n",
            "Epoch 19/100\n",
            "7352/7352 - 1s - loss: 0.0942 - accuracy: 0.9615\n",
            "Epoch 20/100\n",
            "7352/7352 - 1s - loss: 0.0821 - accuracy: 0.9641\n",
            "Epoch 21/100\n",
            "7352/7352 - 1s - loss: 0.0696 - accuracy: 0.9668\n",
            "Epoch 22/100\n",
            "7352/7352 - 1s - loss: 0.0712 - accuracy: 0.9668\n",
            "Epoch 23/100\n",
            "7352/7352 - 1s - loss: 0.0645 - accuracy: 0.9689\n",
            "Epoch 24/100\n",
            "7352/7352 - 1s - loss: 0.0787 - accuracy: 0.9669\n",
            "Epoch 25/100\n",
            "7352/7352 - 1s - loss: 0.0686 - accuracy: 0.9665\n",
            "Epoch 26/100\n",
            "7352/7352 - 1s - loss: 0.0664 - accuracy: 0.9689\n",
            "Epoch 27/100\n",
            "7352/7352 - 1s - loss: 0.0615 - accuracy: 0.9695\n",
            "Epoch 28/100\n",
            "7352/7352 - 1s - loss: 0.0645 - accuracy: 0.9682\n",
            "Epoch 29/100\n",
            "7352/7352 - 1s - loss: 0.0620 - accuracy: 0.9698\n",
            "Epoch 30/100\n",
            "7352/7352 - 1s - loss: 0.0697 - accuracy: 0.9664\n",
            "Epoch 31/100\n",
            "7352/7352 - 1s - loss: 0.0584 - accuracy: 0.9708\n",
            "Epoch 32/100\n",
            "7352/7352 - 1s - loss: 0.0934 - accuracy: 0.9695\n",
            "Epoch 33/100\n",
            "7352/7352 - 1s - loss: 0.0891 - accuracy: 0.9646\n",
            "Epoch 34/100\n",
            "7352/7352 - 1s - loss: 0.0576 - accuracy: 0.9708\n",
            "Epoch 35/100\n",
            "7352/7352 - 1s - loss: 0.0646 - accuracy: 0.9714\n",
            "Epoch 36/100\n",
            "7352/7352 - 1s - loss: 0.0622 - accuracy: 0.9698\n",
            "Epoch 37/100\n",
            "7352/7352 - 1s - loss: 0.0590 - accuracy: 0.9720\n",
            "Epoch 38/100\n",
            "7352/7352 - 1s - loss: 0.0527 - accuracy: 0.9748\n",
            "Epoch 39/100\n",
            "7352/7352 - 1s - loss: 0.0603 - accuracy: 0.9725\n",
            "Epoch 40/100\n",
            "7352/7352 - 1s - loss: 0.0605 - accuracy: 0.9724\n",
            "Epoch 41/100\n",
            "7352/7352 - 1s - loss: 0.0616 - accuracy: 0.9699\n",
            "Epoch 42/100\n",
            "7352/7352 - 1s - loss: 0.0578 - accuracy: 0.9721\n",
            "Epoch 43/100\n",
            "7352/7352 - 1s - loss: 0.0531 - accuracy: 0.9735\n",
            "Epoch 44/100\n",
            "7352/7352 - 1s - loss: 0.0500 - accuracy: 0.9737\n",
            "Epoch 45/100\n",
            "7352/7352 - 1s - loss: 0.0734 - accuracy: 0.9720\n",
            "Epoch 46/100\n",
            "7352/7352 - 1s - loss: 0.0605 - accuracy: 0.9725\n",
            "Epoch 47/100\n",
            "7352/7352 - 1s - loss: 0.0575 - accuracy: 0.9727\n",
            "Epoch 48/100\n",
            "7352/7352 - 1s - loss: 0.0576 - accuracy: 0.9731\n",
            "Epoch 49/100\n",
            "7352/7352 - 1s - loss: 0.0503 - accuracy: 0.9744\n",
            "Epoch 50/100\n",
            "7352/7352 - 1s - loss: 0.0544 - accuracy: 0.9751\n",
            "Epoch 51/100\n",
            "7352/7352 - 1s - loss: 0.0511 - accuracy: 0.9732\n",
            "Epoch 52/100\n",
            "7352/7352 - 1s - loss: 0.0687 - accuracy: 0.9737\n",
            "Epoch 53/100\n",
            "7352/7352 - 1s - loss: 0.0635 - accuracy: 0.9729\n",
            "Epoch 54/100\n",
            "7352/7352 - 1s - loss: 0.0575 - accuracy: 0.9733\n",
            "Epoch 55/100\n",
            "7352/7352 - 1s - loss: 0.0518 - accuracy: 0.9723\n",
            "Epoch 56/100\n",
            "7352/7352 - 1s - loss: 0.0454 - accuracy: 0.9786\n",
            "Epoch 57/100\n",
            "7352/7352 - 1s - loss: 0.0465 - accuracy: 0.9762\n",
            "Epoch 58/100\n",
            "7352/7352 - 1s - loss: 0.0810 - accuracy: 0.9725\n",
            "Epoch 59/100\n",
            "7352/7352 - 1s - loss: 0.0464 - accuracy: 0.9773\n",
            "Epoch 60/100\n",
            "7352/7352 - 1s - loss: 0.0509 - accuracy: 0.9769\n",
            "Epoch 61/100\n",
            "7352/7352 - 1s - loss: 0.0535 - accuracy: 0.9731\n",
            "Epoch 62/100\n",
            "7352/7352 - 1s - loss: 0.0462 - accuracy: 0.9774\n",
            "Epoch 63/100\n",
            "7352/7352 - 1s - loss: 0.0728 - accuracy: 0.9703\n",
            "Epoch 64/100\n",
            "7352/7352 - 1s - loss: 0.0486 - accuracy: 0.9735\n",
            "Epoch 65/100\n",
            "7352/7352 - 1s - loss: 0.0489 - accuracy: 0.9776\n",
            "Epoch 66/100\n",
            "7352/7352 - 1s - loss: 0.0437 - accuracy: 0.9780\n",
            "Epoch 67/100\n",
            "7352/7352 - 1s - loss: 0.1167 - accuracy: 0.9721\n",
            "Epoch 68/100\n",
            "7352/7352 - 1s - loss: 0.0591 - accuracy: 0.9757\n",
            "Epoch 69/100\n",
            "7352/7352 - 1s - loss: 0.0506 - accuracy: 0.9755\n",
            "Epoch 70/100\n",
            "7352/7352 - 1s - loss: 0.0469 - accuracy: 0.9758\n",
            "Epoch 71/100\n",
            "7352/7352 - 1s - loss: 0.0457 - accuracy: 0.9780\n",
            "Epoch 72/100\n",
            "7352/7352 - 1s - loss: 0.0419 - accuracy: 0.9796\n",
            "Epoch 73/100\n",
            "7352/7352 - 1s - loss: 0.0492 - accuracy: 0.9786\n",
            "Epoch 74/100\n",
            "7352/7352 - 1s - loss: 0.0562 - accuracy: 0.9762\n",
            "Epoch 75/100\n",
            "7352/7352 - 1s - loss: 0.0452 - accuracy: 0.9791\n",
            "Epoch 76/100\n",
            "7352/7352 - 1s - loss: 0.0441 - accuracy: 0.9788\n",
            "Epoch 77/100\n",
            "7352/7352 - 1s - loss: 0.0495 - accuracy: 0.9770\n",
            "Epoch 78/100\n",
            "7352/7352 - 1s - loss: 0.0437 - accuracy: 0.9785\n",
            "Epoch 79/100\n",
            "7352/7352 - 1s - loss: 0.0560 - accuracy: 0.9759\n",
            "Epoch 80/100\n",
            "7352/7352 - 1s - loss: 0.0509 - accuracy: 0.9773\n",
            "Epoch 81/100\n",
            "7352/7352 - 1s - loss: 0.0509 - accuracy: 0.9747\n",
            "Epoch 82/100\n",
            "7352/7352 - 1s - loss: 0.0623 - accuracy: 0.9748\n",
            "Epoch 83/100\n",
            "7352/7352 - 1s - loss: 0.0438 - accuracy: 0.9804\n",
            "Epoch 84/100\n",
            "7352/7352 - 1s - loss: 0.0424 - accuracy: 0.9791\n",
            "Epoch 85/100\n",
            "7352/7352 - 1s - loss: 0.0441 - accuracy: 0.9776\n",
            "Epoch 86/100\n",
            "7352/7352 - 1s - loss: 0.0464 - accuracy: 0.9777\n",
            "Epoch 87/100\n",
            "7352/7352 - 1s - loss: 0.0421 - accuracy: 0.9801\n",
            "Epoch 88/100\n",
            "7352/7352 - 1s - loss: 0.0499 - accuracy: 0.9763\n",
            "Epoch 89/100\n",
            "7352/7352 - 1s - loss: 0.0693 - accuracy: 0.9731\n",
            "Epoch 90/100\n",
            "7352/7352 - 1s - loss: 0.0474 - accuracy: 0.9776\n",
            "Epoch 91/100\n",
            "7352/7352 - 1s - loss: 0.0419 - accuracy: 0.9786\n",
            "Epoch 92/100\n",
            "7352/7352 - 1s - loss: 0.1003 - accuracy: 0.9724\n",
            "Epoch 93/100\n",
            "7352/7352 - 1s - loss: 0.0547 - accuracy: 0.9770\n",
            "Epoch 94/100\n",
            "7352/7352 - 1s - loss: 0.0445 - accuracy: 0.9801\n",
            "Epoch 95/100\n",
            "7352/7352 - 1s - loss: 0.0398 - accuracy: 0.9803\n",
            "Epoch 96/100\n",
            "7352/7352 - 1s - loss: 0.0424 - accuracy: 0.9799\n",
            "Epoch 97/100\n",
            "7352/7352 - 1s - loss: 0.0417 - accuracy: 0.9808\n",
            "Epoch 98/100\n",
            "7352/7352 - 1s - loss: 0.0411 - accuracy: 0.9810\n",
            "Epoch 99/100\n",
            "7352/7352 - 1s - loss: 0.0453 - accuracy: 0.9755\n",
            "Epoch 100/100\n",
            "7352/7352 - 1s - loss: 0.0365 - accuracy: 0.9823\n"
          ],
          "name": "stdout"
        }
      ]
    },
    {
      "cell_type": "code",
      "metadata": {
        "id": "3hu8RtyiZdHh",
        "colab_type": "code",
        "outputId": "208dcb06-b605-45c9-db50-aec12533110b",
        "colab": {
          "base_uri": "https://localhost:8080/",
          "height": 282
        }
      },
      "source": [
        "plt.plot(history.history['loss'])"
      ],
      "execution_count": 0,
      "outputs": [
        {
          "output_type": "execute_result",
          "data": {
            "text/plain": [
              "[<matplotlib.lines.Line2D at 0x7f1efa08a710>]"
            ]
          },
          "metadata": {
            "tags": []
          },
          "execution_count": 34
        },
        {
          "output_type": "display_data",
          "data": {
            "image/png": "[encoded data removed]",
            "text/plain": [
              "<Figure size 432x288 with 1 Axes>"
            ]
          },
          "metadata": {
            "tags": []
          }
        }
      ]
    },
    {
      "cell_type": "code",
      "metadata": {
        "id": "yzBuSkPtZDNY",
        "colab_type": "code",
        "outputId": "77ee33ac-08f5-46c0-8cf4-6ce32997bbd3",
        "colab": {
          "base_uri": "https://localhost:8080/",
          "height": 50
        }
      },
      "source": [
        "regular_cnn_acc_train=model.evaluate(X_train, Y_train, batch_size=batch_size, verbose=0)[1]\n",
        "regular_cnn_acc_test=model.evaluate(X_test, Y_test, batch_size=batch_size, verbose=0)[1]\n",
        "print(\"Training set: \",regular_cnn_acc_train*100,\"%\")\n",
        "print(\"Test set: \",regular_cnn_acc_test*100,\"%\")"
      ],
      "execution_count": 0,
      "outputs": [
        {
          "output_type": "stream",
          "text": [
            "Training set:  98.13656210899353 %\n",
            "Test set:  90.87207317352295 %\n"
          ],
          "name": "stdout"
        }
      ]
    },
    {
      "cell_type": "code",
      "metadata": {
        "id": "1ym4R-W-RZ1l",
        "colab_type": "code",
        "outputId": "fcfec949-339c-45e9-9edf-0aaef31d4532",
        "colab": {
          "base_uri": "https://localhost:8080/",
          "height": 286
        }
      },
      "source": [
        "Y_pred=model.predict(X_test)\n",
        "cm=confusion_matrix(np.argmax(Y_test,axis=1),np.argmax(Y_pred,axis=1))\n",
        "sns.heatmap(cm/cm.sum(axis=0),cmap='coolwarm',annot=cm,fmt='g',linewidths=1, linecolor='black')"
      ],
      "execution_count": 0,
      "outputs": [
        {
          "output_type": "execute_result",
          "data": {
            "text/plain": [
              "<matplotlib.axes._subplots.AxesSubplot at 0x7f1ef10802e8>"
            ]
          },
          "metadata": {
            "tags": []
          },
          "execution_count": 36
        },
        {
          "output_type": "display_data",
          "data": {
            "image/png": "[encoded data removed]",
            "text/plain": [
              "<Figure size 432x288 with 2 Axes>"
            ]
          },
          "metadata": {
            "tags": []
          }
        }
      ]
    },
    {
      "cell_type": "code",
      "metadata": {
        "id": "nr0MvGSleSHp",
        "colab_type": "code",
        "colab": {}
      },
      "source": [
        "model.save('regular-cnn.h5')"
      ],
      "execution_count": 0,
      "outputs": []
    },
    {
      "cell_type": "markdown",
      "metadata": {
        "colab_type": "text",
        "id": "I4GZ4ds1aTNn"
      },
      "source": [
        "## Model 2: Separable CNN"
      ]
    },
    {
      "cell_type": "code",
      "metadata": {
        "id": "QBZM_ZX8Wf21",
        "colab_type": "code",
        "colab": {}
      },
      "source": [
        "model=load_model('separable-cnn.h5')"
      ],
      "execution_count": 0,
      "outputs": []
    },
    {
      "cell_type": "code",
      "metadata": {
        "colab_type": "code",
        "id": "5nq8b1GGaTNt",
        "colab": {}
      },
      "source": [
        "verbose, epochs, batch_size = 2, 10, 32"
      ],
      "execution_count": 0,
      "outputs": []
    },
    {
      "cell_type": "code",
      "metadata": {
        "colab_type": "code",
        "id": "fBkfRz4QaTN_",
        "colab": {}
      },
      "source": [
        "n_timesteps, n_features, n_outputs = X_train.shape[1], X_train.shape[2], Y_train.shape[1]"
      ],
      "execution_count": 0,
      "outputs": []
    },
    {
      "cell_type": "code",
      "metadata": {
        "colab_type": "code",
        "outputId": "c544e224-43f2-48b0-a537-de2743884416",
        "id": "fMT16EqNaTOM",
        "colab": {
          "base_uri": "https://localhost:8080/",
          "height": 34
        }
      },
      "source": [
        "print(n_timesteps, n_features, n_outputs)"
      ],
      "execution_count": 0,
      "outputs": [
        {
          "output_type": "stream",
          "text": [
            "128 9 6\n"
          ],
          "name": "stdout"
        }
      ]
    },
    {
      "cell_type": "code",
      "metadata": {
        "colab_type": "code",
        "id": "lv6aXCGnaTOb",
        "colab": {}
      },
      "source": [
        "model = Sequential()\n",
        "model.add(SeparableConv1D(filters=64, kernel_size=11, activation='relu', input_shape=(n_timesteps,n_features)))\n",
        "model.add(Dropout(0.5))\n",
        "model.add(SeparableConv1D(filters=64, kernel_size=11, activation='relu'))\n",
        "model.add(Dropout(0.5))\n",
        "model.add(SeparableConv1D(filters=64, kernel_size=9, activation='relu'))\n",
        "model.add(Dropout(0.5))\n",
        "model.add(MaxPooling1D(pool_size=2))\n",
        "model.add(Flatten())\n",
        "model.add(Dense(32, activation='relu'))\n",
        "model.add(Dense(n_outputs, activation='softmax'))"
      ],
      "execution_count": 0,
      "outputs": []
    },
    {
      "cell_type": "code",
      "metadata": {
        "id": "_jB0tFzwf8cx",
        "colab_type": "code",
        "colab": {}
      },
      "source": [
        "model.compile(loss='categorical_crossentropy', optimizer='adam', metrics=['accuracy'])"
      ],
      "execution_count": 0,
      "outputs": []
    },
    {
      "cell_type": "code",
      "metadata": {
        "colab_type": "code",
        "outputId": "e63e50a5-7f5b-4296-c52f-c675cf475784",
        "id": "pl78DHQfaTOo",
        "colab": {
          "base_uri": "https://localhost:8080/",
          "height": 487
        }
      },
      "source": [
        "model.summary()"
      ],
      "execution_count": 0,
      "outputs": [
        {
          "output_type": "stream",
          "text": [
            "Model: \"sequential_20\"\n",
            "_________________________________________________________________\n",
            "Layer (type)                 Output Shape              Param #   \n",
            "=================================================================\n",
            "separable_conv1d_59 (Separab (None, 118, 64)           739       \n",
            "_________________________________________________________________\n",
            "dropout_37 (Dropout)         (None, 118, 64)           0         \n",
            "_________________________________________________________________\n",
            "separable_conv1d_60 (Separab (None, 108, 64)           4864      \n",
            "_________________________________________________________________\n",
            "dropout_38 (Dropout)         (None, 108, 64)           0         \n",
            "_________________________________________________________________\n",
            "separable_conv1d_61 (Separab (None, 100, 64)           4736      \n",
            "_________________________________________________________________\n",
            "dropout_39 (Dropout)         (None, 100, 64)           0         \n",
            "_________________________________________________________________\n",
            "max_pooling1d_27 (MaxPooling (None, 50, 64)            0         \n",
            "_________________________________________________________________\n",
            "flatten_20 (Flatten)         (None, 3200)              0         \n",
            "_________________________________________________________________\n",
            "dense_59 (Dense)             (None, 32)                102432    \n",
            "_________________________________________________________________\n",
            "dense_60 (Dense)             (None, 6)                 198       \n",
            "=================================================================\n",
            "Total params: 112,969\n",
            "Trainable params: 112,969\n",
            "Non-trainable params: 0\n",
            "_________________________________________________________________\n"
          ],
          "name": "stdout"
        }
      ]
    },
    {
      "cell_type": "code",
      "metadata": {
        "colab_type": "code",
        "id": "UkEKti8EaTO1",
        "colab": {}
      },
      "source": [
        "separable_cnn_params=model.count_params()"
      ],
      "execution_count": 0,
      "outputs": []
    },
    {
      "cell_type": "code",
      "metadata": {
        "colab_type": "code",
        "outputId": "a85e00d7-8a30-4f80-f7ef-cca18b030a0c",
        "id": "CXEsv75BaTPL",
        "colab": {
          "base_uri": "https://localhost:8080/",
          "height": 1000
        }
      },
      "source": [
        "history=model.fit(X_train, Y_train, epochs=100, batch_size=batch_size, verbose=verbose)"
      ],
      "execution_count": 0,
      "outputs": [
        {
          "output_type": "stream",
          "text": [
            "Train on 7352 samples\n",
            "Epoch 1/100\n",
            "7352/7352 - 2s - loss: 0.7292 - accuracy: 0.7091\n",
            "Epoch 2/100\n",
            "7352/7352 - 1s - loss: 0.1882 - accuracy: 0.9245\n",
            "Epoch 3/100\n",
            "7352/7352 - 1s - loss: 0.1317 - accuracy: 0.9445\n",
            "Epoch 4/100\n",
            "7352/7352 - 1s - loss: 0.1436 - accuracy: 0.9431\n",
            "Epoch 5/100\n",
            "7352/7352 - 1s - loss: 0.1150 - accuracy: 0.9504\n",
            "Epoch 6/100\n",
            "7352/7352 - 1s - loss: 0.1127 - accuracy: 0.9505\n",
            "Epoch 7/100\n",
            "7352/7352 - 1s - loss: 0.1124 - accuracy: 0.9512\n",
            "Epoch 8/100\n",
            "7352/7352 - 1s - loss: 0.1124 - accuracy: 0.9508\n",
            "Epoch 9/100\n",
            "7352/7352 - 1s - loss: 0.1032 - accuracy: 0.9559\n",
            "Epoch 10/100\n",
            "7352/7352 - 1s - loss: 0.0962 - accuracy: 0.9573\n",
            "Epoch 11/100\n",
            "7352/7352 - 1s - loss: 0.0970 - accuracy: 0.9574\n",
            "Epoch 12/100\n",
            "7352/7352 - 1s - loss: 0.0932 - accuracy: 0.9574\n",
            "Epoch 13/100\n",
            "7352/7352 - 1s - loss: 0.0827 - accuracy: 0.9626\n",
            "Epoch 14/100\n",
            "7352/7352 - 1s - loss: 0.0794 - accuracy: 0.9623\n",
            "Epoch 15/100\n",
            "7352/7352 - 1s - loss: 0.0756 - accuracy: 0.9644\n",
            "Epoch 16/100\n",
            "7352/7352 - 1s - loss: 0.0738 - accuracy: 0.9637\n",
            "Epoch 17/100\n",
            "7352/7352 - 1s - loss: 0.0756 - accuracy: 0.9652\n",
            "Epoch 18/100\n",
            "7352/7352 - 1s - loss: 0.1036 - accuracy: 0.9587\n",
            "Epoch 19/100\n",
            "7352/7352 - 1s - loss: 0.0697 - accuracy: 0.9667\n",
            "Epoch 20/100\n",
            "7352/7352 - 1s - loss: 0.0723 - accuracy: 0.9644\n",
            "Epoch 21/100\n",
            "7352/7352 - 1s - loss: 0.0708 - accuracy: 0.9642\n",
            "Epoch 22/100\n",
            "7352/7352 - 1s - loss: 0.0650 - accuracy: 0.9678\n",
            "Epoch 23/100\n",
            "7352/7352 - 1s - loss: 0.0649 - accuracy: 0.9679\n",
            "Epoch 24/100\n",
            "7352/7352 - 1s - loss: 0.0630 - accuracy: 0.9690\n",
            "Epoch 25/100\n",
            "7352/7352 - 1s - loss: 0.0595 - accuracy: 0.9708\n",
            "Epoch 26/100\n",
            "7352/7352 - 1s - loss: 0.0713 - accuracy: 0.9680\n",
            "Epoch 27/100\n",
            "7352/7352 - 1s - loss: 0.0721 - accuracy: 0.9683\n",
            "Epoch 28/100\n",
            "7352/7352 - 1s - loss: 0.0610 - accuracy: 0.9702\n",
            "Epoch 29/100\n",
            "7352/7352 - 1s - loss: 0.0607 - accuracy: 0.9708\n",
            "Epoch 30/100\n",
            "7352/7352 - 1s - loss: 0.0547 - accuracy: 0.9718\n",
            "Epoch 31/100\n",
            "7352/7352 - 1s - loss: 0.0653 - accuracy: 0.9697\n",
            "Epoch 32/100\n",
            "7352/7352 - 1s - loss: 0.0591 - accuracy: 0.9706\n",
            "Epoch 33/100\n",
            "7352/7352 - 1s - loss: 0.0525 - accuracy: 0.9723\n",
            "Epoch 34/100\n",
            "7352/7352 - 1s - loss: 0.0728 - accuracy: 0.9687\n",
            "Epoch 35/100\n",
            "7352/7352 - 1s - loss: 0.0647 - accuracy: 0.9723\n",
            "Epoch 36/100\n",
            "7352/7352 - 1s - loss: 0.0537 - accuracy: 0.9729\n",
            "Epoch 37/100\n",
            "7352/7352 - 1s - loss: 0.0551 - accuracy: 0.9706\n",
            "Epoch 38/100\n",
            "7352/7352 - 1s - loss: 0.0525 - accuracy: 0.9725\n",
            "Epoch 39/100\n",
            "7352/7352 - 1s - loss: 0.0478 - accuracy: 0.9761\n",
            "Epoch 40/100\n",
            "7352/7352 - 1s - loss: 0.0486 - accuracy: 0.9747\n",
            "Epoch 41/100\n",
            "7352/7352 - 1s - loss: 0.0490 - accuracy: 0.9735\n",
            "Epoch 42/100\n",
            "7352/7352 - 1s - loss: 0.0873 - accuracy: 0.9701\n",
            "Epoch 43/100\n",
            "7352/7352 - 1s - loss: 0.0586 - accuracy: 0.9736\n",
            "Epoch 44/100\n",
            "7352/7352 - 1s - loss: 0.0516 - accuracy: 0.9746\n",
            "Epoch 45/100\n",
            "7352/7352 - 1s - loss: 0.0466 - accuracy: 0.9773\n",
            "Epoch 46/100\n",
            "7352/7352 - 1s - loss: 0.0453 - accuracy: 0.9757\n",
            "Epoch 47/100\n",
            "7352/7352 - 1s - loss: 0.0479 - accuracy: 0.9759\n",
            "Epoch 48/100\n",
            "7352/7352 - 1s - loss: 0.0460 - accuracy: 0.9766\n",
            "Epoch 49/100\n",
            "7352/7352 - 1s - loss: 0.0588 - accuracy: 0.9729\n",
            "Epoch 50/100\n",
            "7352/7352 - 1s - loss: 0.0543 - accuracy: 0.9762\n",
            "Epoch 51/100\n",
            "7352/7352 - 1s - loss: 0.0543 - accuracy: 0.9766\n",
            "Epoch 52/100\n",
            "7352/7352 - 1s - loss: 0.0430 - accuracy: 0.9777\n",
            "Epoch 53/100\n",
            "7352/7352 - 1s - loss: 0.0429 - accuracy: 0.9774\n",
            "Epoch 54/100\n",
            "7352/7352 - 1s - loss: 0.0458 - accuracy: 0.9771\n",
            "Epoch 55/100\n",
            "7352/7352 - 1s - loss: 0.0407 - accuracy: 0.9814\n",
            "Epoch 56/100\n",
            "7352/7352 - 1s - loss: 0.0404 - accuracy: 0.9797\n",
            "Epoch 57/100\n",
            "7352/7352 - 1s - loss: 0.0389 - accuracy: 0.9795\n",
            "Epoch 58/100\n",
            "7352/7352 - 1s - loss: 0.0464 - accuracy: 0.9795\n",
            "Epoch 59/100\n",
            "7352/7352 - 1s - loss: 0.0385 - accuracy: 0.9796\n",
            "Epoch 60/100\n",
            "7352/7352 - 1s - loss: 0.0567 - accuracy: 0.9752\n",
            "Epoch 61/100\n",
            "7352/7352 - 1s - loss: 0.0375 - accuracy: 0.9826\n",
            "Epoch 62/100\n",
            "7352/7352 - 1s - loss: 0.0353 - accuracy: 0.9825\n",
            "Epoch 63/100\n",
            "7352/7352 - 1s - loss: 0.0382 - accuracy: 0.9815\n",
            "Epoch 64/100\n",
            "7352/7352 - 1s - loss: 0.0491 - accuracy: 0.9781\n",
            "Epoch 65/100\n",
            "7352/7352 - 1s - loss: 0.0360 - accuracy: 0.9822\n",
            "Epoch 66/100\n",
            "7352/7352 - 1s - loss: 0.0379 - accuracy: 0.9816\n",
            "Epoch 67/100\n",
            "7352/7352 - 1s - loss: 0.0485 - accuracy: 0.9800\n",
            "Epoch 68/100\n",
            "7352/7352 - 1s - loss: 0.0466 - accuracy: 0.9799\n",
            "Epoch 69/100\n",
            "7352/7352 - 1s - loss: 0.0316 - accuracy: 0.9850\n",
            "Epoch 70/100\n",
            "7352/7352 - 1s - loss: 0.0350 - accuracy: 0.9834\n",
            "Epoch 71/100\n",
            "7352/7352 - 1s - loss: 0.0385 - accuracy: 0.9823\n",
            "Epoch 72/100\n",
            "7352/7352 - 1s - loss: 0.0465 - accuracy: 0.9799\n",
            "Epoch 73/100\n",
            "7352/7352 - 1s - loss: 0.0464 - accuracy: 0.9807\n",
            "Epoch 74/100\n",
            "7352/7352 - 1s - loss: 0.0432 - accuracy: 0.9819\n",
            "Epoch 75/100\n",
            "7352/7352 - 1s - loss: 0.0317 - accuracy: 0.9850\n",
            "Epoch 76/100\n",
            "7352/7352 - 1s - loss: 0.0332 - accuracy: 0.9834\n",
            "Epoch 77/100\n",
            "7352/7352 - 1s - loss: 0.0308 - accuracy: 0.9856\n",
            "Epoch 78/100\n",
            "7352/7352 - 1s - loss: 0.0427 - accuracy: 0.9812\n",
            "Epoch 79/100\n",
            "7352/7352 - 1s - loss: 0.0342 - accuracy: 0.9837\n",
            "Epoch 80/100\n",
            "7352/7352 - 1s - loss: 0.0348 - accuracy: 0.9830\n",
            "Epoch 81/100\n",
            "7352/7352 - 1s - loss: 0.0300 - accuracy: 0.9860\n",
            "Epoch 82/100\n",
            "7352/7352 - 1s - loss: 0.0349 - accuracy: 0.9837\n",
            "Epoch 83/100\n",
            "7352/7352 - 1s - loss: 0.0339 - accuracy: 0.9848\n",
            "Epoch 84/100\n",
            "7352/7352 - 1s - loss: 0.0468 - accuracy: 0.9825\n",
            "Epoch 85/100\n",
            "7352/7352 - 1s - loss: 0.0327 - accuracy: 0.9845\n",
            "Epoch 86/100\n",
            "7352/7352 - 1s - loss: 0.0306 - accuracy: 0.9863\n",
            "Epoch 87/100\n",
            "7352/7352 - 1s - loss: 0.0328 - accuracy: 0.9839\n",
            "Epoch 88/100\n",
            "7352/7352 - 1s - loss: 0.0278 - accuracy: 0.9867\n",
            "Epoch 89/100\n",
            "7352/7352 - 1s - loss: 0.0321 - accuracy: 0.9845\n",
            "Epoch 90/100\n",
            "7352/7352 - 1s - loss: 0.0388 - accuracy: 0.9837\n",
            "Epoch 91/100\n",
            "7352/7352 - 1s - loss: 0.0311 - accuracy: 0.9868\n",
            "Epoch 92/100\n",
            "7352/7352 - 1s - loss: 0.0329 - accuracy: 0.9864\n",
            "Epoch 93/100\n",
            "7352/7352 - 1s - loss: 0.0401 - accuracy: 0.9850\n",
            "Epoch 94/100\n",
            "7352/7352 - 1s - loss: 0.0313 - accuracy: 0.9861\n",
            "Epoch 95/100\n",
            "7352/7352 - 1s - loss: 0.0251 - accuracy: 0.9869\n",
            "Epoch 96/100\n",
            "7352/7352 - 1s - loss: 0.0253 - accuracy: 0.9872\n",
            "Epoch 97/100\n",
            "7352/7352 - 1s - loss: 0.0371 - accuracy: 0.9849\n",
            "Epoch 98/100\n",
            "7352/7352 - 1s - loss: 0.0325 - accuracy: 0.9844\n",
            "Epoch 99/100\n",
            "7352/7352 - 1s - loss: 0.0310 - accuracy: 0.9845\n",
            "Epoch 100/100\n",
            "7352/7352 - 1s - loss: 0.0326 - accuracy: 0.9857\n"
          ],
          "name": "stdout"
        }
      ]
    },
    {
      "cell_type": "code",
      "metadata": {
        "colab_type": "code",
        "outputId": "75ea339e-441c-4ce8-9669-29c5484f12ff",
        "id": "UaA_YjJIaTPR",
        "colab": {
          "base_uri": "https://localhost:8080/",
          "height": 282
        }
      },
      "source": [
        "plt.plot(history.history['loss'])"
      ],
      "execution_count": 0,
      "outputs": [
        {
          "output_type": "execute_result",
          "data": {
            "text/plain": [
              "[<matplotlib.lines.Line2D at 0x7f1f040ea860>]"
            ]
          },
          "metadata": {
            "tags": []
          },
          "execution_count": 22
        },
        {
          "output_type": "display_data",
          "data": {
            "image/png": "[encoded data removed]",
            "text/plain": [
              "<Figure size 432x288 with 1 Axes>"
            ]
          },
          "metadata": {
            "tags": []
          }
        }
      ]
    },
    {
      "cell_type": "code",
      "metadata": {
        "colab_type": "code",
        "outputId": "12766993-f2cd-48f7-932f-e57695b4657b",
        "id": "GhN13YxNaTPX",
        "colab": {
          "base_uri": "https://localhost:8080/",
          "height": 50
        }
      },
      "source": [
        "separable_cnn_acc_train=model.evaluate(X_train, Y_train, batch_size=batch_size, verbose=0)[1]\n",
        "separable_cnn_acc_test=model.evaluate(X_test, Y_test, batch_size=batch_size, verbose=0)[1]\n",
        "\n",
        "print(\"Training set: \",separable_cnn_acc_train*100,\"%\")\n",
        "print(\"Test set: \",separable_cnn_acc_test*100,\"%\")"
      ],
      "execution_count": 0,
      "outputs": [
        {
          "output_type": "stream",
          "text": [
            "Training set:  98.97986650466919 %\n",
            "Test set:  90.0237500667572 %\n"
          ],
          "name": "stdout"
        }
      ]
    },
    {
      "cell_type": "code",
      "metadata": {
        "id": "pELznTyiQJhN",
        "colab_type": "code",
        "outputId": "38f007c4-fde2-4df8-eeb2-867ce9196fdd",
        "colab": {
          "base_uri": "https://localhost:8080/",
          "height": 286
        }
      },
      "source": [
        "Y_pred=model.predict(X_test)\n",
        "cm=confusion_matrix(np.argmax(Y_test,axis=1),np.argmax(Y_pred,axis=1))\n",
        "sns.heatmap(cm/cm.sum(axis=0),cmap='coolwarm',annot=cm,fmt='g',linewidths=1, linecolor='black')"
      ],
      "execution_count": 0,
      "outputs": [
        {
          "output_type": "execute_result",
          "data": {
            "text/plain": [
              "<matplotlib.axes._subplots.AxesSubplot at 0x7f1f200c9390>"
            ]
          },
          "metadata": {
            "tags": []
          },
          "execution_count": 27
        },
        {
          "output_type": "display_data",
          "data": {
            "image/png": "[encoded data removed]",
            "text/plain": [
              "<Figure size 432x288 with 2 Axes>"
            ]
          },
          "metadata": {
            "tags": []
          }
        }
      ]
    },
    {
      "cell_type": "code",
      "metadata": {
        "id": "Q1w0jcTveEUe",
        "colab_type": "code",
        "colab": {}
      },
      "source": [
        "model.save('separable-cnn.h5')"
      ],
      "execution_count": 0,
      "outputs": []
    },
    {
      "cell_type": "markdown",
      "metadata": {
        "id": "gQdLfsk3bM4c",
        "colab_type": "text"
      },
      "source": [
        "## Comparison"
      ]
    },
    {
      "cell_type": "code",
      "metadata": {
        "id": "oXJV8_k-Wsbd",
        "colab_type": "code",
        "outputId": "3e15fad2-8001-46a1-d540-732a10d682d9",
        "colab": {
          "base_uri": "https://localhost:8080/",
          "height": 281
        }
      },
      "source": [
        "regular_acc=[regular_cnn_acc_train,regular_cnn_acc_test]\n",
        "separable_acc=[separable_cnn_acc_train,separable_cnn_acc_test]\n",
        "\n",
        "train=[regular_cnn_acc_train*100,separable_cnn_acc_train*100]\n",
        "test=[regular_cnn_acc_test*100,separable_cnn_acc_test*100]\n",
        "\n",
        "barWidth = 0.3\n",
        "  \n",
        "# Set position of bar on X axis\n",
        "r1 = np.arange(len(train))\n",
        "r2 = [x + barWidth for x in r1]\n",
        "\n",
        "plt.title(\"Accuracy\")\n",
        "plt.bar(r1, train,  width=barWidth, edgecolor='white', label='Train')\n",
        "plt.bar(r2, test, width=barWidth, edgecolor='white', label='Test')\n",
        "plt.xticks([0.15,1.15],[\"Regular CNN\",\"Separable CNN\"])\n",
        "plt.legend(loc=9)\n",
        "plt.show()"
      ],
      "execution_count": 0,
      "outputs": [
        {
          "output_type": "display_data",
          "data": {
            "image/png": "[encoded data removed]",
            "text/plain": [
              "<Figure size 432x288 with 1 Axes>"
            ]
          },
          "metadata": {
            "tags": []
          }
        }
      ]
    },
    {
      "cell_type": "code",
      "metadata": {
        "id": "FDea5g2vSsGQ",
        "colab_type": "code",
        "outputId": "bb4c7ee0-ee76-4c17-ad49-5fb629725d26",
        "colab": {
          "base_uri": "https://localhost:8080/",
          "height": 281
        }
      },
      "source": [
        "plt.title(\"Number of parameters\")\n",
        "sns.barplot([\"Regular CNN\",\"Separable CNN\"],[regular_cnn_params,separable_cnn_params])\n",
        "plt.show()"
      ],
      "execution_count": 0,
      "outputs": [
        {
          "output_type": "display_data",
          "data": {
            "image/png": "[encoded data removed]",
            "text/plain": [
              "<Figure size 432x288 with 1 Axes>"
            ]
          },
          "metadata": {
            "tags": []
          }
        }
      ]
    },
    {
      "cell_type": "code",
      "metadata": {
        "id": "GIqzoHjrVF2L",
        "colab_type": "code",
        "colab": {}
      },
      "source": [
        "plt.title(\"Number of parameters\")\n",
        "sns.barplot([\"Regular CNN\",\"Separable CNN\"],[regular_cnn_params,separable_cnn_params])"
      ],
      "execution_count": 0,
      "outputs": []
    },
    {
      "cell_type": "markdown",
      "metadata": {
        "id": "ilbC8B92aQg8",
        "colab_type": "text"
      },
      "source": [
        "## Extra"
      ]
    },
    {
      "cell_type": "code",
      "metadata": {
        "id": "qjAtCv0G-Vbp",
        "colab_type": "code",
        "colab": {}
      },
      "source": [
        "# summarize scores\n",
        "def summarize_results(scores):\n",
        "\tprint(scores)\n",
        "\tm, s = mean(scores), std(scores)\n",
        "\tprint('Accuracy: %.3f%% (+/-%.3f)' % (m, s))\n"
      ],
      "execution_count": 0,
      "outputs": []
    },
    {
      "cell_type": "code",
      "metadata": {
        "id": "TQCbc0P8-mcC",
        "colab_type": "code",
        "colab": {}
      },
      "source": [
        "# run an experiment\n",
        "def run_experiment(repeats=10):\n",
        "\t# load data\n",
        "\ttrainX, trainy, testX, testy = load_dataset()\n",
        "\t# repeat experiment\n",
        "\tscores = list()\n",
        "\tfor r in range(repeats):\n",
        "\t\tscore = evaluate_model(trainX, trainy, testX, testy)\n",
        "\t\tscore = score * 100.0\n",
        "\t\tprint('>#%d: %.3f' % (r+1, score))\n",
        "\t\tscores.append(score)\n",
        "\t# summarize results\n",
        "\tsummarize_results(scores)"
      ],
      "execution_count": 0,
      "outputs": []
    },
    {
      "cell_type": "code",
      "metadata": {
        "id": "sO4ehcli-pqc",
        "colab_type": "code",
        "outputId": "4d19201b-2768-426e-987b-7317c526481b",
        "colab": {
          "base_uri": "https://localhost:8080/",
          "height": 118
        }
      },
      "source": [
        "# run the experiment\n",
        "run_experiment(1)"
      ],
      "execution_count": 0,
      "outputs": [
        {
          "output_type": "stream",
          "text": [
            "(7352, 128, 9) (7352, 1)\n",
            "(2947, 128, 9) (2947, 1)\n",
            "(7352, 128, 9) (7352, 6) (2947, 128, 9) (2947, 6)\n",
            ">#1: 90.193\n",
            "[90.19341468811035]\n",
            "Accuracy: 90.193% (+/-0.000)\n"
          ],
          "name": "stdout"
        }
      ]
    },
    {
      "cell_type": "markdown",
      "metadata": {
        "id": "AEO6GUYI2Bcm",
        "colab_type": "text"
      },
      "source": [
        "## Mobile Data"
      ]
    },
    {
      "cell_type": "code",
      "metadata": {
        "id": "U87DlrR72crL",
        "colab_type": "code",
        "outputId": "361b2f6a-08bb-4441-909f-e2bdf3a97428",
        "colab": {
          "base_uri": "https://localhost:8080/",
          "height": 215
        }
      },
      "source": [
        "mob=pd.read_csv('2.csv')\n",
        "mob.head()"
      ],
      "execution_count": 0,
      "outputs": [
        {
          "output_type": "execute_result",
          "data": {
            "text/html": [
              "<div>\n",
              "<style scoped>\n",
              "    .dataframe tbody tr th:only-of-type {\n",
              "        vertical-align: middle;\n",
              "    }\n",
              "\n",
              "    .dataframe tbody tr th {\n",
              "        vertical-align: top;\n",
              "    }\n",
              "\n",
              "    .dataframe thead th {\n",
              "        text-align: right;\n",
              "    }\n",
              "</style>\n",
              "<table border=\"1\" class=\"dataframe\">\n",
              "  <thead>\n",
              "    <tr style=\"text-align: right;\">\n",
              "      <th></th>\n",
              "      <th>id</th>\n",
              "      <th>time</th>\n",
              "      <th>accX</th>\n",
              "      <th>accY</th>\n",
              "      <th>accZ</th>\n",
              "      <th>gyroX</th>\n",
              "      <th>gyroY</th>\n",
              "      <th>gyroZ</th>\n",
              "      <th>linAccX</th>\n",
              "      <th>linAccY</th>\n",
              "      <th>linAccZ</th>\n",
              "      <th>magX</th>\n",
              "      <th>magY</th>\n",
              "      <th>magZ</th>\n",
              "      <th>rot1</th>\n",
              "      <th>rot2</th>\n",
              "      <th>rot3</th>\n",
              "      <th>rot4</th>\n",
              "      <th>rot5</th>\n",
              "      <th>rot6</th>\n",
              "      <th>rot7</th>\n",
              "      <th>rot8</th>\n",
              "      <th>rot9</th>\n",
              "    </tr>\n",
              "  </thead>\n",
              "  <tbody>\n",
              "    <tr>\n",
              "      <th>0</th>\n",
              "      <td>2</td>\n",
              "      <td>1481931708065445</td>\n",
              "      <td>0.59877</td>\n",
              "      <td>1.188060</td>\n",
              "      <td>10.36690</td>\n",
              "      <td>0.000000</td>\n",
              "      <td>0.000000</td>\n",
              "      <td>0.000000</td>\n",
              "      <td>0.000000</td>\n",
              "      <td>0.000000</td>\n",
              "      <td>0.000000</td>\n",
              "      <td>0.0000</td>\n",
              "      <td>0.00000</td>\n",
              "      <td>0.0000</td>\n",
              "      <td>0.000000</td>\n",
              "      <td>0.000000</td>\n",
              "      <td>0.000000</td>\n",
              "      <td>0.000000</td>\n",
              "      <td>0.000000</td>\n",
              "      <td>0.000000</td>\n",
              "      <td>0.000000</td>\n",
              "      <td>0.0000</td>\n",
              "      <td>0.00000</td>\n",
              "    </tr>\n",
              "    <tr>\n",
              "      <th>1</th>\n",
              "      <td>2</td>\n",
              "      <td>1481931801754410</td>\n",
              "      <td>0.59877</td>\n",
              "      <td>1.188060</td>\n",
              "      <td>10.36690</td>\n",
              "      <td>-0.133881</td>\n",
              "      <td>-0.158142</td>\n",
              "      <td>0.003845</td>\n",
              "      <td>0.000000</td>\n",
              "      <td>0.000000</td>\n",
              "      <td>0.000000</td>\n",
              "      <td>0.0000</td>\n",
              "      <td>0.00000</td>\n",
              "      <td>0.0000</td>\n",
              "      <td>0.000000</td>\n",
              "      <td>0.000000</td>\n",
              "      <td>0.000000</td>\n",
              "      <td>0.000000</td>\n",
              "      <td>0.000000</td>\n",
              "      <td>0.000000</td>\n",
              "      <td>0.000000</td>\n",
              "      <td>0.0000</td>\n",
              "      <td>0.00000</td>\n",
              "    </tr>\n",
              "    <tr>\n",
              "      <th>2</th>\n",
              "      <td>2</td>\n",
              "      <td>1481931921200211</td>\n",
              "      <td>0.59877</td>\n",
              "      <td>1.188060</td>\n",
              "      <td>10.36690</td>\n",
              "      <td>-0.133881</td>\n",
              "      <td>-0.158142</td>\n",
              "      <td>0.003845</td>\n",
              "      <td>0.000000</td>\n",
              "      <td>0.000000</td>\n",
              "      <td>0.000000</td>\n",
              "      <td>21.8781</td>\n",
              "      <td>2.69012</td>\n",
              "      <td>-33.0673</td>\n",
              "      <td>0.000000</td>\n",
              "      <td>0.000000</td>\n",
              "      <td>0.000000</td>\n",
              "      <td>0.000000</td>\n",
              "      <td>0.000000</td>\n",
              "      <td>0.000000</td>\n",
              "      <td>0.000000</td>\n",
              "      <td>0.0000</td>\n",
              "      <td>0.00000</td>\n",
              "    </tr>\n",
              "    <tr>\n",
              "      <th>3</th>\n",
              "      <td>2</td>\n",
              "      <td>1481931999844009</td>\n",
              "      <td>-1.12267</td>\n",
              "      <td>0.899796</td>\n",
              "      <td>9.53133</td>\n",
              "      <td>0.216583</td>\n",
              "      <td>-0.127029</td>\n",
              "      <td>-0.010010</td>\n",
              "      <td>-0.989412</td>\n",
              "      <td>-0.366415</td>\n",
              "      <td>-0.378374</td>\n",
              "      <td>21.8781</td>\n",
              "      <td>2.69012</td>\n",
              "      <td>-33.0673</td>\n",
              "      <td>-0.302774</td>\n",
              "      <td>0.945035</td>\n",
              "      <td>-0.123440</td>\n",
              "      <td>0.359368</td>\n",
              "      <td>-0.006755</td>\n",
              "      <td>-0.933171</td>\n",
              "      <td>-0.882713</td>\n",
              "      <td>-0.3269</td>\n",
              "      <td>-0.33757</td>\n",
              "    </tr>\n",
              "    <tr>\n",
              "      <th>4</th>\n",
              "      <td>2</td>\n",
              "      <td>1481932122646744</td>\n",
              "      <td>-1.12267</td>\n",
              "      <td>0.899796</td>\n",
              "      <td>9.53133</td>\n",
              "      <td>0.216583</td>\n",
              "      <td>-0.127029</td>\n",
              "      <td>-0.010010</td>\n",
              "      <td>-0.989412</td>\n",
              "      <td>-0.366415</td>\n",
              "      <td>-0.378374</td>\n",
              "      <td>22.4777</td>\n",
              "      <td>2.24152</td>\n",
              "      <td>-33.6685</td>\n",
              "      <td>-0.297911</td>\n",
              "      <td>0.944858</td>\n",
              "      <td>-0.135986</td>\n",
              "      <td>0.363410</td>\n",
              "      <td>-0.019471</td>\n",
              "      <td>-0.931426</td>\n",
              "      <td>-0.882713</td>\n",
              "      <td>-0.3269</td>\n",
              "      <td>-0.33757</td>\n",
              "    </tr>\n",
              "  </tbody>\n",
              "</table>\n",
              "</div>"
            ],
            "text/plain": [
              "   id              time     accX      accY  ...      rot6      rot7    rot8     rot9\n",
              "0   2  1481931708065445  0.59877  1.188060  ...  0.000000  0.000000  0.0000  0.00000\n",
              "1   2  1481931801754410  0.59877  1.188060  ...  0.000000  0.000000  0.0000  0.00000\n",
              "2   2  1481931921200211  0.59877  1.188060  ...  0.000000  0.000000  0.0000  0.00000\n",
              "3   2  1481931999844009 -1.12267  0.899796  ... -0.933171 -0.882713 -0.3269 -0.33757\n",
              "4   2  1481932122646744 -1.12267  0.899796  ... -0.931426 -0.882713 -0.3269 -0.33757\n",
              "\n",
              "[5 rows x 23 columns]"
            ]
          },
          "metadata": {
            "tags": []
          },
          "execution_count": 49
        }
      ]
    },
    {
      "cell_type": "code",
      "metadata": {
        "id": "DoxEXIBe2g5o",
        "colab_type": "code",
        "colab": {}
      },
      "source": [
        "mdata=mob.iloc[:,2:11].values"
      ],
      "execution_count": 0,
      "outputs": []
    },
    {
      "cell_type": "code",
      "metadata": {
        "id": "WX0CbUZd20uK",
        "colab_type": "code",
        "outputId": "252ab0a8-1909-455b-d7d6-ca27eebd68b3",
        "colab": {
          "base_uri": "https://localhost:8080/",
          "height": 282
        }
      },
      "source": [
        "plt.plot(mdata[:,0])"
      ],
      "execution_count": 0,
      "outputs": [
        {
          "output_type": "execute_result",
          "data": {
            "text/plain": [
              "[<matplotlib.lines.Line2D at 0x7fe56aaedd68>]"
            ]
          },
          "metadata": {
            "tags": []
          },
          "execution_count": 65
        },
        {
          "output_type": "display_data",
          "data": {
            "image/png": "[encoded data removed]",
            "text/plain": [
              "<Figure size 432x288 with 1 Axes>"
            ]
          },
          "metadata": {
            "tags": []
          }
        }
      ]
    }
  ]
}